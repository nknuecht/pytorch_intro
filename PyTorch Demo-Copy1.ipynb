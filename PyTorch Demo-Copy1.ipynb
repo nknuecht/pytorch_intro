{
 "cells": [
  {
   "cell_type": "markdown",
   "metadata": {},
   "source": [
    "# Installation"
   ]
  },
  {
   "cell_type": "code",
   "execution_count": null,
   "metadata": {},
   "outputs": [],
   "source": [
    "!pip3 install torch torchvision"
   ]
  },
  {
   "cell_type": "markdown",
   "metadata": {
    "collapsed": true
   },
   "source": [
    "# Deep learning architectures"
   ]
  },
  {
   "cell_type": "markdown",
   "metadata": {},
   "source": [
    "We will construct a number of different network architectures and compare their performance. For all of the following we perform a coarse hyperparameter selection (by hand) using the test set: you should **report the hyperparameters you found**, and **plot the training and test classification accuracy as a function of iteration.**"
   ]
  },
  {
   "cell_type": "code",
   "execution_count": 271,
   "metadata": {},
   "outputs": [],
   "source": [
    "import numpy as np\n",
    "import seaborn as sns\n",
    "sns.set_style(\"darkgrid\")\n",
    "import random\n",
    "\n",
    "\n",
    "import torch\n",
    "import torchvision\n",
    "import torchvision.transforms as transforms\n",
    "\n",
    "\n",
    "import torch\n",
    "import torchvision\n",
    "import torchvision.transforms as transforms\n",
    "from torch.autograd import Variable # not found in torch 0.4\n",
    "import torch.nn as nn\n",
    "import torch.nn.functional as F\n",
    "import torch.optim as optim\n",
    "\n",
    "import matplotlib.pyplot as plt\n",
    "%matplotlib inline"
   ]
  },
  {
   "cell_type": "code",
   "execution_count": 306,
   "metadata": {},
   "outputs": [],
   "source": [
    "def get_data(batch_size, CIFAR10=True):\n",
    "    \n",
    "    if CIFAR10 == True:\n",
    "        transform = transforms.Compose([\n",
    "        transforms.Pad(4),\n",
    "        transforms.RandomHorizontalFlip(),\n",
    "        transforms.RandomCrop(32),\n",
    "        #transforms.Normalize((0.5, 0.5, 0.5), (0.5, 0.5, 0.5)),\n",
    "        transforms.ToTensor()])\n",
    "        \n",
    "        trainset = torchvision.datasets.CIFAR10(root='./data', train=True, download=True, transform=transform)\n",
    "        testset = torchvision.datasets.CIFAR10(root='./data', train=False, download=True, transform=transform)\n",
    "        \n",
    "        \n",
    "        train_indices = random.sample(range(0, len(trainset)), int(len(trainset)/10))\n",
    "        test_indices = random.sample(range(0, len(testset)), int(len(testset)/10))\n",
    "        \n",
    "        trainloader = torch.utils.data.DataLoader(dataset=trainset, batch_size=batch_size, shuffle=False, sampler=SubsetRandomSampler(train_indices))\n",
    "        testloader = torch.utils.data.DataLoader(dataset=testset, batch_size=batch_size, shuffle=False, sampler=SubsetRandomSampler(test_indices))\n",
    "        \n",
    "#         trainloader = torch.utils.data.DataLoader(trainset, batch_size=batch_size, shuffle=True, num_workers=2)\n",
    "#         testloader = torch.utils.data.DataLoader(testset, batch_size=batch_size, shuffle=False, num_workers=2)\n",
    "\n",
    "        \n",
    "        \n",
    "        classes = ('plane', 'car', 'bird', 'cat', 'deer', 'dog', 'frog', 'horse', 'ship', 'truck')\n",
    "        data_iterator = iter(trainloader)\n",
    "        images, labels = data_iterator.next()\n",
    "        img_shape = (images.shape[2], images.shape[3], images.shape[1])\n",
    "        \n",
    "    else:\n",
    "        transform = transforms.Compose([\n",
    "            transforms.Pad(2),\n",
    "            transforms.ToTensor()])\n",
    "        \n",
    "        trainset = torchvision.datasets.MNIST(root='../../data/',\n",
    "                                                   train=True, \n",
    "                                                   transform=transform,\n",
    "                                                   download=True)\n",
    "\n",
    "        testset = torchvision.datasets.MNIST(root='../../data/',\n",
    "                                                  train=False, \n",
    "                                                  transform=transform)\n",
    "\n",
    "        # Data loader\n",
    "        train_indices = random.sample(range(0, len(trainset)), int(len(trainset)/10))\n",
    "        test_indices = random.sample(range(0, len(testset)), int(len(testset)/10))\n",
    "\n",
    "        trainloader = torch.utils.data.DataLoader(dataset=trainset, batch_size=batch_size, shuffle=False, sampler=SubsetRandomSampler(train_indices))\n",
    "        testloader = torch.utils.data.DataLoader(dataset=testset, batch_size=batch_size, shuffle=False, sampler=SubsetRandomSampler(test_indices))\n",
    "\n",
    "        classes = ('0', '1', '2', '3', '4', '5', '6', '7', '8', '9')\n",
    "        \n",
    "        data_iterator = iter(trainloader)\n",
    "        images, labels = data_iterator.next()\n",
    "        img_shape = (images.shape[2], images.shape[3], images.shape[1])\n",
    "    \n",
    "    return trainloader, testloader, classes, img_shape"
   ]
  },
  {
   "cell_type": "code",
   "execution_count": 307,
   "metadata": {},
   "outputs": [
    {
     "name": "stdout",
     "output_type": "stream",
     "text": [
      "Files already downloaded and verified\n",
      "Files already downloaded and verified\n"
     ]
    },
    {
     "data": {
      "text/plain": [
       "(32, 32, 3)"
      ]
     },
     "execution_count": 307,
     "metadata": {},
     "output_type": "execute_result"
    }
   ],
   "source": [
    "trainloader, testloader, classes, img_shape = get_data(CIFAR10=True, batch_size=4)\n",
    "img_shape"
   ]
  },
  {
   "cell_type": "markdown",
   "metadata": {},
   "source": [
    "Let's look at some images"
   ]
  },
  {
   "cell_type": "code",
   "execution_count": 308,
   "metadata": {
    "code_folding": []
   },
   "outputs": [
    {
     "name": "stdout",
     "output_type": "stream",
     "text": [
      "              dog              bird             truck             horse\n"
     ]
    },
    {
     "data": {
      "image/png": "[encoded data removed]",
      "text/plain": [
       "<matplotlib.figure.Figure at 0x7f977c2d2390>"
      ]
     },
     "metadata": {},
     "output_type": "display_data"
    }
   ],
   "source": [
    "def imshow(img):\n",
    "    npimg = img.numpy()\n",
    "    norm_img = (npimg - np.min(npimg))/(np.max(npimg) - np.min(npimg)) # min-max normalization\n",
    "    fig = plt.figure()\n",
    "    fig.set_size_inches([12, 6])\n",
    "    plt.imshow(np.transpose(norm_img, (1, 2, 0)))\n",
    "\n",
    "# get some random training images\n",
    "data_iterator = iter(trainloader)\n",
    "images, labels = data_iterator.next()\n",
    "\n",
    "imshow(torchvision.utils.make_grid(images)) # show images\n",
    "print(' '.join('%17s' % classes[labels[j]] for j in range(4))) # print labels\n",
    "plt.show()"
   ]
  },
  {
   "cell_type": "code",
   "execution_count": 310,
   "metadata": {},
   "outputs": [
    {
     "name": "stdout",
     "output_type": "stream",
     "text": [
      "Files already downloaded and verified\n",
      "Files already downloaded and verified\n"
     ]
    },
    {
     "data": {
      "text/plain": [
       "(32, 32, 3)"
      ]
     },
     "execution_count": 310,
     "metadata": {},
     "output_type": "execute_result"
    }
   ],
   "source": [
    "trainloader, testloader, classs, img_shape = get_data(CIFAR10=True, batch_size=64)\n",
    "img_shape"
   ]
  },
  {
   "cell_type": "code",
   "execution_count": 285,
   "metadata": {},
   "outputs": [
    {
     "data": {
      "text/plain": [
       "torch.Size([4, 1, 32, 32])"
      ]
     },
     "execution_count": 285,
     "metadata": {},
     "output_type": "execute_result"
    }
   ],
   "source": [
    "images.shape"
   ]
  },
  {
   "cell_type": "markdown",
   "metadata": {},
   "source": [
    "### Part (a) - Logistic Regression"
   ]
  },
  {
   "cell_type": "markdown",
   "metadata": {},
   "source": [
    "**Fully connected output, $0$ hidden layers (logistic regression):** \n",
    "\n",
    "We begin with the simplest network possible that has no hidden layers and simply linearly maps the input layer to the output layer. That is, conceptually it could be written as\n",
    "\n",
    "$$ x^{out} = W\\cdot \\text{vec}(x^{in}) + b $$\n",
    "\n",
    "where $x^{out} \\in \\mathbb{R}^{10}$, $x^{in} \\in \\mathbb{R}^{32 \\times 32 \\times 3}$, $W \\in \\mathbb{R}^{10, 3072}$, $b \\in \\mathbb{R}^{10}$ where $3072 = 32 \\cdot 32 \\cdot 3$. For a tensor $x \\in \\mathbb{R}^{a \\times b \\times c}$, we let vec$(x) \\in \\mathbb{R}^{abc}$ be the reshaped from a tensor into a vector (in an arbitrary but consistent pattern)."
   ]
  },
  {
   "cell_type": "markdown",
   "metadata": {},
   "source": [
    "#### Model for part (a)"
   ]
  },
  {
   "cell_type": "markdown",
   "metadata": {},
   "source": [
    "Define model architecture"
   ]
  },
  {
   "cell_type": "code",
   "execution_count": 286,
   "metadata": {},
   "outputs": [],
   "source": [
    "class LinearRegression(nn.Module):\n",
    "    def __init__(self):\n",
    "        super(LinearRegression, self).__init__()\n",
    "        self.linear = nn.Linear(np.prod(img_shape), 10)\n",
    "\n",
    "    def forward(self, x):\n",
    "        x = x.view(-1, np.prod(img_shape))\n",
    "        out = self.linear(x)\n",
    "        return out"
   ]
  },
  {
   "cell_type": "markdown",
   "metadata": {},
   "source": [
    "Compile model"
   ]
  },
  {
   "cell_type": "code",
   "execution_count": 287,
   "metadata": {},
   "outputs": [],
   "source": [
    "#lr_net = LinearRegression().cuda()\n",
    "device = torch.device(\"cuda:0\" if torch.cuda.is_available() else \"cpu\")\n",
    "lr_net = LinearRegression().to(device)"
   ]
  },
  {
   "cell_type": "markdown",
   "metadata": {},
   "source": [
    "Choose Optimizer"
   ]
  },
  {
   "cell_type": "code",
   "execution_count": 288,
   "metadata": {},
   "outputs": [],
   "source": [
    "criterion = nn.CrossEntropyLoss()\n",
    "optimizer = optim.SGD(lr_net.parameters(), lr=0.001, momentum=0.9)"
   ]
  },
  {
   "cell_type": "markdown",
   "metadata": {},
   "source": [
    "Designate your performance metric (accuracy in our case)"
   ]
  },
  {
   "cell_type": "markdown",
   "metadata": {},
   "source": [
    "Train + Evaluate concurrently"
   ]
  },
  {
   "cell_type": "code",
   "execution_count": 289,
   "metadata": {
    "code_folding": []
   },
   "outputs": [
    {
     "name": "stdout",
     "output_type": "stream",
     "text": [
      "Accuracy of the network on the 10000 test images: 73 %\n",
      "Finished Training\n"
     ]
    }
   ],
   "source": [
    "device = torch.device(\"cuda:0\" if torch.cuda.is_available() else \"cpu\")\n",
    "\n",
    "train_accuracy, test_accuracy, loss_list = [], [], []\n",
    "for epoch in range(1):  # loop over the dataset multiple times\n",
    "\n",
    "    running_loss = 0.0\n",
    "    for i, data in enumerate(trainloader, 0):\n",
    "        \n",
    "        # get the inputs       \n",
    "        inputs, labels = data\n",
    "        inputs, labels = inputs.to(device), labels.to(device)\n",
    "\n",
    "        # Forward pass\n",
    "        outputs = lr_net(inputs)\n",
    "        loss = criterion(outputs, labels)\n",
    "      \n",
    "        # Backward and optimize\n",
    "        optimizer.zero_grad()\n",
    "        loss.backward()\n",
    "        optimizer.step()\n",
    "\n",
    "        # print statistics\n",
    "        running_loss += loss.item()\n",
    "     \n",
    "    correct = 0\n",
    "    total = 0\n",
    "    with torch.no_grad():\n",
    "        for data in testloader:\n",
    "            inputs, labels = data\n",
    "            inputs, labels = inputs.to(device), labels.to(device)\n",
    "            outputs = lr_net(inputs)\n",
    "            _, predicted = torch.max(outputs.data, 1)\n",
    "            total += labels.size(0)\n",
    "            correct += (predicted == labels).sum().item()\n",
    "\n",
    "    print('Accuracy of the network on the 10000 test images: %d %%' % (\n",
    "        100 * correct / total))       \n",
    "print('Finished Training')"
   ]
  },
  {
   "cell_type": "code",
   "execution_count": 290,
   "metadata": {},
   "outputs": [
    {
     "name": "stdout",
     "output_type": "stream",
     "text": [
      "Accuracy of     0 : 92 %\n",
      "Accuracy of     1 : 85 %\n",
      "Accuracy of     2 : 75 %\n",
      "Accuracy of     3 : 50 %\n",
      "Accuracy of     4 : 66 %\n",
      "Accuracy of     5 : 60 %\n",
      "Accuracy of     6 : 80 %\n",
      "Accuracy of     7 : 100 %\n",
      "Accuracy of     8 : 40 %\n",
      "Accuracy of     9 : 100 %\n"
     ]
    }
   ],
   "source": [
    "class_correct = list(0. for i in range(10))\n",
    "class_total = list(0. for i in range(10))\n",
    "with torch.no_grad():\n",
    "    for data in testloader:\n",
    "        inputs, labels = data\n",
    "        inputs, labels = inputs.to(device), labels.to(device)\n",
    "        outputs = lr_net(inputs)\n",
    "        _, predicted = torch.max(outputs, 1)\n",
    "        c = (predicted == labels).squeeze()\n",
    "        for i in range(4):\n",
    "            label = labels[i]\n",
    "            class_correct[label] += c[i].item()\n",
    "            class_total[label] += 1\n",
    "\n",
    "\n",
    "for i in range(10):\n",
    "    print('Accuracy of %5s : %2d %%' % (\n",
    "        classes[i], 100 * class_correct[i] / class_total[i]))"
   ]
  },
  {
   "cell_type": "code",
   "execution_count": 291,
   "metadata": {},
   "outputs": [],
   "source": [
    "def class_accuracies(dataloader, model):\n",
    "    class_correct = list(0. for i in range(10))\n",
    "    class_total = list(0. for i in range(10))\n",
    "    with torch.no_grad():\n",
    "        for data in dataloader:\n",
    "            inputs, labels = data\n",
    "            inputs, labels = inputs.to(device), labels.to(device)\n",
    "            outputs = model(inputs)\n",
    "            _, predicted = torch.max(outputs, 1)\n",
    "            c = (predicted == labels).squeeze()\n",
    "            for i in range(4):\n",
    "                label = labels[i]\n",
    "                class_correct[label] += c[i].item()\n",
    "                class_total[label] += 1\n",
    "\n",
    "\n",
    "    for i in range(10):\n",
    "        print('Accuracy of %5s : %2d %%' % (\n",
    "            classes[i], 100 * class_correct[i] / class_total[i]))"
   ]
  },
  {
   "cell_type": "markdown",
   "metadata": {},
   "source": [
    "**The training stage can be abstracted.** Notice (almost) nothing is hardcoded to the specific task."
   ]
  },
  {
   "cell_type": "code",
   "execution_count": 292,
   "metadata": {
    "code_folding": []
   },
   "outputs": [],
   "source": [
    "def evaluate(dataloader, model, device):\n",
    "    correct, total = 0, 0 \n",
    "    with torch.no_grad():\n",
    "        for data in dataloader:\n",
    "            inputs, labels = data\n",
    "            inputs, labels = inputs.to(device), labels.to(device)\n",
    "            outputs = model(inputs)\n",
    "            _, predicted = torch.max(outputs.data, 1)\n",
    "            total += labels.size(0)\n",
    "            correct += (predicted == labels.to(device)).sum().item()\n",
    "    return correct/total\n",
    "\n",
    "# For updating learning rate\n",
    "def update_lr(optimizer, lr):    \n",
    "    for param_group in optimizer.param_groups:\n",
    "        param_group['lr'] = lr\n",
    "\n",
    "        \n",
    "        \n",
    "def train(model, trainloader, testloader, criterion, optimizer, device, \n",
    "          epochs=1, weight_decay=False, print_freq=1):\n",
    "    \n",
    "    train_accuracy, test_accuracy, loss_list = [], [], []\n",
    "    for epoch in range(epochs):  # loop over the dataset multiple times\n",
    "        running_loss = 0.0\n",
    "        for i, (inputs, labels) in enumerate(trainloader, 0):\n",
    "            # wrap the inputs       \n",
    "            inputs, labels = inputs.to(device), labels.to(device)\n",
    "      \n",
    "            # Forward pass\n",
    "            outputs = model(inputs)\n",
    "            loss = criterion(outputs, labels)\n",
    "\n",
    "            # Backward and optimize\n",
    "            optimizer.zero_grad()\n",
    "            loss.backward()\n",
    "            optimizer.step()\n",
    "            \n",
    "            running_loss += loss.item()\n",
    "\n",
    "        # Decay learning rate\n",
    "        if weight_decay and (epoch+1) % 20 == 0:\n",
    "            curr_lr /= 3\n",
    "            update_lr(optimizer, curr_lr)\n",
    "        \n",
    "        if epoch % print_freq == 0:\n",
    "            train_acc = evaluate(trainloader, model, device) \n",
    "            train_accuracy.append(train_acc)\n",
    "\n",
    "            test_acc = evaluate(testloader, model, device)\n",
    "            test_accuracy.append(test_acc)\n",
    "            loss_list.append(loss.item())\n",
    "        \n",
    "            print('[Epoch %2d ||  Train acc: %d %% | Test acc: %d %% | loss: %.3f ]' \n",
    "                              % (epoch, train_acc*100, test_acc*100, \n",
    "                                 running_loss/(len(trainloader))))\n",
    "\n",
    "    print('Finished Training')\n",
    "    return model, train_accuracy, test_accuracy, loss_list"
   ]
  },
  {
   "cell_type": "markdown",
   "metadata": {},
   "source": [
    "Train `lr_net` again:"
   ]
  },
  {
   "cell_type": "code",
   "execution_count": 293,
   "metadata": {},
   "outputs": [],
   "source": [
    "device = torch.device(\"cuda:0\" if torch.cuda.is_available() else \"cpu\")\n",
    "lr_net = LinearRegression().to(device)"
   ]
  },
  {
   "cell_type": "code",
   "execution_count": 294,
   "metadata": {},
   "outputs": [],
   "source": [
    "# loss function and optimizer\n",
    "criterion = nn.CrossEntropyLoss()\n",
    "optimizer = optim.SGD(lr_net.parameters(), lr=0.001, momentum=0.9)"
   ]
  },
  {
   "cell_type": "code",
   "execution_count": 295,
   "metadata": {},
   "outputs": [
    {
     "name": "stdout",
     "output_type": "stream",
     "text": [
      "[Epoch  0 ||  Train acc: 73 % | Test acc: 73 % | loss: 1.993 ]\n",
      "[Epoch  1 ||  Train acc: 78 % | Test acc: 78 % | loss: 1.429 ]\n",
      "[Epoch  2 ||  Train acc: 81 % | Test acc: 81 % | loss: 1.141 ]\n",
      "[Epoch  3 ||  Train acc: 82 % | Test acc: 82 % | loss: 0.978 ]\n",
      "[Epoch  4 ||  Train acc: 83 % | Test acc: 83 % | loss: 0.873 ]\n",
      "[Epoch  5 ||  Train acc: 84 % | Test acc: 84 % | loss: 0.800 ]\n",
      "[Epoch  6 ||  Train acc: 84 % | Test acc: 83 % | loss: 0.745 ]\n",
      "[Epoch  7 ||  Train acc: 85 % | Test acc: 84 % | loss: 0.703 ]\n",
      "[Epoch  8 ||  Train acc: 85 % | Test acc: 84 % | loss: 0.669 ]\n",
      "[Epoch  9 ||  Train acc: 85 % | Test acc: 85 % | loss: 0.641 ]\n",
      "Finished Training\n",
      "11.5 seconds\n"
     ]
    }
   ],
   "source": [
    "import time\n",
    "start = time.time()\n",
    "\n",
    "lr_net, train_acc, test_acc, losses = train(lr_net, trainloader, testloader,\n",
    "                                            criterion, optimizer, device, \n",
    "                                            epochs=10, print_freq=1)\n",
    "\n",
    "end = time.time()\n",
    "print('%.1f seconds' % (end - start))"
   ]
  },
  {
   "cell_type": "code",
   "execution_count": 296,
   "metadata": {},
   "outputs": [
    {
     "data": {
      "image/png": "[encoded data removed]",
      "text/plain": [
       "<matplotlib.figure.Figure at 0x7f9719d6ff60>"
      ]
     },
     "metadata": {},
     "output_type": "display_data"
    }
   ],
   "source": [
    "plot_acc(train_acc, test_acc, losses)\n",
    "#plot_acc(train_acc, test_acc, losses, save=True, outfile='lr_net.png')"
   ]
  },
  {
   "cell_type": "code",
   "execution_count": 297,
   "metadata": {},
   "outputs": [
    {
     "name": "stdout",
     "output_type": "stream",
     "text": [
      "Accuracy of     0 : 90 %\n",
      "Accuracy of     1 : 100 %\n",
      "Accuracy of     2 : 100 %\n",
      "Accuracy of     3 : 100 %\n",
      "Accuracy of     4 : 75 %\n",
      "Accuracy of     5 : 50 %\n",
      "Accuracy of     6 : 87 %\n",
      "Accuracy of     7 : 100 %\n",
      "Accuracy of     8 : 66 %\n",
      "Accuracy of     9 : 88 %\n"
     ]
    }
   ],
   "source": [
    "class_accuracies(testloader, lr_net)"
   ]
  },
  {
   "cell_type": "markdown",
   "metadata": {},
   "source": [
    "### Part (b) - MLP\n",
    "\n",
    "Fully connected output, 1 fully connected hidden layer: we will have one hidden layer denoted as $x^{hidden} \\in \\mathbb{R}^M$ where $M$ will be a hyperparameter you choose ($M$ could be in the hundreds). The nonlinearity applied to the hidden layer will be the relu (relu$(x) = \\max\\{0, x\\}$, elementwise). Conceptually, one cold write this network as:\n",
    "\n",
    "$$ x^{out} = W_2\\text{relu}(W_1\\text{vec}(x^{in}) + b_1) + b_2$$\n",
    "\n",
    "where $W_1 \\in \\mathbb{R}^{M \\times 3072}, b_1 \\in \\mathbb{R}^M, W_2 \\in \\mathbb{R}^{10 \\times M}, b_2 \\in \\mathbb{R}^{10}$."
   ]
  },
  {
   "cell_type": "code",
   "execution_count": 298,
   "metadata": {},
   "outputs": [],
   "source": [
    "# choose the number of hidden layers\n",
    "M = 128"
   ]
  },
  {
   "cell_type": "code",
   "execution_count": 299,
   "metadata": {},
   "outputs": [],
   "source": [
    "class OneHidden(nn.Module):\n",
    "    def __init__(self):\n",
    "        super(OneHidden, self).__init__()\n",
    "        self.fc1 = nn.Linear(np.prod(img_shape), M)\n",
    "        self.fc2 = nn.Linear(M, 10)\n",
    "\n",
    "    def forward(self, x):\n",
    "        x = x.view(-1, np.prod(img_shape))\n",
    "        x = F.relu(self.fc1(x))\n",
    "        x = self.fc2(x)\n",
    "        return x"
   ]
  },
  {
   "cell_type": "code",
   "execution_count": 300,
   "metadata": {},
   "outputs": [],
   "source": [
    "device = torch.device(\"cuda:0\" if torch.cuda.is_available() else \"cpu\")\n",
    "one_hidden_net = OneHidden().to(device)"
   ]
  },
  {
   "cell_type": "code",
   "execution_count": 301,
   "metadata": {},
   "outputs": [],
   "source": [
    "# loss function and optimizer\n",
    "criterion = nn.CrossEntropyLoss()\n",
    "optimizer = optim.SGD(one_hidden_net.parameters(), lr=0.001, momentum=0.9)\n",
    "#optimizer = optim.Adam(net.parameters(), betas = (0.9, 0.999))"
   ]
  },
  {
   "cell_type": "code",
   "execution_count": 303,
   "metadata": {},
   "outputs": [
    {
     "name": "stdout",
     "output_type": "stream",
     "text": [
      "[Epoch  0 ||  Train acc: 85 % | Test acc: 85 % | loss: 0.619 ]\n",
      "[Epoch  1 ||  Train acc: 85 % | Test acc: 86 % | loss: 0.581 ]\n",
      "[Epoch  2 ||  Train acc: 86 % | Test acc: 86 % | loss: 0.550 ]\n",
      "[Epoch  3 ||  Train acc: 86 % | Test acc: 87 % | loss: 0.523 ]\n",
      "[Epoch  4 ||  Train acc: 87 % | Test acc: 87 % | loss: 0.501 ]\n",
      "[Epoch  5 ||  Train acc: 87 % | Test acc: 87 % | loss: 0.482 ]\n",
      "[Epoch  6 ||  Train acc: 88 % | Test acc: 87 % | loss: 0.465 ]\n",
      "[Epoch  7 ||  Train acc: 88 % | Test acc: 88 % | loss: 0.450 ]\n",
      "[Epoch  8 ||  Train acc: 88 % | Test acc: 88 % | loss: 0.438 ]\n",
      "[Epoch  9 ||  Train acc: 88 % | Test acc: 88 % | loss: 0.425 ]\n",
      "[Epoch 10 ||  Train acc: 88 % | Test acc: 88 % | loss: 0.415 ]\n",
      "[Epoch 11 ||  Train acc: 89 % | Test acc: 88 % | loss: 0.405 ]\n",
      "[Epoch 12 ||  Train acc: 89 % | Test acc: 88 % | loss: 0.396 ]\n",
      "[Epoch 13 ||  Train acc: 89 % | Test acc: 88 % | loss: 0.387 ]\n",
      "[Epoch 14 ||  Train acc: 89 % | Test acc: 88 % | loss: 0.381 ]\n",
      "[Epoch 15 ||  Train acc: 89 % | Test acc: 88 % | loss: 0.375 ]\n",
      "[Epoch 16 ||  Train acc: 90 % | Test acc: 89 % | loss: 0.367 ]\n",
      "[Epoch 17 ||  Train acc: 90 % | Test acc: 88 % | loss: 0.360 ]\n",
      "[Epoch 18 ||  Train acc: 90 % | Test acc: 89 % | loss: 0.355 ]\n",
      "[Epoch 19 ||  Train acc: 90 % | Test acc: 89 % | loss: 0.350 ]\n",
      "[Epoch 20 ||  Train acc: 90 % | Test acc: 89 % | loss: 0.345 ]\n",
      "[Epoch 21 ||  Train acc: 90 % | Test acc: 89 % | loss: 0.340 ]\n",
      "[Epoch 22 ||  Train acc: 90 % | Test acc: 89 % | loss: 0.335 ]\n",
      "[Epoch 23 ||  Train acc: 90 % | Test acc: 89 % | loss: 0.330 ]\n",
      "[Epoch 24 ||  Train acc: 91 % | Test acc: 89 % | loss: 0.326 ]\n",
      "[Epoch 25 ||  Train acc: 91 % | Test acc: 89 % | loss: 0.322 ]\n",
      "[Epoch 26 ||  Train acc: 91 % | Test acc: 89 % | loss: 0.319 ]\n",
      "[Epoch 27 ||  Train acc: 91 % | Test acc: 89 % | loss: 0.314 ]\n",
      "[Epoch 28 ||  Train acc: 91 % | Test acc: 89 % | loss: 0.311 ]\n",
      "[Epoch 29 ||  Train acc: 91 % | Test acc: 89 % | loss: 0.307 ]\n",
      "[Epoch 30 ||  Train acc: 91 % | Test acc: 89 % | loss: 0.304 ]\n",
      "[Epoch 31 ||  Train acc: 91 % | Test acc: 90 % | loss: 0.301 ]\n",
      "[Epoch 32 ||  Train acc: 91 % | Test acc: 90 % | loss: 0.298 ]\n",
      "[Epoch 33 ||  Train acc: 91 % | Test acc: 89 % | loss: 0.295 ]\n",
      "[Epoch 34 ||  Train acc: 92 % | Test acc: 89 % | loss: 0.292 ]\n",
      "[Epoch 35 ||  Train acc: 91 % | Test acc: 90 % | loss: 0.289 ]\n",
      "[Epoch 36 ||  Train acc: 92 % | Test acc: 90 % | loss: 0.287 ]\n",
      "[Epoch 37 ||  Train acc: 92 % | Test acc: 90 % | loss: 0.284 ]\n",
      "[Epoch 38 ||  Train acc: 92 % | Test acc: 90 % | loss: 0.281 ]\n",
      "[Epoch 39 ||  Train acc: 92 % | Test acc: 90 % | loss: 0.279 ]\n",
      "[Epoch 40 ||  Train acc: 92 % | Test acc: 90 % | loss: 0.277 ]\n",
      "[Epoch 41 ||  Train acc: 92 % | Test acc: 90 % | loss: 0.273 ]\n",
      "[Epoch 42 ||  Train acc: 92 % | Test acc: 90 % | loss: 0.272 ]\n",
      "[Epoch 43 ||  Train acc: 92 % | Test acc: 90 % | loss: 0.269 ]\n",
      "[Epoch 44 ||  Train acc: 92 % | Test acc: 90 % | loss: 0.267 ]\n",
      "[Epoch 45 ||  Train acc: 92 % | Test acc: 90 % | loss: 0.265 ]\n",
      "[Epoch 46 ||  Train acc: 92 % | Test acc: 90 % | loss: 0.262 ]\n",
      "[Epoch 47 ||  Train acc: 92 % | Test acc: 90 % | loss: 0.261 ]\n",
      "[Epoch 48 ||  Train acc: 92 % | Test acc: 90 % | loss: 0.258 ]\n",
      "[Epoch 49 ||  Train acc: 93 % | Test acc: 90 % | loss: 0.256 ]\n",
      "Finished Training\n",
      "61.4 seconds\n"
     ]
    }
   ],
   "source": [
    "start = time.time()\n",
    "one_hidden_net, train_acc, test_acc, losses = train(one_hidden_net, trainloader, testloader,\n",
    "                                           criterion, optimizer, device=device,\n",
    "                                           epochs=50, print_freq=1)\n",
    "end = time.time()\n",
    "print('%.1f seconds' % (end - start))"
   ]
  },
  {
   "cell_type": "code",
   "execution_count": 247,
   "metadata": {},
   "outputs": [
    {
     "data": {
      "image/png": "[encoded data removed]",
      "text/plain": [
       "<matplotlib.figure.Figure at 0x7f971a19b400>"
      ]
     },
     "metadata": {},
     "output_type": "display_data"
    }
   ],
   "source": [
    "plot_acc(train_acc, test_acc, losses)\n",
    "#plot_acc(train_acc, test_acc, losses, save=True, outfile='one_hidden_net.png')"
   ]
  },
  {
   "cell_type": "code",
   "execution_count": 248,
   "metadata": {},
   "outputs": [
    {
     "name": "stdout",
     "output_type": "stream",
     "text": [
      "Accuracy of     0 : 95 %\n",
      "Accuracy of     1 : 94 %\n",
      "Accuracy of     2 : 84 %\n",
      "Accuracy of     3 : 85 %\n",
      "Accuracy of     4 : 82 %\n",
      "Accuracy of     5 : 74 %\n",
      "Accuracy of     6 : 84 %\n",
      "Accuracy of     7 : 85 %\n",
      "Accuracy of     8 : 82 %\n",
      "Accuracy of     9 : 94 %\n"
     ]
    }
   ],
   "source": [
    "class_accuracies(testloader, one_hidden_net)"
   ]
  },
  {
   "cell_type": "markdown",
   "metadata": {},
   "source": [
    "### Part (c) - Simple Conv Net\n",
    "\n",
    "\n",
    "Fully connected output, 1 convolutional layer with max-pool: for a convolutional layer $W_1$ with individual filters of size $p \\times p \\times 3$ and output size $M$ (resonable choices are $M = 100, p = 5$) we have that Conv2d$(x^{input}, W_1) \\in \\mathbb{R}^{(33 - p)\\times (33 - p) \\times M}$. \n",
    "\n",
    "Each convolution will have its own offset applied to each of the output pixels of the convolution; we denote this as Conv2d$(x^{input}, W) + b_1$ where $b_1$ is parameterized in $\\mathbb{R}^M$. We will then apply a relu (relu doesn't change the tensor space) and pool. If we use a max-pool of size $N$ (a resonable choise is $N = 14$ to pool to $2 \\times 2$ with $p = 5$) we have that \n",
    "\n",
    "$$ \\text{MaxPool(relu(Conv2d}(x^{input}, W_1) + b_1)) \\in \\mathbb{R}^{\\lfloor \\frac{33-p}{N} \\rfloor \\times \\lfloor \\frac{33- p}{N} \\rfloor \\times M}.$$\n",
    "\n",
    "We will then apply a fully connected layer to the output to get the final network given as\n",
    "\n",
    "$$ x^{out} = W_2\\text{vec}(\\text{MaxPool}(\\text{relu}(\\text{Conv2d}(x^{in}, W_1) + b_1))) + b_2$$\n",
    "\n",
    "where $W_2 \\in \\mathbb{R}^{10 \\times M(\\lfloor \\frac{33-p}{N} \\rfloor)^2}, b_2 \\in \\mathbb{R}^{10}$. The parameters $M, p, N$ (in addition to the step size and the momentum are all hyperparameters."
   ]
  },
  {
   "cell_type": "code",
   "execution_count": 249,
   "metadata": {},
   "outputs": [],
   "source": [
    "p = 5 # size of filters\n",
    "M = 100 # number of filters\n",
    "N = 14 # pooling size\n",
    "input_size = img_shape[0]\n",
    "output_size = 10\n",
    "channel_nb = img_shape[2] # i.e. RGB\n",
    "floor_divide = np.floor_divide(input_size + 1 - p, N) # this is floor(28/14) = 2\n",
    "\n",
    "class OneConv(nn.Module):\n",
    "    def __init__(self):\n",
    "        super(OneConv, self).__init__()\n",
    "        self.conv1 = nn.Conv2d(channel_nb, M, p) ## 6x28x28, where 28 = 33-5\n",
    "        self.pool = nn.MaxPool2d(N, N) ## 6 x 14 x 14\n",
    "        self.fc1 = nn.Linear(M * floor_divide * floor_divide, output_size)\n",
    "\n",
    "    def forward(self, x):\n",
    "        x = self.conv1(x)\n",
    "        x = F.relu(x)\n",
    "        x = self.pool(x)\n",
    "        x = x.view(-1, M * floor_divide * floor_divide)\n",
    "        x = self.fc1(x)\n",
    "        return x"
   ]
  },
  {
   "cell_type": "code",
   "execution_count": 250,
   "metadata": {},
   "outputs": [],
   "source": [
    "device = torch.device(\"cuda:0\" if torch.cuda.is_available() else \"cpu\")\n",
    "one_conv_net = OneConv().to(device)"
   ]
  },
  {
   "cell_type": "code",
   "execution_count": 251,
   "metadata": {},
   "outputs": [],
   "source": [
    "# loss function and optimizer\n",
    "criterion = nn.CrossEntropyLoss()\n",
    "optimizer = optim.SGD(one_conv_net.parameters(), lr=0.001, momentum=0.9)\n",
    "#optimizer = optim.Adam(net.parameters(), betas = (0.9, 0.999))"
   ]
  },
  {
   "cell_type": "code",
   "execution_count": 253,
   "metadata": {
    "code_folding": []
   },
   "outputs": [
    {
     "name": "stdout",
     "output_type": "stream",
     "text": [
      "[Epoch  0 ||  Train acc: 73 % | Test acc: 71 % | loss: 1.964 ]\n",
      "[Epoch  1 ||  Train acc: 81 % | Test acc: 79 % | loss: 1.793 ]\n",
      "[Epoch  2 ||  Train acc: 82 % | Test acc: 81 % | loss: 1.606 ]\n",
      "[Epoch  3 ||  Train acc: 84 % | Test acc: 84 % | loss: 1.419 ]\n",
      "[Epoch  4 ||  Train acc: 85 % | Test acc: 83 % | loss: 1.243 ]\n",
      "[Epoch  5 ||  Train acc: 87 % | Test acc: 85 % | loss: 1.087 ]\n",
      "[Epoch  6 ||  Train acc: 87 % | Test acc: 86 % | loss: 0.956 ]\n",
      "[Epoch  7 ||  Train acc: 89 % | Test acc: 88 % | loss: 0.843 ]\n",
      "[Epoch  8 ||  Train acc: 90 % | Test acc: 88 % | loss: 0.751 ]\n",
      "[Epoch  9 ||  Train acc: 90 % | Test acc: 88 % | loss: 0.676 ]\n",
      "Finished Training\n",
      "19.2 seconds\n"
     ]
    }
   ],
   "source": [
    "start = time.time()\n",
    "one_conv_net, train_acc, test_acc, losses = train(one_conv_net, trainloader, testloader,\n",
    "                                           criterion, optimizer, device=device,\n",
    "                                           epochs=10, print_freq=1)\n",
    "end = time.time()\n",
    "print('%.1f seconds' % (end - start))"
   ]
  },
  {
   "cell_type": "code",
   "execution_count": 254,
   "metadata": {},
   "outputs": [
    {
     "data": {
      "image/png": "[encoded data removed]",
      "text/plain": [
       "<matplotlib.figure.Figure at 0x7f971806a6a0>"
      ]
     },
     "metadata": {},
     "output_type": "display_data"
    }
   ],
   "source": [
    "plot_acc(train_acc, test_acc, losses)\n",
    "#plot_acc(train_acc, test_acc, losses, save=True, outfile='one_conv_net.png')"
   ]
  },
  {
   "cell_type": "code",
   "execution_count": 255,
   "metadata": {},
   "outputs": [
    {
     "name": "stdout",
     "output_type": "stream",
     "text": [
      "Accuracy of     0 : 94 %\n",
      "Accuracy of     1 : 95 %\n",
      "Accuracy of     2 : 94 %\n",
      "Accuracy of     3 : 97 %\n",
      "Accuracy of     4 : 84 %\n",
      "Accuracy of     5 : 87 %\n",
      "Accuracy of     6 : 84 %\n",
      "Accuracy of     7 : 84 %\n",
      "Accuracy of     8 : 59 %\n",
      "Accuracy of     9 : 88 %\n"
     ]
    }
   ],
   "source": [
    "class_accuracies(testloader, one_conv_net)"
   ]
  },
  {
   "cell_type": "markdown",
   "metadata": {},
   "source": [
    "### Part (d)\n",
    "\n",
    "We will return to the original network you were left with at the end of the tutorial Training a classifier, tune the different hyperparameters (number of convolutional filters, filter sizes, dimensionality of the fully connected layers, stepsize, etc.) and train for many epochs to achieve a test accuracy of at least 85%."
   ]
  },
  {
   "cell_type": "markdown",
   "metadata": {},
   "source": [
    "##### Model"
   ]
  },
  {
   "cell_type": "code",
   "execution_count": 256,
   "metadata": {},
   "outputs": [],
   "source": [
    "conv_size1 = 5 \n",
    "conv_size2 = 3\n",
    "num_hidden_nodes = 128 ## \n",
    "N = 2\n",
    "input_size = img_shape[0]\n",
    "output_size = 10\n",
    "channel_nb = img_shape[2]\n",
    "pool_size = 2\n",
    "\n",
    "\n",
    "class ConvNet(nn.Module):\n",
    "    def __init__(self):\n",
    "        super(ConvNet, self).__init__()\n",
    "        # input (32, 32, 3)\n",
    "        self.conv1 = nn.Conv2d(channel_nb, num_hidden_nodes, conv_size1, padding = 2) \n",
    "        # input (32, 32, 128)\n",
    "        self.pool = nn.MaxPool2d(2, 2) \n",
    "        # input (16, 16, 128)\n",
    "        self.conv2 = nn.Conv2d(num_hidden_nodes, 256, 3, padding = 1) \n",
    "        # pool\n",
    "        # input (8, 8, 256)\n",
    "        self.conv3 = nn.Conv2d(256, 512, 3, padding = 1) \n",
    "        # pool\n",
    "        # input (4, 4, 512)\n",
    "        self.fc1 = nn.Linear(512 * 4 * 4, 2048) \n",
    "        # input (2048)\n",
    "        self.fc2 = nn.Linear(2048, 256)\n",
    "        # input (256)\n",
    "        self.fc3 = nn.Linear(256, 10)\n",
    "\n",
    "    def forward(self, x):\n",
    "        x = self.pool(F.relu(self.conv1(x)))\n",
    "        x = self.pool(F.relu(self.conv2(x)))\n",
    "        x = self.pool(F.relu(self.conv3(x)))\n",
    "        x = x.view(-1, 512 * 4 * 4) \n",
    "        x = F.relu(self.fc1(x))\n",
    "        x = F.relu(self.fc2(x))\n",
    "        x = self.fc3(x)\n",
    "        return x"
   ]
  },
  {
   "cell_type": "code",
   "execution_count": 257,
   "metadata": {
    "scrolled": true
   },
   "outputs": [],
   "source": [
    "conv_net = ConvNet().to(device)"
   ]
  },
  {
   "cell_type": "code",
   "execution_count": 258,
   "metadata": {},
   "outputs": [],
   "source": [
    "# loss function and optimizer\n",
    "criterion = nn.CrossEntropyLoss()\n",
    "optimizer = optim.SGD(conv_net.parameters(), lr=0.001, momentum=0.9)\n",
    "#optimizer = optim.Adam(net.parameters(), betas = (0.9, 0.999))"
   ]
  },
  {
   "cell_type": "code",
   "execution_count": 259,
   "metadata": {},
   "outputs": [
    {
     "name": "stdout",
     "output_type": "stream",
     "text": [
      "[Epoch  0 ||  Train acc: 20 % | Test acc: 20 % | loss: 2.301 ]\n",
      "[Epoch  1 ||  Train acc: 28 % | Test acc: 27 % | loss: 2.296 ]\n",
      "[Epoch  2 ||  Train acc: 30 % | Test acc: 29 % | loss: 2.289 ]\n",
      "[Epoch  3 ||  Train acc: 32 % | Test acc: 32 % | loss: 2.279 ]\n",
      "[Epoch  4 ||  Train acc: 40 % | Test acc: 41 % | loss: 2.262 ]\n",
      "[Epoch  5 ||  Train acc: 44 % | Test acc: 44 % | loss: 2.226 ]\n",
      "[Epoch  6 ||  Train acc: 46 % | Test acc: 48 % | loss: 2.112 ]\n",
      "[Epoch  7 ||  Train acc: 65 % | Test acc: 64 % | loss: 1.614 ]\n",
      "[Epoch  8 ||  Train acc: 78 % | Test acc: 74 % | loss: 0.902 ]\n",
      "[Epoch  9 ||  Train acc: 80 % | Test acc: 77 % | loss: 0.660 ]\n",
      "[Epoch 10 ||  Train acc: 84 % | Test acc: 82 % | loss: 0.557 ]\n",
      "[Epoch 11 ||  Train acc: 86 % | Test acc: 83 % | loss: 0.471 ]\n",
      "[Epoch 12 ||  Train acc: 89 % | Test acc: 86 % | loss: 0.400 ]\n",
      "[Epoch 13 ||  Train acc: 90 % | Test acc: 88 % | loss: 0.349 ]\n",
      "[Epoch 14 ||  Train acc: 91 % | Test acc: 88 % | loss: 0.317 ]\n",
      "[Epoch 15 ||  Train acc: 92 % | Test acc: 89 % | loss: 0.290 ]\n",
      "[Epoch 16 ||  Train acc: 92 % | Test acc: 90 % | loss: 0.270 ]\n",
      "[Epoch 17 ||  Train acc: 93 % | Test acc: 90 % | loss: 0.241 ]\n",
      "[Epoch 18 ||  Train acc: 93 % | Test acc: 90 % | loss: 0.231 ]\n",
      "[Epoch 19 ||  Train acc: 94 % | Test acc: 92 % | loss: 0.211 ]\n",
      "Finished Training\n",
      "73.0 seconds\n"
     ]
    }
   ],
   "source": [
    "start = time.time() # 22 min on 1080 Ti\n",
    "\n",
    "conv_net, train_acc, test_acc, losses = train(conv_net, trainloader, testloader,\n",
    "                                           criterion, optimizer, device=device,\n",
    "                                           epochs=20, print_freq=1)\n",
    "\n",
    "end = time.time()\n",
    "print('%.1f seconds' % (end - start))"
   ]
  },
  {
   "cell_type": "code",
   "execution_count": 260,
   "metadata": {},
   "outputs": [
    {
     "data": {
      "image/png": "[encoded data removed]",
      "text/plain": [
       "<matplotlib.figure.Figure at 0x7f97140f8c18>"
      ]
     },
     "metadata": {},
     "output_type": "display_data"
    }
   ],
   "source": [
    "plot_acc(train_acc, test_acc, losses)\n",
    "#plot_acc(train_acc, test_acc, losses, save=True, outfile='conv_net.png')"
   ]
  },
  {
   "cell_type": "markdown",
   "metadata": {},
   "source": [
    "##### Accuracy on particular classes"
   ]
  },
  {
   "cell_type": "code",
   "execution_count": 261,
   "metadata": {},
   "outputs": [
    {
     "name": "stdout",
     "output_type": "stream",
     "text": [
      "Accuracy of     0 : 100 %\n",
      "Accuracy of     1 : 100 %\n",
      "Accuracy of     2 : 95 %\n",
      "Accuracy of     3 : 91 %\n",
      "Accuracy of     4 : 84 %\n",
      "Accuracy of     5 : 82 %\n",
      "Accuracy of     6 : 92 %\n",
      "Accuracy of     7 : 87 %\n",
      "Accuracy of     8 : 95 %\n",
      "Accuracy of     9 : 92 %\n"
     ]
    }
   ],
   "source": [
    "class_accuracies(testloader, conv_net)"
   ]
  },
  {
   "cell_type": "code",
   "execution_count": 159,
   "metadata": {},
   "outputs": [
    {
     "data": {
      "text/plain": [
       "0.9521"
      ]
     },
     "execution_count": 159,
     "metadata": {},
     "output_type": "execute_result"
    }
   ],
   "source": [
    "test_acc = evaluate(testloader, conv_net, device)\n",
    "test_acc"
   ]
  },
  {
   "cell_type": "markdown",
   "metadata": {},
   "source": [
    "# ResNet"
   ]
  },
  {
   "cell_type": "code",
   "execution_count": 262,
   "metadata": {
    "code_folding": []
   },
   "outputs": [],
   "source": [
    "class ResNetFull(nn.Module):\n",
    "    def __init__(self):\n",
    "        super(ResNetFull, self).__init__()\n",
    "        self.conv1 = nn.Conv2d(img_shape[2],16,kernel_size=3, stride=1, padding=1, bias=False)\n",
    "        self.bn = nn.BatchNorm2d(16)\n",
    "        self.relu = nn.ReLU(inplace=True)\n",
    "        \n",
    "        # layer 1\n",
    "        # block 1      \n",
    "        self.conv1_blck1_lyr1 = nn.Conv2d(16,16,kernel_size=3, padding=1, bias=False)\n",
    "        self.bn1_blck1_lyr1 = nn.BatchNorm2d(16)\n",
    "        self.relu_blck1_lyr1 = nn.ReLU(inplace=True)\n",
    "        self.conv2_blck1_lyr1 = nn.Conv2d(16,16,kernel_size=3, padding=1, bias=False)\n",
    "        self.bn2_blck1_lyr1 = nn.BatchNorm2d(16)\n",
    "        \n",
    "        # block 2\n",
    "        self.conv1_blck2_lyr1 = nn.Conv2d(16,16,kernel_size=3, padding=1, bias=False)\n",
    "        self.bn1_blck2_lyr1 = nn.BatchNorm2d(16)\n",
    "        self.relu_blck2_lyr1 = nn.ReLU(inplace=True)\n",
    "        self.conv2_blck2_lyr1 = nn.Conv2d(16,16,kernel_size=3, padding=1, bias=False)\n",
    "        self.bn2_blck2_lyr1 = nn.BatchNorm2d(16)\n",
    "        \n",
    "        # block 3\n",
    "        self.conv1_blck3_lyr1 = nn.Conv2d(16,16,kernel_size=3, padding=1, bias=False)\n",
    "        self.bn1_blck3_lyr1 = nn.BatchNorm2d(16)\n",
    "        self.relu_blck3_lyr1 = nn.ReLU(inplace=True)\n",
    "        self.conv2_blck3_lyr1 = nn.Conv2d(16,16,kernel_size=3, padding=1, bias=False)\n",
    "        self.bn2_blck3_lyr1 = nn.BatchNorm2d(16)\n",
    "        \n",
    "        # layer 2\n",
    "        self.downsample1 = nn.Sequential(nn.Conv2d(16, 32, stride=2, kernel_size=3, \n",
    "                                        padding=1, bias=False), nn.BatchNorm2d(32))\n",
    "        \n",
    "        self.conv1_blck1_lyr2 = nn.Conv2d(32,32,kernel_size=3, padding=1, bias=False)\n",
    "        self.bn1_blck1_lyr2 = nn.BatchNorm2d(32)\n",
    "        self.relu_blck1_lyr2 = nn.ReLU(inplace=True)\n",
    "        self.conv2_blck1_lyr2 = nn.Conv2d(32,32,kernel_size=3, padding=1, bias=False)\n",
    "        self.bn2_blck1_lyr2 = nn.BatchNorm2d(32)\n",
    "        \n",
    "        self.conv1_blck2_lyr2 = nn.Conv2d(32,32,kernel_size=3, padding=1, bias=False)\n",
    "        self.bn1_blck2_lyr2 = nn.BatchNorm2d(32)\n",
    "        self.relu_blck2_lyr2 = nn.ReLU(inplace=True)\n",
    "        self.conv2_blck2_lyr2 = nn.Conv2d(32,32,kernel_size=3, padding=1, bias=False)\n",
    "        self.bn2_blck2_lyr2 = nn.BatchNorm2d(32)\n",
    "        \n",
    "        # layer 3\n",
    "        self.downsample2 = nn.Sequential(nn.Conv2d(32, 64, stride=2, kernel_size=3, \n",
    "                                        padding=1, bias=False),nn.BatchNorm2d(64))\n",
    "        self.conv1_blck1_lyr3 = nn.Conv2d(64,64,kernel_size=3, padding=1, bias=False)\n",
    "        self.bn1_blck1_lyr3 = nn.BatchNorm2d(64)\n",
    "        self.relu_blck1_lyr3 = nn.ReLU(inplace=True)\n",
    "        self.conv2_blck1_lyr3 = nn.Conv2d(64,64,kernel_size=3, padding=1, bias=False)\n",
    "        self.bn2_blck1_lyr3 =nn.BatchNorm2d(64)\n",
    "        \n",
    "        self.conv1_blck2_lyr3 = nn.Conv2d(64,64,kernel_size=3, padding=1, bias=False)\n",
    "        self.bn1_blck2_lyr3 = nn.BatchNorm2d(64)\n",
    "        self.relu_blck2_lyr3 = nn.ReLU(inplace=True)\n",
    "        self.conv2_blck2_lyr3 = nn.Conv2d(64,64,kernel_size=3, padding=1, bias=False)\n",
    "        self.bn2_blck2_lyr3 = nn.BatchNorm2d(64)\n",
    "        \n",
    "        self.avg_pool = nn.AvgPool2d(8) \n",
    "        self.fc1 = nn.Linear(64 * 1 * 1, 10)\n",
    "        \n",
    "    def forward(self, x):\n",
    "        \n",
    "        out = self.conv1(x)\n",
    "        out = self.bn(out)\n",
    "        out = self.relu(out)\n",
    "        \n",
    "        ## layer 1\n",
    "        # block 1\n",
    "        residual = out\n",
    "        out = self.conv1_blck1_lyr1(out)\n",
    "        out = self.bn1_blck1_lyr1(out)\n",
    "        out = self.relu_blck1_lyr1(out)\n",
    "        out = self.conv2_blck1_lyr1(out)\n",
    "        out = self.bn2_blck1_lyr1(out)\n",
    "        out += residual\n",
    "        \n",
    "        # block 2\n",
    "        residual = out\n",
    "        out = self.conv1_blck2_lyr1(out)\n",
    "        out = self.bn1_blck2_lyr1(out)\n",
    "        out = self.relu_blck2_lyr1(out)\n",
    "        out = self.conv2_blck2_lyr1(out)\n",
    "        out = self.bn2_blck2_lyr1(out)\n",
    "        out += residual\n",
    "        \n",
    "        # block 3\n",
    "        residual = out\n",
    "        out = self.conv1_blck3_lyr1(out)\n",
    "        out = self.bn1_blck3_lyr1(out)\n",
    "        out = self.relu_blck3_lyr1(out)\n",
    "        out = self.conv2_blck3_lyr1(out)\n",
    "        out = self.bn2_blck3_lyr1(out)\n",
    "        out += residual\n",
    "        \n",
    "\n",
    "        ## layer 2\n",
    "        # block 1\n",
    "        residual = self.downsample1(out)\n",
    "        out = self.downsample1(out) # downsample\n",
    "        out = self.conv1_blck1_lyr2(out)\n",
    "        out = self.bn1_blck1_lyr2(out)\n",
    "        out = self.relu_blck1_lyr2(out)\n",
    "        out = self.conv2_blck1_lyr2(out)\n",
    "        out = self.bn2_blck1_lyr2(out)\n",
    "        out += residual\n",
    "        \n",
    "        # block 2\n",
    "        residual = out\n",
    "        out = self.conv1_blck2_lyr2(out)\n",
    "        out = self.bn1_blck2_lyr2(out)\n",
    "        out = self.relu_blck2_lyr2(out)\n",
    "        out = self.conv2_blck2_lyr2(out)\n",
    "        out = self.bn2_blck2_lyr2(out)\n",
    "        out += residual\n",
    "\n",
    "\n",
    "        ## layer 3\n",
    "        # block 1\n",
    "        residual = self.downsample2(out)\n",
    "        out = self.downsample2(out) # downsample\n",
    "        out = self.conv1_blck1_lyr3(out)\n",
    "        out = self.bn1_blck1_lyr3(out)\n",
    "        out = self.relu_blck1_lyr3(out)\n",
    "        out = self.conv2_blck1_lyr3(out)\n",
    "        out = self.bn2_blck1_lyr3(out)\n",
    "        out += residual\n",
    "        \n",
    "        # block 2\n",
    "        residual = out\n",
    "        out = self.conv1_blck2_lyr3(out)\n",
    "        out = self.bn1_blck2_lyr3(out)\n",
    "        out = self.relu_blck2_lyr3(out)\n",
    "        out = self.conv2_blck2_lyr3(out)\n",
    "        out = self.bn2_blck2_lyr3(out)\n",
    "        out += residual\n",
    "        \n",
    "        out = self.avg_pool(out)\n",
    "        out = out.view(-1, 1*1*64)\n",
    "        out = self.fc1(out)\n",
    "        return out"
   ]
  },
  {
   "cell_type": "code",
   "execution_count": 263,
   "metadata": {},
   "outputs": [],
   "source": [
    "fullnet = ResNetFull().to(device)\n",
    "\n",
    "# loss function and optimizer\n",
    "criterion = nn.CrossEntropyLoss()\n",
    "optimizer = optim.SGD(fullnet.parameters(), lr=0.001, momentum=0.9)\n",
    "#optimizer = optim.Adam(fullnet.parameters(), betas = (0.9, 0.999))"
   ]
  },
  {
   "cell_type": "code",
   "execution_count": 264,
   "metadata": {},
   "outputs": [
    {
     "name": "stdout",
     "output_type": "stream",
     "text": [
      "[Epoch  0 ||  Train acc: 40 % | Test acc: 37 % | loss: 2.072 ]\n",
      "[Epoch  1 ||  Train acc: 72 % | Test acc: 69 % | loss: 1.428 ]\n",
      "[Epoch  2 ||  Train acc: 90 % | Test acc: 88 % | loss: 0.818 ]\n",
      "[Epoch  3 ||  Train acc: 93 % | Test acc: 92 % | loss: 0.451 ]\n",
      "[Epoch  4 ||  Train acc: 95 % | Test acc: 94 % | loss: 0.300 ]\n",
      "[Epoch  5 ||  Train acc: 95 % | Test acc: 94 % | loss: 0.231 ]\n",
      "[Epoch  6 ||  Train acc: 96 % | Test acc: 95 % | loss: 0.188 ]\n",
      "[Epoch  7 ||  Train acc: 97 % | Test acc: 96 % | loss: 0.155 ]\n",
      "[Epoch  8 ||  Train acc: 97 % | Test acc: 96 % | loss: 0.134 ]\n",
      "[Epoch  9 ||  Train acc: 97 % | Test acc: 96 % | loss: 0.123 ]\n",
      "[Epoch 10 ||  Train acc: 97 % | Test acc: 96 % | loss: 0.111 ]\n",
      "[Epoch 11 ||  Train acc: 98 % | Test acc: 96 % | loss: 0.097 ]\n",
      "[Epoch 12 ||  Train acc: 98 % | Test acc: 96 % | loss: 0.093 ]\n",
      "[Epoch 13 ||  Train acc: 98 % | Test acc: 97 % | loss: 0.085 ]\n",
      "[Epoch 14 ||  Train acc: 98 % | Test acc: 97 % | loss: 0.075 ]\n",
      "[Epoch 15 ||  Train acc: 98 % | Test acc: 97 % | loss: 0.071 ]\n",
      "[Epoch 16 ||  Train acc: 99 % | Test acc: 97 % | loss: 0.063 ]\n",
      "[Epoch 17 ||  Train acc: 98 % | Test acc: 97 % | loss: 0.060 ]\n",
      "[Epoch 18 ||  Train acc: 99 % | Test acc: 97 % | loss: 0.055 ]\n",
      "[Epoch 19 ||  Train acc: 98 % | Test acc: 97 % | loss: 0.053 ]\n",
      "[Epoch 20 ||  Train acc: 99 % | Test acc: 97 % | loss: 0.047 ]\n",
      "[Epoch 21 ||  Train acc: 99 % | Test acc: 97 % | loss: 0.042 ]\n",
      "[Epoch 22 ||  Train acc: 99 % | Test acc: 97 % | loss: 0.039 ]\n",
      "[Epoch 23 ||  Train acc: 99 % | Test acc: 97 % | loss: 0.037 ]\n",
      "[Epoch 24 ||  Train acc: 99 % | Test acc: 97 % | loss: 0.033 ]\n",
      "[Epoch 25 ||  Train acc: 99 % | Test acc: 97 % | loss: 0.034 ]\n",
      "[Epoch 26 ||  Train acc: 99 % | Test acc: 97 % | loss: 0.029 ]\n",
      "[Epoch 27 ||  Train acc: 99 % | Test acc: 97 % | loss: 0.026 ]\n",
      "[Epoch 28 ||  Train acc: 99 % | Test acc: 97 % | loss: 0.031 ]\n",
      "[Epoch 29 ||  Train acc: 99 % | Test acc: 97 % | loss: 0.023 ]\n",
      "[Epoch 30 ||  Train acc: 99 % | Test acc: 97 % | loss: 0.028 ]\n",
      "[Epoch 31 ||  Train acc: 99 % | Test acc: 97 % | loss: 0.021 ]\n",
      "[Epoch 32 ||  Train acc: 99 % | Test acc: 97 % | loss: 0.021 ]\n",
      "[Epoch 33 ||  Train acc: 99 % | Test acc: 97 % | loss: 0.020 ]\n",
      "[Epoch 34 ||  Train acc: 99 % | Test acc: 97 % | loss: 0.019 ]\n",
      "[Epoch 35 ||  Train acc: 99 % | Test acc: 97 % | loss: 0.017 ]\n"
     ]
    },
    {
     "ename": "KeyboardInterrupt",
     "evalue": "",
     "output_type": "error",
     "traceback": [
      "\u001b[0;31m---------------------------------------------------------------------------\u001b[0m",
      "\u001b[0;31mKeyboardInterrupt\u001b[0m                         Traceback (most recent call last)",
      "\u001b[0;32m<ipython-input-264-c25c7acf4acf>\u001b[0m in \u001b[0;36m<module>\u001b[0;34m()\u001b[0m\n\u001b[1;32m      3\u001b[0m fullnet, train_acc, test_acc, losses = train(fullnet, trainloader, testloader,\n\u001b[1;32m      4\u001b[0m                                            \u001b[0mcriterion\u001b[0m\u001b[0;34m,\u001b[0m \u001b[0moptimizer\u001b[0m\u001b[0;34m,\u001b[0m \u001b[0mdevice\u001b[0m\u001b[0;34m=\u001b[0m\u001b[0mdevice\u001b[0m\u001b[0;34m,\u001b[0m\u001b[0;34m\u001b[0m\u001b[0m\n\u001b[0;32m----> 5\u001b[0;31m                                            epochs=100, print_freq=1)\n\u001b[0m\u001b[1;32m      6\u001b[0m \u001b[0;34m\u001b[0m\u001b[0m\n\u001b[1;32m      7\u001b[0m \u001b[0mend\u001b[0m \u001b[0;34m=\u001b[0m \u001b[0mtime\u001b[0m\u001b[0;34m.\u001b[0m\u001b[0mtime\u001b[0m\u001b[0;34m(\u001b[0m\u001b[0;34m)\u001b[0m\u001b[0;34m\u001b[0m\u001b[0m\n",
      "\u001b[0;32m<ipython-input-234-9f2f5ab840bc>\u001b[0m in \u001b[0;36mtrain\u001b[0;34m(model, trainloader, testloader, criterion, optimizer, device, epochs, weight_decay, print_freq)\u001b[0m\n\u001b[1;32m     29\u001b[0m \u001b[0;34m\u001b[0m\u001b[0m\n\u001b[1;32m     30\u001b[0m             \u001b[0;31m# Forward pass\u001b[0m\u001b[0;34m\u001b[0m\u001b[0;34m\u001b[0m\u001b[0m\n\u001b[0;32m---> 31\u001b[0;31m             \u001b[0moutputs\u001b[0m \u001b[0;34m=\u001b[0m \u001b[0mmodel\u001b[0m\u001b[0;34m(\u001b[0m\u001b[0minputs\u001b[0m\u001b[0;34m)\u001b[0m\u001b[0;34m\u001b[0m\u001b[0m\n\u001b[0m\u001b[1;32m     32\u001b[0m             \u001b[0mloss\u001b[0m \u001b[0;34m=\u001b[0m \u001b[0mcriterion\u001b[0m\u001b[0;34m(\u001b[0m\u001b[0moutputs\u001b[0m\u001b[0;34m,\u001b[0m \u001b[0mlabels\u001b[0m\u001b[0;34m)\u001b[0m\u001b[0;34m\u001b[0m\u001b[0m\n\u001b[1;32m     33\u001b[0m \u001b[0;34m\u001b[0m\u001b[0m\n",
      "\u001b[0;32m~/anaconda3/lib/python3.6/site-packages/torch/nn/modules/module.py\u001b[0m in \u001b[0;36m__call__\u001b[0;34m(self, *input, **kwargs)\u001b[0m\n\u001b[1;32m    475\u001b[0m             \u001b[0mresult\u001b[0m \u001b[0;34m=\u001b[0m \u001b[0mself\u001b[0m\u001b[0;34m.\u001b[0m\u001b[0m_slow_forward\u001b[0m\u001b[0;34m(\u001b[0m\u001b[0;34m*\u001b[0m\u001b[0minput\u001b[0m\u001b[0;34m,\u001b[0m \u001b[0;34m**\u001b[0m\u001b[0mkwargs\u001b[0m\u001b[0;34m)\u001b[0m\u001b[0;34m\u001b[0m\u001b[0m\n\u001b[1;32m    476\u001b[0m         \u001b[0;32melse\u001b[0m\u001b[0;34m:\u001b[0m\u001b[0;34m\u001b[0m\u001b[0m\n\u001b[0;32m--> 477\u001b[0;31m             \u001b[0mresult\u001b[0m \u001b[0;34m=\u001b[0m \u001b[0mself\u001b[0m\u001b[0;34m.\u001b[0m\u001b[0mforward\u001b[0m\u001b[0;34m(\u001b[0m\u001b[0;34m*\u001b[0m\u001b[0minput\u001b[0m\u001b[0;34m,\u001b[0m \u001b[0;34m**\u001b[0m\u001b[0mkwargs\u001b[0m\u001b[0;34m)\u001b[0m\u001b[0;34m\u001b[0m\u001b[0m\n\u001b[0m\u001b[1;32m    478\u001b[0m         \u001b[0;32mfor\u001b[0m \u001b[0mhook\u001b[0m \u001b[0;32min\u001b[0m \u001b[0mself\u001b[0m\u001b[0;34m.\u001b[0m\u001b[0m_forward_hooks\u001b[0m\u001b[0;34m.\u001b[0m\u001b[0mvalues\u001b[0m\u001b[0;34m(\u001b[0m\u001b[0;34m)\u001b[0m\u001b[0;34m:\u001b[0m\u001b[0;34m\u001b[0m\u001b[0m\n\u001b[1;32m    479\u001b[0m             \u001b[0mhook_result\u001b[0m \u001b[0;34m=\u001b[0m \u001b[0mhook\u001b[0m\u001b[0;34m(\u001b[0m\u001b[0mself\u001b[0m\u001b[0;34m,\u001b[0m \u001b[0minput\u001b[0m\u001b[0;34m,\u001b[0m \u001b[0mresult\u001b[0m\u001b[0;34m)\u001b[0m\u001b[0;34m\u001b[0m\u001b[0m\n",
      "\u001b[0;32m<ipython-input-262-740a6a53a8ed>\u001b[0m in \u001b[0;36mforward\u001b[0;34m(self, x)\u001b[0m\n\u001b[1;32m     94\u001b[0m         \u001b[0mout\u001b[0m \u001b[0;34m=\u001b[0m \u001b[0mself\u001b[0m\u001b[0;34m.\u001b[0m\u001b[0mconv2_blck3_lyr1\u001b[0m\u001b[0;34m(\u001b[0m\u001b[0mout\u001b[0m\u001b[0;34m)\u001b[0m\u001b[0;34m\u001b[0m\u001b[0m\n\u001b[1;32m     95\u001b[0m         \u001b[0mout\u001b[0m \u001b[0;34m=\u001b[0m \u001b[0mself\u001b[0m\u001b[0;34m.\u001b[0m\u001b[0mbn2_blck3_lyr1\u001b[0m\u001b[0;34m(\u001b[0m\u001b[0mout\u001b[0m\u001b[0;34m)\u001b[0m\u001b[0;34m\u001b[0m\u001b[0m\n\u001b[0;32m---> 96\u001b[0;31m         \u001b[0mout\u001b[0m \u001b[0;34m+=\u001b[0m \u001b[0mresidual\u001b[0m\u001b[0;34m\u001b[0m\u001b[0m\n\u001b[0m\u001b[1;32m     97\u001b[0m \u001b[0;34m\u001b[0m\u001b[0m\n\u001b[1;32m     98\u001b[0m \u001b[0;34m\u001b[0m\u001b[0m\n",
      "\u001b[0;31mKeyboardInterrupt\u001b[0m: "
     ]
    }
   ],
   "source": [
    "start = time.time() \n",
    "\n",
    "fullnet, train_acc, test_acc, losses = train(fullnet, trainloader, testloader,\n",
    "                                           criterion, optimizer, device=device,\n",
    "                                           epochs=100, print_freq=1)\n",
    "\n",
    "end = time.time()\n",
    "print('%.1f seconds' % (end - start))"
   ]
  },
  {
   "cell_type": "code",
   "execution_count": 185,
   "metadata": {},
   "outputs": [
    {
     "data": {
      "image/png": "[encoded data removed]",
      "text/plain": [
       "<matplotlib.figure.Figure at 0x7f4a6dfb6080>"
      ]
     },
     "metadata": {},
     "output_type": "display_data"
    }
   ],
   "source": [
    "plot_acc(train_acc, test_acc, losses)\n",
    "#plot_acc(train_acc, test_acc, losses, save=True, outfile='res_net.png')"
   ]
  },
  {
   "cell_type": "code",
   "execution_count": null,
   "metadata": {},
   "outputs": [],
   "source": [
    "class_accuracies(testloader, fullnet)"
   ]
  },
  {
   "cell_type": "markdown",
   "metadata": {},
   "source": [
    "## ResNet, cleaner"
   ]
  },
  {
   "cell_type": "code",
   "execution_count": null,
   "metadata": {},
   "outputs": [],
   "source": [
    "# 3x3 convolution\n",
    "def conv3x3(in_channels, out_channels, stride=1):\n",
    "    return nn.Conv2d(in_channels, out_channels, kernel_size=3, \n",
    "                     stride=stride, padding=1, bias=False)\n",
    "\n",
    "# Residual block\n",
    "class ResidualBlock(nn.Module):\n",
    "    def __init__(self, in_channels, out_channels, stride=1, downsample=None):\n",
    "        super(ResidualBlock, self).__init__()\n",
    "        self.conv1 = conv3x3(in_channels, out_channels, stride)\n",
    "        self.bn1 = nn.BatchNorm2d(out_channels)\n",
    "        self.relu = nn.ReLU(inplace=True)\n",
    "        self.conv2 = conv3x3(out_channels, out_channels)\n",
    "        self.bn2 = nn.BatchNorm2d(out_channels)\n",
    "        self.downsample = downsample\n",
    "        \n",
    "    def forward(self, x):\n",
    "        residual = x\n",
    "        out = self.conv1(x)\n",
    "        out = self.bn1(out)\n",
    "        out = self.relu(out)\n",
    "        out = self.conv2(out)\n",
    "        out = self.bn2(out)\n",
    "        if self.downsample:\n",
    "            residual = self.downsample(x)\n",
    "        out += residual\n",
    "        out = self.relu(out)\n",
    "        return out"
   ]
  },
  {
   "cell_type": "code",
   "execution_count": null,
   "metadata": {},
   "outputs": [],
   "source": [
    "# ResNet\n",
    "class ResNet(nn.Module):\n",
    "    def __init__(self, block, layers, num_classes=10):\n",
    "        super(ResNet, self).__init__()\n",
    "        self.in_channels = 16\n",
    "        self.conv = conv3x3(img_shape[2], 16)\n",
    "        self.bn = nn.BatchNorm2d(16)\n",
    "        self.relu = nn.ReLU(inplace=True)\n",
    "        self.layer1 = self.make_layer(block, 16, layers[0])\n",
    "        self.layer2 = self.make_layer(block, 32, layers[0], 2)\n",
    "        self.layer3 = self.make_layer(block, 64, layers[1], 2)\n",
    "        self.avg_pool = nn.AvgPool2d(8)\n",
    "        self.fc = nn.Linear(64, num_classes)\n",
    "        \n",
    "    def make_layer(self, block, out_channels, blocks, stride=1):\n",
    "        downsample = None\n",
    "        if (stride != 1) or (self.in_channels != out_channels):\n",
    "            downsample = nn.Sequential(\n",
    "                conv3x3(self.in_channels, out_channels, stride=stride),\n",
    "                nn.BatchNorm2d(out_channels))\n",
    "        layers = []\n",
    "        layers.append(block(self.in_channels, out_channels, stride, downsample))\n",
    "        self.in_channels = out_channels\n",
    "        for i in range(1, blocks):\n",
    "            layers.append(block(out_channels, out_channels))\n",
    "        return nn.Sequential(*layers)\n",
    "    \n",
    "\n",
    "    def forward(self, x):\n",
    "        out = self.conv(x)\n",
    "        out = self.bn(out)\n",
    "        out = self.relu(out)\n",
    "        out = self.layer1(out)\n",
    "        out = self.layer2(out)\n",
    "        out = self.layer3(out)\n",
    "        out = self.avg_pool(out)\n",
    "        out = out.view(out.size(0), -1)\n",
    "        out = self.fc(out)\n",
    "        return out"
   ]
  },
  {
   "cell_type": "code",
   "execution_count": null,
   "metadata": {},
   "outputs": [],
   "source": [
    "resnet = ResNet(ResidualBlock, [2, 2, 2, 2]).to(device)"
   ]
  },
  {
   "cell_type": "code",
   "execution_count": null,
   "metadata": {},
   "outputs": [],
   "source": [
    "# loss function and optimizer\n",
    "criterion = nn.CrossEntropyLoss()\n",
    "optimizer = optim.SGD(resnet.parameters(), lr=0.001, momentum=0.9)\n",
    "#optimizer = optim.Adam(net.parameters(), betas = (0.9, 0.999))"
   ]
  },
  {
   "cell_type": "code",
   "execution_count": null,
   "metadata": {},
   "outputs": [],
   "source": [
    "resnet, train_acc, test_acc, losses = train(resnet, trainloader, testloader,\n",
    "                                           criterion, optimizer, epochs=120, weight_decay=True)"
   ]
  },
  {
   "cell_type": "code",
   "execution_count": null,
   "metadata": {},
   "outputs": [],
   "source": [
    "plot_acc(train_acc, test_acc, losses)"
   ]
  }
 ],
 "metadata": {
  "kernelspec": {
   "display_name": "Python 3",
   "language": "python",
   "name": "python3"
  },
  "language_info": {
   "codemirror_mode": {
    "name": "ipython",
    "version": 3
   },
   "file_extension": ".py",
   "mimetype": "text/x-python",
   "name": "python",
   "nbconvert_exporter": "python",
   "pygments_lexer": "ipython3",
   "version": "3.6.4"
  }
 },
 "nbformat": 4,
 "nbformat_minor": 2
}
