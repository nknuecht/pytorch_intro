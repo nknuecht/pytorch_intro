{
 "cells": [
  {
   "cell_type": "markdown",
   "metadata": {},
   "source": [
    "# Installation"
   ]
  },
  {
   "cell_type": "code",
   "execution_count": null,
   "metadata": {},
   "outputs": [],
   "source": [
    "!pip3 install torch torchvision"
   ]
  },
  {
   "cell_type": "markdown",
   "metadata": {
    "collapsed": true
   },
   "source": [
    "# Deep learning architectures"
   ]
  },
  {
   "cell_type": "markdown",
   "metadata": {},
   "source": [
    "We will construct a number of different network architectures and compare their performance. For all of the following we perform a coarse hyperparameter selection (by hand) using the test set: it is good practice to **report the hyperparameters you found**, and **plot the training and test classification accuracy as a function of iteration.**"
   ]
  },
  {
   "cell_type": "code",
   "execution_count": 2,
   "metadata": {},
   "outputs": [],
   "source": [
    "import numpy as np\n",
    "import seaborn as sns\n",
    "sns.set_style(\"darkgrid\")\n",
    "import random\n",
    "\n",
    "\n",
    "import torch\n",
    "import torchvision\n",
    "import torchvision.transforms as transforms\n",
    "\n",
    "\n",
    "import torch\n",
    "import torchvision\n",
    "import torchvision.transforms as transforms\n",
    "from torch.autograd import Variable # not found in torch 0.4\n",
    "import torch.nn as nn\n",
    "import torch.nn.functional as F\n",
    "import torch.optim as optim\n",
    "from torch.utils.data.sampler import SubsetRandomSampler\n",
    "\n",
    "import matplotlib.pyplot as plt\n",
    "%matplotlib inline"
   ]
  },
  {
   "cell_type": "code",
   "execution_count": 3,
   "metadata": {},
   "outputs": [],
   "source": [
    "def get_data(batch_size=64, CIFAR10=True, proportion=1):\n",
    "    \n",
    "    if CIFAR10 == True:\n",
    "        transform = transforms.Compose([\n",
    "        transforms.Pad(4),\n",
    "        transforms.RandomHorizontalFlip(),\n",
    "        transforms.RandomCrop(32),\n",
    "        transforms.ToTensor()])\n",
    "        \n",
    "        trainset = torchvision.datasets.CIFAR10(root='./data', train=True, download=True, transform=transform)\n",
    "        testset = torchvision.datasets.CIFAR10(root='./data', train=False, download=True, transform=transform)\n",
    "        \n",
    "        \n",
    "        train_indices = random.sample(range(0, len(trainset)), int(len(trainset)*proportion))\n",
    "        test_indices = random.sample(range(0, len(testset)), int(len(testset)*proportion))\n",
    "        \n",
    "        trainloader = torch.utils.data.DataLoader(dataset=trainset, batch_size=batch_size, shuffle=False, sampler=SubsetRandomSampler(train_indices))\n",
    "        testloader = torch.utils.data.DataLoader(dataset=testset, batch_size=batch_size, shuffle=False, sampler=SubsetRandomSampler(test_indices))\n",
    "                \n",
    "        \n",
    "        classes = ('plane', 'car', 'bird', 'cat', 'deer', 'dog', 'frog', 'horse', 'ship', 'truck')\n",
    "        data_iterator = iter(trainloader)\n",
    "        images, labels = data_iterator.next()\n",
    "        img_shape = (images.shape[2], images.shape[3], images.shape[1])\n",
    "        \n",
    "    else:\n",
    "        transform = transforms.Compose([\n",
    "            transforms.Pad(2),\n",
    "            transforms.ToTensor()])\n",
    "        \n",
    "        trainset = torchvision.datasets.MNIST(root='../../data/',\n",
    "                                                   train=True, \n",
    "                                                   transform=transform,\n",
    "                                                   download=True)\n",
    "\n",
    "        testset = torchvision.datasets.MNIST(root='../../data/',\n",
    "                                                  train=False, \n",
    "                                                  transform=transform)\n",
    "\n",
    "        # Data loader\n",
    "        train_indices = random.sample(range(0, len(trainset)), int(len(trainset)*proportion))\n",
    "        test_indices = random.sample(range(0, len(testset)), int(len(testset)*proportion))\n",
    "\n",
    "        trainloader = torch.utils.data.DataLoader(dataset=trainset, batch_size=batch_size, shuffle=False, sampler=SubsetRandomSampler(train_indices))\n",
    "        testloader = torch.utils.data.DataLoader(dataset=testset, batch_size=batch_size, shuffle=False, sampler=SubsetRandomSampler(test_indices))\n",
    "\n",
    "        classes = ('0', '1', '2', '3', '4', '5', '6', '7', '8', '9')\n",
    "        \n",
    "        data_iterator = iter(trainloader)\n",
    "        images, labels = data_iterator.next()\n",
    "        img_shape = (images.shape[2], images.shape[3], images.shape[1])\n",
    "    \n",
    "    return trainloader, testloader, classes, img_shape"
   ]
  },
  {
   "cell_type": "code",
   "execution_count": 4,
   "metadata": {},
   "outputs": [
    {
     "name": "stdout",
     "output_type": "stream",
     "text": [
      "Files already downloaded and verified\n",
      "Files already downloaded and verified\n"
     ]
    },
    {
     "data": {
      "text/plain": [
       "(32, 32, 3)"
      ]
     },
     "execution_count": 4,
     "metadata": {},
     "output_type": "execute_result"
    }
   ],
   "source": [
    "# CIFAR10=False => MNIST\n",
    "trainloader, testloader, classes, img_shape = get_data(CIFAR10=True, batch_size=4, \n",
    "                                                       proportion=0.01)\n",
    "img_shape"
   ]
  },
  {
   "cell_type": "markdown",
   "metadata": {},
   "source": [
    "Let's look at some images"
   ]
  },
  {
   "cell_type": "code",
   "execution_count": 5,
   "metadata": {
    "code_folding": []
   },
   "outputs": [
    {
     "name": "stdout",
     "output_type": "stream",
     "text": [
      "             frog             plane               cat               dog\n"
     ]
    },
    {
     "data": {
      "image/png": "[encoded data removed]",
      "text/plain": [
       "<matplotlib.figure.Figure at 0x7f7b0d4e5d68>"
      ]
     },
     "metadata": {},
     "output_type": "display_data"
    }
   ],
   "source": [
    "def imshow(img):\n",
    "    npimg = img.numpy()\n",
    "    norm_img = (npimg - np.min(npimg))/(np.max(npimg) - np.min(npimg)) # min-max normalization\n",
    "    fig = plt.figure()\n",
    "    fig.set_size_inches([12, 6])\n",
    "    plt.imshow(np.transpose(norm_img, (1, 2, 0)))\n",
    "\n",
    "# get some random training images\n",
    "data_iterator = iter(trainloader)\n",
    "images, labels = data_iterator.next()\n",
    "\n",
    "imshow(torchvision.utils.make_grid(images)) # show images\n",
    "print(' '.join('%17s' % classes[labels[j]] for j in range(4))) # print labels\n",
    "plt.show()"
   ]
  },
  {
   "cell_type": "code",
   "execution_count": 6,
   "metadata": {},
   "outputs": [
    {
     "name": "stdout",
     "output_type": "stream",
     "text": [
      "                9                 9                 6                 1\n"
     ]
    },
    {
     "data": {
      "image/png": "[encoded data removed]",
      "text/plain": [
       "<matplotlib.figure.Figure at 0x7f7b703c3390>"
      ]
     },
     "metadata": {},
     "output_type": "display_data"
    }
   ],
   "source": [
    "trainloader, testloader, classes, img_shape = get_data(CIFAR10=False, batch_size=4, \n",
    "                                                       proportion=0.1)\n",
    "\n",
    "# get some random training images\n",
    "data_iterator = iter(trainloader)\n",
    "images, labels = data_iterator.next()\n",
    "\n",
    "imshow(torchvision.utils.make_grid(images)) # show images\n",
    "print(' '.join('%17s' % classes[labels[j]] for j in range(4))) # print labels\n",
    "plt.show()"
   ]
  },
  {
   "cell_type": "code",
   "execution_count": 7,
   "metadata": {},
   "outputs": [
    {
     "data": {
      "text/plain": [
       "(32, 32, 1)"
      ]
     },
     "execution_count": 7,
     "metadata": {},
     "output_type": "execute_result"
    }
   ],
   "source": [
    "# CIFAR10=False => MNIST\n",
    "trainloader, testloader, classs, img_shape = get_data(CIFAR10=False, batch_size=64, \n",
    "                                                      proportion=0.1)\n",
    "img_channels = img_shape[2]\n",
    "img_shape"
   ]
  },
  {
   "cell_type": "code",
   "execution_count": 8,
   "metadata": {},
   "outputs": [
    {
     "data": {
      "text/plain": [
       "torch.Size([4, 1, 32, 32])"
      ]
     },
     "execution_count": 8,
     "metadata": {},
     "output_type": "execute_result"
    }
   ],
   "source": [
    "images.shape"
   ]
  },
  {
   "cell_type": "markdown",
   "metadata": {},
   "source": [
    "### Part (a) - Logistic Regression"
   ]
  },
  {
   "cell_type": "markdown",
   "metadata": {},
   "source": [
    "**Fully connected output, $0$ hidden layers (logistic regression):** \n",
    "\n",
    "We begin with the simplest network possible that has no hidden layers and simply linearly maps the input layer to the output layer. That is, conceptually it could be written as\n",
    "\n",
    "$$ x^{out} = W\\cdot \\text{vec}(x^{in}) + b $$\n",
    "\n",
    "where $x^{out} \\in \\mathbb{R}^{10}$, $x^{in} \\in \\mathbb{R}^{32 \\times 32 \\times 3}$, $W \\in \\mathbb{R}^{10, 3072}$, $b \\in \\mathbb{R}^{10}$ where $3072 = 32 \\cdot 32 \\cdot 3$. For a tensor $x \\in \\mathbb{R}^{a \\times b \\times c}$, we let vec$(x) \\in \\mathbb{R}^{abc}$ be the reshaped from a tensor into a vector (in an arbitrary but consistent pattern)."
   ]
  },
  {
   "cell_type": "markdown",
   "metadata": {},
   "source": [
    "#### Model for part (a)"
   ]
  },
  {
   "cell_type": "markdown",
   "metadata": {},
   "source": [
    "Define model architecture"
   ]
  },
  {
   "cell_type": "code",
   "execution_count": 9,
   "metadata": {},
   "outputs": [],
   "source": [
    "class LinearRegression(nn.Module):\n",
    "    def __init__(self):\n",
    "        super(LinearRegression, self).__init__()\n",
    "        self.linear = nn.Linear(32*32*img_channels, 10)\n",
    "\n",
    "    def forward(self, x):\n",
    "        x = x.view(-1, 32*32*img_channels)\n",
    "        out = self.linear(x)\n",
    "        return out"
   ]
  },
  {
   "cell_type": "markdown",
   "metadata": {},
   "source": [
    "Compile model"
   ]
  },
  {
   "cell_type": "code",
   "execution_count": 10,
   "metadata": {},
   "outputs": [],
   "source": [
    "#lr_net = LinearRegression().cuda()\n",
    "device = torch.device(\"cuda:0\" if torch.cuda.is_available() else \"cpu\")\n",
    "lr_net = LinearRegression().to(device)"
   ]
  },
  {
   "cell_type": "markdown",
   "metadata": {},
   "source": [
    "Choose Optimizer"
   ]
  },
  {
   "cell_type": "code",
   "execution_count": 11,
   "metadata": {},
   "outputs": [],
   "source": [
    "criterion = nn.CrossEntropyLoss()\n",
    "optimizer = optim.SGD(lr_net.parameters(), lr=0.001, momentum=0.9)"
   ]
  },
  {
   "cell_type": "markdown",
   "metadata": {},
   "source": [
    "Train + Evaluate concurrently"
   ]
  },
  {
   "cell_type": "code",
   "execution_count": 12,
   "metadata": {
    "code_folding": []
   },
   "outputs": [
    {
     "name": "stdout",
     "output_type": "stream",
     "text": [
      "Accuracy of the network on the 10000 test images: 74 %\n",
      "Finished Training\n"
     ]
    }
   ],
   "source": [
    "device = torch.device(\"cuda:0\" if torch.cuda.is_available() else \"cpu\")\n",
    "\n",
    "train_accuracy, test_accuracy, loss_list = [], [], []\n",
    "for epoch in range(1):  # loop over the dataset multiple times\n",
    "\n",
    "    running_loss = 0.0\n",
    "    for i, data in enumerate(trainloader, 0):\n",
    "        # get the inputs       \n",
    "        inputs, labels = data\n",
    "        inputs, labels = inputs.to(device), labels.to(device)\n",
    "\n",
    "        # Forward pass\n",
    "        outputs = lr_net(inputs)\n",
    "        loss = criterion(outputs, labels)\n",
    "      \n",
    "        # Backward and optimize\n",
    "        optimizer.zero_grad()\n",
    "        loss.backward()\n",
    "        optimizer.step()\n",
    "\n",
    "        # print statistics\n",
    "        running_loss += loss.item()\n",
    "     \n",
    "    correct = 0\n",
    "    total = 0\n",
    "    with torch.no_grad():\n",
    "        for data in testloader:\n",
    "            inputs, labels = data\n",
    "            inputs, labels = inputs.to(device), labels.to(device)\n",
    "            outputs = lr_net(inputs)\n",
    "            _, predicted = torch.max(outputs.data, 1)\n",
    "            total += labels.size(0)\n",
    "            correct += (predicted == labels).sum().item()\n",
    "\n",
    "    print('Accuracy of the network on the 10000 test images: %d %%' % (\n",
    "        100 * correct / total))       \n",
    "print('Finished Training')"
   ]
  },
  {
   "cell_type": "code",
   "execution_count": 13,
   "metadata": {},
   "outputs": [
    {
     "name": "stdout",
     "output_type": "stream",
     "text": [
      "Accuracy of     0 : 83 %\n",
      "Accuracy of     1 : 83 %\n",
      "Accuracy of     2 : 100 %\n",
      "Accuracy of     3 : 80 %\n",
      "Accuracy of     4 : 83 %\n",
      "Accuracy of     5 : 25 %\n",
      "Accuracy of     6 : 100 %\n",
      "Accuracy of     7 : 100 %\n",
      "Accuracy of     8 : 83 %\n",
      "Accuracy of     9 : 57 %\n"
     ]
    }
   ],
   "source": [
    "class_correct = list(0. for i in range(10))\n",
    "class_total = list(0. for i in range(10))\n",
    "with torch.no_grad():\n",
    "    for data in testloader:\n",
    "        inputs, labels = data\n",
    "        inputs, labels = inputs.to(device), labels.to(device)\n",
    "        outputs = lr_net(inputs)\n",
    "        _, predicted = torch.max(outputs, 1)\n",
    "        c = (predicted == labels).squeeze()\n",
    "        for i in range(4):\n",
    "            label = labels[i]\n",
    "            class_correct[label] += c[i].item()\n",
    "            class_total[label] += 1\n",
    "\n",
    "\n",
    "for i in range(10):\n",
    "    print('Accuracy of %5s : %2d %%' % (\n",
    "        classes[i], 100 * class_correct[i] / class_total[i]))"
   ]
  },
  {
   "cell_type": "code",
   "execution_count": 14,
   "metadata": {},
   "outputs": [],
   "source": [
    "def class_accuracies(dataloader, model):\n",
    "    class_correct = list(0. for i in range(10))\n",
    "    class_total = list(0. for i in range(10))\n",
    "    with torch.no_grad():\n",
    "        for data in dataloader:\n",
    "            inputs, labels = data\n",
    "            inputs, labels = inputs.to(device), labels.to(device)\n",
    "            outputs = model(inputs)\n",
    "            _, predicted = torch.max(outputs, 1)\n",
    "            c = (predicted == labels).squeeze()\n",
    "            for i in range(4):\n",
    "                label = labels[i]\n",
    "                class_correct[label] += c[i].item()\n",
    "                class_total[label] += 1\n",
    "\n",
    "\n",
    "    for i in range(10):\n",
    "        print('Accuracy of %5s : %2d %%' % (\n",
    "            classes[i], 100 * class_correct[i] / class_total[i]))"
   ]
  },
  {
   "cell_type": "markdown",
   "metadata": {},
   "source": [
    "**The training stage can be abstracted.** Notice (almost) nothing is hardcoded to the specific task."
   ]
  },
  {
   "cell_type": "code",
   "execution_count": 15,
   "metadata": {
    "code_folding": []
   },
   "outputs": [],
   "source": [
    "def evaluate(dataloader, model, device):\n",
    "    correct, total = 0, 0 \n",
    "    with torch.no_grad():\n",
    "        for data in dataloader:\n",
    "            inputs, labels = data\n",
    "            inputs, labels = inputs.to(device), labels.to(device)\n",
    "            outputs = model(inputs)\n",
    "            _, predicted = torch.max(outputs.data, 1)\n",
    "            total += labels.size(0)\n",
    "            correct += (predicted == labels.to(device)).sum().item()\n",
    "    return correct/total\n",
    "\n",
    "# For updating learning rate\n",
    "def update_lr(optimizer, lr):    \n",
    "    for param_group in optimizer.param_groups:\n",
    "        param_group['lr'] = lr\n",
    "\n",
    "        \n",
    "        \n",
    "def train(model, trainloader, testloader, criterion, optimizer, device, \n",
    "          epochs=1, weight_decay=False, print_freq=1):\n",
    "    \n",
    "    train_accuracy, test_accuracy, loss_list = [], [], []\n",
    "    for epoch in range(epochs):  # loop over the dataset multiple times\n",
    "        running_loss = 0.0\n",
    "        for i, (inputs, labels) in enumerate(trainloader, 0):\n",
    "            # wrap the inputs       \n",
    "            inputs, labels = inputs.to(device), labels.to(device)\n",
    "      \n",
    "            # Forward pass\n",
    "            outputs = model(inputs)\n",
    "            loss = criterion(outputs, labels)\n",
    "\n",
    "            # Backward and optimize\n",
    "            optimizer.zero_grad()\n",
    "            loss.backward()\n",
    "            optimizer.step()\n",
    "            \n",
    "            running_loss += loss.item()\n",
    "\n",
    "        # Decay learning rate\n",
    "        if weight_decay and (epoch+1) % 20 == 0:\n",
    "            curr_lr /= 3\n",
    "            update_lr(optimizer, curr_lr)\n",
    "        \n",
    "        if epoch % print_freq == 0:\n",
    "            train_acc = evaluate(trainloader, model, device) \n",
    "            train_accuracy.append(train_acc)\n",
    "\n",
    "            test_acc = evaluate(testloader, model, device)\n",
    "            test_accuracy.append(test_acc)\n",
    "            loss_list.append(loss.item())\n",
    "        \n",
    "            print('[Epoch %2d ||  Train acc: %d %% | Test acc: %d %% | loss: %.3f ]' \n",
    "                              % (epoch, train_acc*100, test_acc*100, \n",
    "                                 running_loss/(len(trainloader))))\n",
    "\n",
    "    print('Finished Training')\n",
    "    return model, train_accuracy, test_accuracy, loss_list"
   ]
  },
  {
   "cell_type": "markdown",
   "metadata": {},
   "source": [
    "Train `lr_net` again:"
   ]
  },
  {
   "cell_type": "code",
   "execution_count": 16,
   "metadata": {},
   "outputs": [],
   "source": [
    "device = torch.device(\"cuda:0\" if torch.cuda.is_available() else \"cpu\")\n",
    "lr_net = LinearRegression().to(device)"
   ]
  },
  {
   "cell_type": "code",
   "execution_count": 17,
   "metadata": {},
   "outputs": [],
   "source": [
    "# loss function and optimizer\n",
    "criterion = nn.CrossEntropyLoss()\n",
    "optimizer = optim.SGD(lr_net.parameters(), lr=0.001, momentum=0.9)"
   ]
  },
  {
   "cell_type": "code",
   "execution_count": 18,
   "metadata": {},
   "outputs": [
    {
     "name": "stdout",
     "output_type": "stream",
     "text": [
      "[Epoch  0 ||  Train acc: 75 % | Test acc: 75 % | loss: 1.984 ]\n",
      "[Epoch  1 ||  Train acc: 79 % | Test acc: 81 % | loss: 1.415 ]\n",
      "[Epoch  2 ||  Train acc: 82 % | Test acc: 84 % | loss: 1.124 ]\n",
      "[Epoch  3 ||  Train acc: 83 % | Test acc: 85 % | loss: 0.959 ]\n",
      "[Epoch  4 ||  Train acc: 84 % | Test acc: 86 % | loss: 0.853 ]\n",
      "[Epoch  5 ||  Train acc: 84 % | Test acc: 86 % | loss: 0.780 ]\n",
      "[Epoch  6 ||  Train acc: 85 % | Test acc: 87 % | loss: 0.725 ]\n",
      "[Epoch  7 ||  Train acc: 85 % | Test acc: 87 % | loss: 0.683 ]\n",
      "[Epoch  8 ||  Train acc: 86 % | Test acc: 87 % | loss: 0.648 ]\n",
      "[Epoch  9 ||  Train acc: 86 % | Test acc: 88 % | loss: 0.621 ]\n",
      "Finished Training\n",
      "11.2 seconds\n"
     ]
    }
   ],
   "source": [
    "import time\n",
    "start = time.time()\n",
    "\n",
    "lr_net, train_acc, test_acc, losses = train(lr_net, trainloader, testloader,\n",
    "                                            criterion, optimizer, device, \n",
    "                                            epochs=10, print_freq=1)\n",
    "\n",
    "end = time.time()\n",
    "print('%.1f seconds' % (end - start))"
   ]
  },
  {
   "cell_type": "code",
   "execution_count": 19,
   "metadata": {},
   "outputs": [],
   "source": [
    "def plot_acc(train_acc, test_acc, losses, save=False, outfile='img.plt'):\n",
    "    fig = plt.figure()\n",
    "    fig.set_size_inches([12, 6])\n",
    "    \n",
    "    plt.plot(train_acc, 'y', alpha = 0.5, label = 'Training Accuracy')\n",
    "    plt.plot(test_acc, 'r', alpha = 0.5, label = 'Testing Accuracy')\n",
    "    plt.plot(losses/np.max(losses), 'g', alpha = 0.5, label = 'Loss')\n",
    "    plt.ylabel('Accuracy'); plt.xlabel('Interations')\n",
    "    plt.ylim(0, plt.ylim()[1]); plt.ylim(0, 1)\n",
    "    \n",
    "    plt.legend()\n",
    "    if save:\n",
    "        plt.savefig(outfile)\n",
    "    plt.show()"
   ]
  },
  {
   "cell_type": "code",
   "execution_count": 20,
   "metadata": {},
   "outputs": [
    {
     "data": {
      "image/png": "[encoded data removed]",
      "text/plain": [
       "<matplotlib.figure.Figure at 0x7f7b0d49a2b0>"
      ]
     },
     "metadata": {},
     "output_type": "display_data"
    }
   ],
   "source": [
    "plot_acc(train_acc, test_acc, losses)\n",
    "#plot_acc(train_acc, test_acc, losses, save=True, outfile='lr_net.png')"
   ]
  },
  {
   "cell_type": "code",
   "execution_count": 21,
   "metadata": {},
   "outputs": [
    {
     "name": "stdout",
     "output_type": "stream",
     "text": [
      "Accuracy of     0 : 100 %\n",
      "Accuracy of     1 : 100 %\n",
      "Accuracy of     2 : 75 %\n",
      "Accuracy of     3 : 83 %\n",
      "Accuracy of     4 : 88 %\n",
      "Accuracy of     5 : 75 %\n",
      "Accuracy of     6 : 80 %\n",
      "Accuracy of     7 : 100 %\n",
      "Accuracy of     8 : 75 %\n",
      "Accuracy of     9 : 57 %\n"
     ]
    }
   ],
   "source": [
    "class_accuracies(testloader, lr_net)"
   ]
  },
  {
   "cell_type": "markdown",
   "metadata": {},
   "source": [
    "### Part (b) - MLP\n",
    "\n",
    "Fully connected output, 1 fully connected hidden layer: we will have one hidden layer denoted as $x^{hidden} \\in \\mathbb{R}^M$ where $M$ will be a hyperparameter you choose ($M$ could be in the hundreds). The nonlinearity applied to the hidden layer will be the relu (relu$(x) = \\max\\{0, x\\}$, elementwise). Conceptually, one could write this network as:\n",
    "\n",
    "$$ x^{out} = W_2\\text{relu}(W_1\\text{vec}(x^{in}) + b_1) + b_2$$\n",
    "\n",
    "where $W_1 \\in \\mathbb{R}^{M \\times 3072}, b_1 \\in \\mathbb{R}^M, W_2 \\in \\mathbb{R}^{10 \\times M}, b_2 \\in \\mathbb{R}^{10}$."
   ]
  },
  {
   "cell_type": "code",
   "execution_count": 22,
   "metadata": {},
   "outputs": [],
   "source": [
    "# choose the number of hidden layers\n",
    "M = 128"
   ]
  },
  {
   "cell_type": "code",
   "execution_count": 23,
   "metadata": {},
   "outputs": [],
   "source": [
    "class OneHidden(nn.Module):\n",
    "    def __init__(self):\n",
    "        super(OneHidden, self).__init__()\n",
    "        self.fc1 = nn.Linear(np.prod(img_shape), M)\n",
    "        self.fc2 = nn.Linear(M, 10)\n",
    "\n",
    "    def forward(self, x):\n",
    "        x = x.view(-1, np.prod(img_shape))\n",
    "        x = F.relu(self.fc1(x))\n",
    "        x = self.fc2(x)\n",
    "        return x"
   ]
  },
  {
   "cell_type": "code",
   "execution_count": 24,
   "metadata": {},
   "outputs": [],
   "source": [
    "device = torch.device(\"cuda:0\" if torch.cuda.is_available() else \"cpu\")\n",
    "one_hidden_net = OneHidden().to(device)"
   ]
  },
  {
   "cell_type": "code",
   "execution_count": 25,
   "metadata": {},
   "outputs": [],
   "source": [
    "# loss function and optimizer\n",
    "criterion = nn.CrossEntropyLoss()\n",
    "optimizer = optim.SGD(one_hidden_net.parameters(), lr=0.001, momentum=0.9)\n",
    "#optimizer = optim.Adam(net.parameters(), betas = (0.9, 0.999))"
   ]
  },
  {
   "cell_type": "code",
   "execution_count": 26,
   "metadata": {},
   "outputs": [
    {
     "name": "stdout",
     "output_type": "stream",
     "text": [
      "[Epoch  0 ||  Train acc: 52 % | Test acc: 51 % | loss: 2.216 ]\n",
      "[Epoch  1 ||  Train acc: 66 % | Test acc: 67 % | loss: 1.994 ]\n",
      "[Epoch  2 ||  Train acc: 74 % | Test acc: 75 % | loss: 1.702 ]\n",
      "[Epoch  3 ||  Train acc: 77 % | Test acc: 78 % | loss: 1.394 ]\n",
      "[Epoch  4 ||  Train acc: 79 % | Test acc: 81 % | loss: 1.135 ]\n",
      "[Epoch  5 ||  Train acc: 82 % | Test acc: 83 % | loss: 0.949 ]\n",
      "[Epoch  6 ||  Train acc: 83 % | Test acc: 84 % | loss: 0.820 ]\n",
      "[Epoch  7 ||  Train acc: 84 % | Test acc: 84 % | loss: 0.730 ]\n",
      "[Epoch  8 ||  Train acc: 85 % | Test acc: 86 % | loss: 0.663 ]\n",
      "[Epoch  9 ||  Train acc: 86 % | Test acc: 86 % | loss: 0.611 ]\n",
      "[Epoch 10 ||  Train acc: 86 % | Test acc: 87 % | loss: 0.571 ]\n",
      "[Epoch 11 ||  Train acc: 87 % | Test acc: 87 % | loss: 0.539 ]\n",
      "[Epoch 12 ||  Train acc: 88 % | Test acc: 88 % | loss: 0.511 ]\n",
      "[Epoch 13 ||  Train acc: 88 % | Test acc: 88 % | loss: 0.489 ]\n",
      "[Epoch 14 ||  Train acc: 88 % | Test acc: 89 % | loss: 0.470 ]\n",
      "Finished Training\n",
      "17.7 seconds\n"
     ]
    }
   ],
   "source": [
    "start = time.time()\n",
    "one_hidden_net, train_acc, test_acc, losses = train(one_hidden_net, trainloader, testloader,\n",
    "                                           criterion, optimizer, device=device,\n",
    "                                           epochs=15, print_freq=1)\n",
    "end = time.time()\n",
    "print('%.1f seconds' % (end - start))"
   ]
  },
  {
   "cell_type": "code",
   "execution_count": 27,
   "metadata": {},
   "outputs": [
    {
     "data": {
      "image/png": "[encoded data removed]",
      "text/plain": [
       "<matplotlib.figure.Figure at 0x7f7b0d3ac2b0>"
      ]
     },
     "metadata": {},
     "output_type": "display_data"
    }
   ],
   "source": [
    "plot_acc(train_acc, test_acc, losses)\n",
    "#plot_acc(train_acc, test_acc, losses, save=True, outfile='one_hidden_net.png')"
   ]
  },
  {
   "cell_type": "code",
   "execution_count": 28,
   "metadata": {},
   "outputs": [
    {
     "name": "stdout",
     "output_type": "stream",
     "text": [
      "Accuracy of     0 : 100 %\n",
      "Accuracy of     1 : 100 %\n",
      "Accuracy of     2 : 75 %\n",
      "Accuracy of     3 : 100 %\n",
      "Accuracy of     4 : 90 %\n",
      "Accuracy of     5 : 100 %\n",
      "Accuracy of     6 : 100 %\n",
      "Accuracy of     7 : 50 %\n",
      "Accuracy of     8 : 100 %\n",
      "Accuracy of     9 : 80 %\n"
     ]
    }
   ],
   "source": [
    "class_accuracies(testloader, one_hidden_net)"
   ]
  },
  {
   "cell_type": "markdown",
   "metadata": {},
   "source": [
    "### Part (c) - Simple Conv Net\n",
    "\n",
    "\n",
    "Fully connected output, 1 convolutional layer with max-pool: for a convolutional layer $W_1$ with individual filters of size $p \\times p \\times 3$ and output size $M$ (reasonable choices are $M = 100, p = 5$) we have that Conv2d$(x^{input}, W_1) \\in \\mathbb{R}^{(33 - p)\\times (33 - p) \\times M}$. \n",
    "\n",
    "Each convolution will have its own offset applied to each of the output pixels of the convolution; we denote this as Conv2d$(x^{input}, W) + b_1$ where $b_1$ is parameterized in $\\mathbb{R}^M$. We will then apply a relu (relu doesn't change the tensor space) and pool. If we use a max-pool of size $N$ (a reasonable choice is $N = 14$ to pool to $2 \\times 2$ with $p = 5$) we have that \n",
    "\n",
    "$$ \\text{MaxPool(relu(Conv2d}(x^{input}, W_1) + b_1)) \\in \\mathbb{R}^{\\lfloor \\frac{33-p}{N} \\rfloor \\times \\lfloor \\frac{33- p}{N} \\rfloor \\times M}.$$\n",
    "\n",
    "We will then apply a fully connected layer to the output to get the final network given as\n",
    "\n",
    "$$ x^{out} = W_2\\text{vec}(\\text{MaxPool}(\\text{relu}(\\text{Conv2d}(x^{in}, W_1) + b_1))) + b_2$$\n",
    "\n",
    "where $W_2 \\in \\mathbb{R}^{10 \\times M(\\lfloor \\frac{33-p}{N} \\rfloor)^2}, b_2 \\in \\mathbb{R}^{10}$. The parameters $M, p, N$ (in addition to the step size and the momentum are all hyperparameters."
   ]
  },
  {
   "cell_type": "code",
   "execution_count": 29,
   "metadata": {},
   "outputs": [],
   "source": [
    "p = 5 # size of filters\n",
    "M = 100 # number of filters\n",
    "N = 14 # pooling size\n",
    "input_size = img_shape[0]\n",
    "output_size = 10\n",
    "channel_nb = img_shape[2] # i.e. RGB\n",
    "floor_divide = np.floor_divide(input_size + 1 - p, N) # this is floor(28/14) = 2\n",
    "\n",
    "class OneConv(nn.Module):\n",
    "    def __init__(self):\n",
    "        super(OneConv, self).__init__()\n",
    "        self.conv1 = nn.Conv2d(channel_nb, M, p) ## 6x28x28, where 28 = 33-5\n",
    "        self.pool = nn.MaxPool2d(N, N) ## 6 x 14 x 14\n",
    "        self.fc1 = nn.Linear(M * floor_divide * floor_divide, output_size)\n",
    "\n",
    "    def forward(self, x):\n",
    "        x = self.conv1(x)\n",
    "        x = F.relu(x)\n",
    "        x = self.pool(x)\n",
    "        x = x.view(-1, M * floor_divide * floor_divide)\n",
    "        x = self.fc1(x)\n",
    "        return x"
   ]
  },
  {
   "cell_type": "code",
   "execution_count": 30,
   "metadata": {},
   "outputs": [],
   "source": [
    "device = torch.device(\"cuda:0\" if torch.cuda.is_available() else \"cpu\")\n",
    "one_conv_net = OneConv().to(device)"
   ]
  },
  {
   "cell_type": "code",
   "execution_count": 31,
   "metadata": {},
   "outputs": [],
   "source": [
    "# loss function and optimizer\n",
    "criterion = nn.CrossEntropyLoss()\n",
    "optimizer = optim.SGD(one_conv_net.parameters(), lr=0.001, momentum=0.9)\n",
    "#optimizer = optim.Adam(net.parameters(), betas = (0.9, 0.999))"
   ]
  },
  {
   "cell_type": "code",
   "execution_count": 32,
   "metadata": {
    "code_folding": []
   },
   "outputs": [
    {
     "name": "stdout",
     "output_type": "stream",
     "text": [
      "[Epoch  0 ||  Train acc: 25 % | Test acc: 25 % | loss: 2.250 ]\n",
      "[Epoch  1 ||  Train acc: 69 % | Test acc: 69 % | loss: 2.110 ]\n",
      "[Epoch  2 ||  Train acc: 70 % | Test acc: 70 % | loss: 1.961 ]\n",
      "[Epoch  3 ||  Train acc: 81 % | Test acc: 82 % | loss: 1.796 ]\n",
      "[Epoch  4 ||  Train acc: 79 % | Test acc: 81 % | loss: 1.617 ]\n",
      "[Epoch  5 ||  Train acc: 86 % | Test acc: 88 % | loss: 1.438 ]\n",
      "[Epoch  6 ||  Train acc: 85 % | Test acc: 86 % | loss: 1.267 ]\n",
      "[Epoch  7 ||  Train acc: 86 % | Test acc: 89 % | loss: 1.114 ]\n",
      "[Epoch  8 ||  Train acc: 87 % | Test acc: 89 % | loss: 0.982 ]\n",
      "[Epoch  9 ||  Train acc: 87 % | Test acc: 90 % | loss: 0.870 ]\n",
      "[Epoch 10 ||  Train acc: 89 % | Test acc: 92 % | loss: 0.779 ]\n",
      "[Epoch 11 ||  Train acc: 89 % | Test acc: 91 % | loss: 0.702 ]\n",
      "[Epoch 12 ||  Train acc: 89 % | Test acc: 92 % | loss: 0.640 ]\n",
      "[Epoch 13 ||  Train acc: 89 % | Test acc: 92 % | loss: 0.589 ]\n",
      "[Epoch 14 ||  Train acc: 89 % | Test acc: 92 % | loss: 0.545 ]\n",
      "[Epoch 15 ||  Train acc: 90 % | Test acc: 93 % | loss: 0.509 ]\n",
      "[Epoch 16 ||  Train acc: 91 % | Test acc: 93 % | loss: 0.476 ]\n",
      "[Epoch 17 ||  Train acc: 91 % | Test acc: 93 % | loss: 0.450 ]\n",
      "[Epoch 18 ||  Train acc: 91 % | Test acc: 94 % | loss: 0.427 ]\n",
      "[Epoch 19 ||  Train acc: 91 % | Test acc: 93 % | loss: 0.406 ]\n",
      "[Epoch 20 ||  Train acc: 91 % | Test acc: 93 % | loss: 0.388 ]\n",
      "[Epoch 21 ||  Train acc: 92 % | Test acc: 94 % | loss: 0.373 ]\n",
      "[Epoch 22 ||  Train acc: 92 % | Test acc: 94 % | loss: 0.357 ]\n",
      "[Epoch 23 ||  Train acc: 92 % | Test acc: 94 % | loss: 0.344 ]\n",
      "[Epoch 24 ||  Train acc: 92 % | Test acc: 94 % | loss: 0.333 ]\n",
      "[Epoch 25 ||  Train acc: 93 % | Test acc: 94 % | loss: 0.323 ]\n",
      "[Epoch 26 ||  Train acc: 92 % | Test acc: 94 % | loss: 0.312 ]\n",
      "[Epoch 27 ||  Train acc: 93 % | Test acc: 94 % | loss: 0.303 ]\n",
      "[Epoch 28 ||  Train acc: 93 % | Test acc: 95 % | loss: 0.295 ]\n",
      "[Epoch 29 ||  Train acc: 93 % | Test acc: 95 % | loss: 0.288 ]\n",
      "Finished Training\n",
      "40.3 seconds\n"
     ]
    }
   ],
   "source": [
    "start = time.time()\n",
    "one_conv_net, train_acc, test_acc, losses = train(one_conv_net, trainloader, testloader,\n",
    "                                           criterion, optimizer, device=device,\n",
    "                                           epochs=30, print_freq=1)\n",
    "end = time.time()\n",
    "print('%.1f seconds' % (end - start))"
   ]
  },
  {
   "cell_type": "code",
   "execution_count": 33,
   "metadata": {},
   "outputs": [
    {
     "data": {
      "image/png": "[encoded data removed]",
      "text/plain": [
       "<matplotlib.figure.Figure at 0x7f7b0434b3c8>"
      ]
     },
     "metadata": {},
     "output_type": "display_data"
    }
   ],
   "source": [
    "plot_acc(train_acc, test_acc, losses)\n",
    "#plot_acc(train_acc, test_acc, losses, save=True, outfile='one_conv_net.png')"
   ]
  },
  {
   "cell_type": "code",
   "execution_count": 34,
   "metadata": {},
   "outputs": [
    {
     "name": "stdout",
     "output_type": "stream",
     "text": [
      "Accuracy of     0 : 100 %\n",
      "Accuracy of     1 : 100 %\n",
      "Accuracy of     2 : 100 %\n",
      "Accuracy of     3 : 100 %\n",
      "Accuracy of     4 : 90 %\n",
      "Accuracy of     5 : 100 %\n",
      "Accuracy of     6 : 80 %\n",
      "Accuracy of     7 : 100 %\n",
      "Accuracy of     8 : 100 %\n",
      "Accuracy of     9 : 87 %\n"
     ]
    }
   ],
   "source": [
    "class_accuracies(testloader, one_conv_net)"
   ]
  },
  {
   "cell_type": "markdown",
   "metadata": {},
   "source": [
    "### Part (d)\n",
    "\n",
    "We will return to the original network you were left with at the end of the tutorial Training a classifier, tune the different hyperparameters (number of convolutional filters, filter sizes, dimensionality of the fully connected layers, stepsize, etc.) and train for many epochs to achieve a test accuracy of at least 85%."
   ]
  },
  {
   "cell_type": "markdown",
   "metadata": {},
   "source": [
    "##### Model"
   ]
  },
  {
   "cell_type": "code",
   "execution_count": 35,
   "metadata": {},
   "outputs": [],
   "source": [
    "conv_size1 = 5 \n",
    "conv_size2 = 3\n",
    "num_hidden_nodes = 128 ## \n",
    "N = 2\n",
    "input_size = img_shape[0]\n",
    "output_size = 10\n",
    "channel_nb = img_shape[2]\n",
    "pool_size = 2\n",
    "\n",
    "\n",
    "class ConvNet(nn.Module):\n",
    "    def __init__(self):\n",
    "        super(ConvNet, self).__init__()\n",
    "        # input (32, 32, 3)\n",
    "        self.conv1 = nn.Conv2d(channel_nb, num_hidden_nodes, conv_size1, padding = 2) \n",
    "        # input (32, 32, 128)\n",
    "        self.pool = nn.MaxPool2d(2, 2) \n",
    "        # input (16, 16, 128)\n",
    "        self.conv2 = nn.Conv2d(num_hidden_nodes, 256, 3, padding = 1) \n",
    "        # pool\n",
    "        # input (8, 8, 256)\n",
    "        self.conv3 = nn.Conv2d(256, 512, 3, padding = 1) \n",
    "        # pool\n",
    "        # input (4, 4, 512)\n",
    "        self.fc1 = nn.Linear(512 * 4 * 4, 2048) \n",
    "        # input (2048)\n",
    "        self.fc2 = nn.Linear(2048, 256)\n",
    "        # input (256)\n",
    "        self.fc3 = nn.Linear(256, 10)\n",
    "\n",
    "    def forward(self, x):\n",
    "        x = self.pool(F.relu(self.conv1(x)))\n",
    "        x = self.pool(F.relu(self.conv2(x)))\n",
    "        x = self.pool(F.relu(self.conv3(x)))\n",
    "        x = x.view(-1, 512 * 4 * 4) \n",
    "        x = F.relu(self.fc1(x))\n",
    "        x = F.relu(self.fc2(x))\n",
    "        x = self.fc3(x)\n",
    "        return x"
   ]
  },
  {
   "cell_type": "code",
   "execution_count": 36,
   "metadata": {
    "scrolled": true
   },
   "outputs": [],
   "source": [
    "conv_net = ConvNet().to(device)"
   ]
  },
  {
   "cell_type": "code",
   "execution_count": 37,
   "metadata": {},
   "outputs": [],
   "source": [
    "# loss function and optimizer\n",
    "criterion = nn.CrossEntropyLoss()\n",
    "optimizer = optim.SGD(conv_net.parameters(), lr=0.001, momentum=0.9)\n",
    "#optimizer = optim.Adam(net.parameters(), betas = (0.9, 0.999))"
   ]
  },
  {
   "cell_type": "code",
   "execution_count": 38,
   "metadata": {},
   "outputs": [
    {
     "name": "stdout",
     "output_type": "stream",
     "text": [
      "[Epoch  0 ||  Train acc: 16 % | Test acc: 15 % | loss: 2.300 ]\n",
      "[Epoch  1 ||  Train acc: 19 % | Test acc: 18 % | loss: 2.292 ]\n",
      "[Epoch  2 ||  Train acc: 26 % | Test acc: 27 % | loss: 2.280 ]\n",
      "[Epoch  3 ||  Train acc: 35 % | Test acc: 38 % | loss: 2.257 ]\n",
      "[Epoch  4 ||  Train acc: 36 % | Test acc: 38 % | loss: 2.198 ]\n",
      "[Epoch  5 ||  Train acc: 61 % | Test acc: 64 % | loss: 1.956 ]\n",
      "[Epoch  6 ||  Train acc: 72 % | Test acc: 74 % | loss: 1.209 ]\n",
      "[Epoch  7 ||  Train acc: 76 % | Test acc: 78 % | loss: 0.776 ]\n",
      "[Epoch  8 ||  Train acc: 83 % | Test acc: 86 % | loss: 0.618 ]\n",
      "[Epoch  9 ||  Train acc: 84 % | Test acc: 85 % | loss: 0.521 ]\n",
      "[Epoch 10 ||  Train acc: 86 % | Test acc: 88 % | loss: 0.478 ]\n",
      "[Epoch 11 ||  Train acc: 88 % | Test acc: 90 % | loss: 0.404 ]\n",
      "[Epoch 12 ||  Train acc: 90 % | Test acc: 91 % | loss: 0.364 ]\n",
      "[Epoch 13 ||  Train acc: 90 % | Test acc: 91 % | loss: 0.329 ]\n",
      "[Epoch 14 ||  Train acc: 89 % | Test acc: 90 % | loss: 0.311 ]\n",
      "[Epoch 15 ||  Train acc: 90 % | Test acc: 91 % | loss: 0.298 ]\n",
      "[Epoch 16 ||  Train acc: 93 % | Test acc: 93 % | loss: 0.263 ]\n",
      "[Epoch 17 ||  Train acc: 92 % | Test acc: 93 % | loss: 0.230 ]\n",
      "[Epoch 18 ||  Train acc: 93 % | Test acc: 94 % | loss: 0.221 ]\n",
      "[Epoch 19 ||  Train acc: 95 % | Test acc: 95 % | loss: 0.195 ]\n",
      "[Epoch 20 ||  Train acc: 94 % | Test acc: 95 % | loss: 0.189 ]\n",
      "[Epoch 21 ||  Train acc: 95 % | Test acc: 95 % | loss: 0.172 ]\n",
      "[Epoch 22 ||  Train acc: 95 % | Test acc: 95 % | loss: 0.162 ]\n",
      "[Epoch 23 ||  Train acc: 95 % | Test acc: 95 % | loss: 0.162 ]\n",
      "[Epoch 24 ||  Train acc: 96 % | Test acc: 96 % | loss: 0.143 ]\n",
      "[Epoch 25 ||  Train acc: 96 % | Test acc: 95 % | loss: 0.139 ]\n",
      "[Epoch 26 ||  Train acc: 96 % | Test acc: 96 % | loss: 0.136 ]\n",
      "[Epoch 27 ||  Train acc: 96 % | Test acc: 96 % | loss: 0.115 ]\n",
      "[Epoch 28 ||  Train acc: 97 % | Test acc: 97 % | loss: 0.116 ]\n",
      "[Epoch 29 ||  Train acc: 95 % | Test acc: 96 % | loss: 0.115 ]\n",
      "Finished Training\n",
      "78.5 seconds\n"
     ]
    }
   ],
   "source": [
    "start = time.time() # 22 min on 1080 Ti\n",
    "\n",
    "conv_net, train_acc, test_acc, losses = train(conv_net, trainloader, testloader,\n",
    "                                           criterion, optimizer, device=device,\n",
    "                                           epochs=30, print_freq=1)\n",
    "\n",
    "end = time.time()\n",
    "print('%.1f seconds' % (end - start))"
   ]
  },
  {
   "cell_type": "code",
   "execution_count": 39,
   "metadata": {},
   "outputs": [
    {
     "data": {
      "image/png": "[encoded data removed]",
      "text/plain": [
       "<matplotlib.figure.Figure at 0x7f7b04310ef0>"
      ]
     },
     "metadata": {},
     "output_type": "display_data"
    }
   ],
   "source": [
    "plot_acc(train_acc, test_acc, losses)\n",
    "#plot_acc(train_acc, test_acc, losses, save=True, outfile='conv_net.png')"
   ]
  },
  {
   "cell_type": "markdown",
   "metadata": {},
   "source": [
    "##### Accuracy on particular classes"
   ]
  },
  {
   "cell_type": "code",
   "execution_count": 50,
   "metadata": {},
   "outputs": [
    {
     "name": "stdout",
     "output_type": "stream",
     "text": [
      "Accuracy of     0 : 100 %\n",
      "Accuracy of     1 : 100 %\n",
      "Accuracy of     2 : 100 %\n",
      "Accuracy of     3 : 100 %\n",
      "Accuracy of     4 : 100 %\n",
      "Accuracy of     5 : 100 %\n",
      "Accuracy of     6 : 100 %\n",
      "Accuracy of     7 : 100 %\n",
      "Accuracy of     8 : 88 %\n",
      "Accuracy of     9 : 93 %\n"
     ]
    }
   ],
   "source": [
    "class_accuracies(testloader, conv_net)"
   ]
  },
  {
   "cell_type": "code",
   "execution_count": 51,
   "metadata": {},
   "outputs": [
    {
     "data": {
      "text/plain": [
       "0.98"
      ]
     },
     "execution_count": 51,
     "metadata": {},
     "output_type": "execute_result"
    }
   ],
   "source": [
    "test_acc = evaluate(testloader, conv_net, device)\n",
    "test_acc"
   ]
  },
  {
   "cell_type": "markdown",
   "metadata": {},
   "source": [
    "# ResNet"
   ]
  },
  {
   "cell_type": "code",
   "execution_count": 40,
   "metadata": {
    "code_folding": []
   },
   "outputs": [],
   "source": [
    "class ResNetFull(nn.Module):\n",
    "    def __init__(self):\n",
    "        super(ResNetFull, self).__init__()\n",
    "        self.conv1 = nn.Conv2d(img_shape[2],16,kernel_size=3, stride=1, padding=1, bias=False)\n",
    "        self.bn = nn.BatchNorm2d(16)\n",
    "        self.relu = nn.ReLU(inplace=True)\n",
    "        \n",
    "        # layer 1\n",
    "        # block 1      \n",
    "        self.conv1_blck1_lyr1 = nn.Conv2d(16,16,kernel_size=3, padding=1, bias=False)\n",
    "        self.bn1_blck1_lyr1 = nn.BatchNorm2d(16)\n",
    "        self.relu_blck1_lyr1 = nn.ReLU(inplace=True)\n",
    "        self.conv2_blck1_lyr1 = nn.Conv2d(16,16,kernel_size=3, padding=1, bias=False)\n",
    "        self.bn2_blck1_lyr1 = nn.BatchNorm2d(16)\n",
    "        \n",
    "        # block 2\n",
    "        self.conv1_blck2_lyr1 = nn.Conv2d(16,16,kernel_size=3, padding=1, bias=False)\n",
    "        self.bn1_blck2_lyr1 = nn.BatchNorm2d(16)\n",
    "        self.relu_blck2_lyr1 = nn.ReLU(inplace=True)\n",
    "        self.conv2_blck2_lyr1 = nn.Conv2d(16,16,kernel_size=3, padding=1, bias=False)\n",
    "        self.bn2_blck2_lyr1 = nn.BatchNorm2d(16)\n",
    "        \n",
    "        # block 3\n",
    "        self.conv1_blck3_lyr1 = nn.Conv2d(16,16,kernel_size=3, padding=1, bias=False)\n",
    "        self.bn1_blck3_lyr1 = nn.BatchNorm2d(16)\n",
    "        self.relu_blck3_lyr1 = nn.ReLU(inplace=True)\n",
    "        self.conv2_blck3_lyr1 = nn.Conv2d(16,16,kernel_size=3, padding=1, bias=False)\n",
    "        self.bn2_blck3_lyr1 = nn.BatchNorm2d(16)\n",
    "        \n",
    "        # layer 2\n",
    "        self.downsample1 = nn.Sequential(nn.Conv2d(16, 32, stride=2, kernel_size=3, \n",
    "                                        padding=1, bias=False), nn.BatchNorm2d(32))\n",
    "        \n",
    "        self.conv1_blck1_lyr2 = nn.Conv2d(32,32,kernel_size=3, padding=1, bias=False)\n",
    "        self.bn1_blck1_lyr2 = nn.BatchNorm2d(32)\n",
    "        self.relu_blck1_lyr2 = nn.ReLU(inplace=True)\n",
    "        self.conv2_blck1_lyr2 = nn.Conv2d(32,32,kernel_size=3, padding=1, bias=False)\n",
    "        self.bn2_blck1_lyr2 = nn.BatchNorm2d(32)\n",
    "        \n",
    "        self.conv1_blck2_lyr2 = nn.Conv2d(32,32,kernel_size=3, padding=1, bias=False)\n",
    "        self.bn1_blck2_lyr2 = nn.BatchNorm2d(32)\n",
    "        self.relu_blck2_lyr2 = nn.ReLU(inplace=True)\n",
    "        self.conv2_blck2_lyr2 = nn.Conv2d(32,32,kernel_size=3, padding=1, bias=False)\n",
    "        self.bn2_blck2_lyr2 = nn.BatchNorm2d(32)\n",
    "        \n",
    "        # layer 3\n",
    "        self.downsample2 = nn.Sequential(nn.Conv2d(32, 64, stride=2, kernel_size=3, \n",
    "                                        padding=1, bias=False),nn.BatchNorm2d(64))\n",
    "        self.conv1_blck1_lyr3 = nn.Conv2d(64,64,kernel_size=3, padding=1, bias=False)\n",
    "        self.bn1_blck1_lyr3 = nn.BatchNorm2d(64)\n",
    "        self.relu_blck1_lyr3 = nn.ReLU(inplace=True)\n",
    "        self.conv2_blck1_lyr3 = nn.Conv2d(64,64,kernel_size=3, padding=1, bias=False)\n",
    "        self.bn2_blck1_lyr3 =nn.BatchNorm2d(64)\n",
    "        \n",
    "        self.conv1_blck2_lyr3 = nn.Conv2d(64,64,kernel_size=3, padding=1, bias=False)\n",
    "        self.bn1_blck2_lyr3 = nn.BatchNorm2d(64)\n",
    "        self.relu_blck2_lyr3 = nn.ReLU(inplace=True)\n",
    "        self.conv2_blck2_lyr3 = nn.Conv2d(64,64,kernel_size=3, padding=1, bias=False)\n",
    "        self.bn2_blck2_lyr3 = nn.BatchNorm2d(64)\n",
    "        \n",
    "        self.avg_pool = nn.AvgPool2d(8) \n",
    "        self.fc1 = nn.Linear(64 * 1 * 1, 10)\n",
    "        \n",
    "    def forward(self, x):\n",
    "        \n",
    "        out = self.conv1(x)\n",
    "        out = self.bn(out)\n",
    "        out = self.relu(out)\n",
    "        \n",
    "        ## layer 1\n",
    "        # block 1\n",
    "        residual = out\n",
    "        out = self.conv1_blck1_lyr1(out)\n",
    "        out = self.bn1_blck1_lyr1(out)\n",
    "        out = self.relu_blck1_lyr1(out)\n",
    "        out = self.conv2_blck1_lyr1(out)\n",
    "        out = self.bn2_blck1_lyr1(out)\n",
    "        out += residual\n",
    "        \n",
    "        # block 2\n",
    "        residual = out\n",
    "        out = self.conv1_blck2_lyr1(out)\n",
    "        out = self.bn1_blck2_lyr1(out)\n",
    "        out = self.relu_blck2_lyr1(out)\n",
    "        out = self.conv2_blck2_lyr1(out)\n",
    "        out = self.bn2_blck2_lyr1(out)\n",
    "        out += residual\n",
    "        \n",
    "        # block 3\n",
    "        residual = out\n",
    "        out = self.conv1_blck3_lyr1(out)\n",
    "        out = self.bn1_blck3_lyr1(out)\n",
    "        out = self.relu_blck3_lyr1(out)\n",
    "        out = self.conv2_blck3_lyr1(out)\n",
    "        out = self.bn2_blck3_lyr1(out)\n",
    "        out += residual\n",
    "        \n",
    "\n",
    "        ## layer 2\n",
    "        # block 1\n",
    "        residual = self.downsample1(out)\n",
    "        out = self.downsample1(out) # downsample\n",
    "        out = self.conv1_blck1_lyr2(out)\n",
    "        out = self.bn1_blck1_lyr2(out)\n",
    "        out = self.relu_blck1_lyr2(out)\n",
    "        out = self.conv2_blck1_lyr2(out)\n",
    "        out = self.bn2_blck1_lyr2(out)\n",
    "        out += residual\n",
    "        \n",
    "        # block 2\n",
    "        residual = out\n",
    "        out = self.conv1_blck2_lyr2(out)\n",
    "        out = self.bn1_blck2_lyr2(out)\n",
    "        out = self.relu_blck2_lyr2(out)\n",
    "        out = self.conv2_blck2_lyr2(out)\n",
    "        out = self.bn2_blck2_lyr2(out)\n",
    "        out += residual\n",
    "\n",
    "\n",
    "        ## layer 3\n",
    "        # block 1\n",
    "        residual = self.downsample2(out)\n",
    "        out = self.downsample2(out) # downsample\n",
    "        out = self.conv1_blck1_lyr3(out)\n",
    "        out = self.bn1_blck1_lyr3(out)\n",
    "        out = self.relu_blck1_lyr3(out)\n",
    "        out = self.conv2_blck1_lyr3(out)\n",
    "        out = self.bn2_blck1_lyr3(out)\n",
    "        out += residual\n",
    "        \n",
    "        # block 2\n",
    "        residual = out\n",
    "        out = self.conv1_blck2_lyr3(out)\n",
    "        out = self.bn1_blck2_lyr3(out)\n",
    "        out = self.relu_blck2_lyr3(out)\n",
    "        out = self.conv2_blck2_lyr3(out)\n",
    "        out = self.bn2_blck2_lyr3(out)\n",
    "        out += residual\n",
    "        \n",
    "        out = self.avg_pool(out)\n",
    "        out = out.view(-1, 1*1*64)\n",
    "        out = self.fc1(out)\n",
    "        return out"
   ]
  },
  {
   "cell_type": "code",
   "execution_count": 41,
   "metadata": {},
   "outputs": [],
   "source": [
    "fullnet = ResNetFull().to(device)\n",
    "\n",
    "# loss function and optimizer\n",
    "criterion = nn.CrossEntropyLoss()\n",
    "optimizer = optim.SGD(fullnet.parameters(), lr=0.001, momentum=0.9)\n",
    "#optimizer = optim.Adam(fullnet.parameters(), betas = (0.9, 0.999))"
   ]
  },
  {
   "cell_type": "code",
   "execution_count": null,
   "metadata": {},
   "outputs": [
    {
     "name": "stdout",
     "output_type": "stream",
     "text": [
      "[Epoch  0 ||  Train acc: 36 % | Test acc: 37 % | loss: 2.151 ]\n",
      "[Epoch  1 ||  Train acc: 63 % | Test acc: 63 % | loss: 1.524 ]\n",
      "[Epoch  2 ||  Train acc: 88 % | Test acc: 90 % | loss: 0.930 ]\n",
      "[Epoch  3 ||  Train acc: 93 % | Test acc: 93 % | loss: 0.542 ]\n",
      "[Epoch  4 ||  Train acc: 95 % | Test acc: 93 % | loss: 0.350 ]\n",
      "[Epoch  5 ||  Train acc: 95 % | Test acc: 95 % | loss: 0.260 ]\n",
      "[Epoch  6 ||  Train acc: 97 % | Test acc: 96 % | loss: 0.205 ]\n",
      "[Epoch  7 ||  Train acc: 97 % | Test acc: 96 % | loss: 0.170 ]\n",
      "[Epoch  8 ||  Train acc: 97 % | Test acc: 96 % | loss: 0.150 ]\n",
      "[Epoch  9 ||  Train acc: 98 % | Test acc: 96 % | loss: 0.127 ]\n",
      "[Epoch 10 ||  Train acc: 98 % | Test acc: 96 % | loss: 0.114 ]\n",
      "[Epoch 11 ||  Train acc: 98 % | Test acc: 97 % | loss: 0.104 ]\n",
      "[Epoch 12 ||  Train acc: 98 % | Test acc: 97 % | loss: 0.090 ]\n",
      "[Epoch 13 ||  Train acc: 98 % | Test acc: 98 % | loss: 0.086 ]\n",
      "[Epoch 14 ||  Train acc: 99 % | Test acc: 97 % | loss: 0.074 ]\n",
      "[Epoch 15 ||  Train acc: 98 % | Test acc: 97 % | loss: 0.072 ]\n",
      "[Epoch 16 ||  Train acc: 98 % | Test acc: 97 % | loss: 0.069 ]\n",
      "[Epoch 17 ||  Train acc: 98 % | Test acc: 97 % | loss: 0.062 ]\n",
      "[Epoch 18 ||  Train acc: 99 % | Test acc: 97 % | loss: 0.051 ]\n"
     ]
    }
   ],
   "source": [
    "start = time.time() \n",
    "\n",
    "fullnet, train_acc, test_acc, losses = train(fullnet, trainloader, testloader,\n",
    "                                           criterion, optimizer, device=device,\n",
    "                                           epochs=35, print_freq=1)\n",
    "\n",
    "end = time.time()\n",
    "print('%.1f seconds' % (end - start))"
   ]
  },
  {
   "cell_type": "code",
   "execution_count": null,
   "metadata": {},
   "outputs": [],
   "source": [
    "plot_acc(train_acc, test_acc, losses)\n",
    "#plot_acc(train_acc, test_acc, losses, save=True, outfile='res_net.png')"
   ]
  },
  {
   "cell_type": "code",
   "execution_count": null,
   "metadata": {},
   "outputs": [],
   "source": [
    "class_accuracies(testloader, fullnet)"
   ]
  },
  {
   "cell_type": "markdown",
   "metadata": {},
   "source": [
    "## ResNet, cleaner"
   ]
  },
  {
   "cell_type": "code",
   "execution_count": null,
   "metadata": {},
   "outputs": [],
   "source": [
    "# 3x3 convolution\n",
    "def conv3x3(in_channels, out_channels, stride=1):\n",
    "    return nn.Conv2d(in_channels, out_channels, kernel_size=3, \n",
    "                     stride=stride, padding=1, bias=False)\n",
    "\n",
    "# Residual block\n",
    "class ResidualBlock(nn.Module):\n",
    "    def __init__(self, in_channels, out_channels, stride=1, downsample=None):\n",
    "        super(ResidualBlock, self).__init__()\n",
    "        self.conv1 = conv3x3(in_channels, out_channels, stride)\n",
    "        self.bn1 = nn.BatchNorm2d(out_channels)\n",
    "        self.relu = nn.ReLU(inplace=True)\n",
    "        self.conv2 = conv3x3(out_channels, out_channels)\n",
    "        self.bn2 = nn.BatchNorm2d(out_channels)\n",
    "        self.downsample = downsample\n",
    "        \n",
    "    def forward(self, x):\n",
    "        residual = x\n",
    "        out = self.conv1(x)\n",
    "        out = self.bn1(out)\n",
    "        out = self.relu(out)\n",
    "        out = self.conv2(out)\n",
    "        out = self.bn2(out)\n",
    "        if self.downsample:\n",
    "            residual = self.downsample(x)\n",
    "        out += residual\n",
    "        out = self.relu(out)\n",
    "        return out"
   ]
  },
  {
   "cell_type": "code",
   "execution_count": null,
   "metadata": {},
   "outputs": [],
   "source": [
    "# ResNet\n",
    "class ResNet(nn.Module):\n",
    "    def __init__(self, block, layers, num_classes=10):\n",
    "        super(ResNet, self).__init__()\n",
    "        self.in_channels = 16\n",
    "        self.conv = conv3x3(img_shape[2], 16)\n",
    "        self.bn = nn.BatchNorm2d(16)\n",
    "        self.relu = nn.ReLU(inplace=True)\n",
    "        self.layer1 = self.make_layer(block, 16, layers[0])\n",
    "        self.layer2 = self.make_layer(block, 32, layers[0], 2)\n",
    "        self.layer3 = self.make_layer(block, 64, layers[1], 2)\n",
    "        self.avg_pool = nn.AvgPool2d(8)\n",
    "        self.fc = nn.Linear(64, num_classes)\n",
    "        \n",
    "    def make_layer(self, block, out_channels, blocks, stride=1):\n",
    "        downsample = None\n",
    "        if (stride != 1) or (self.in_channels != out_channels):\n",
    "            downsample = nn.Sequential(\n",
    "                conv3x3(self.in_channels, out_channels, stride=stride),\n",
    "                nn.BatchNorm2d(out_channels))\n",
    "        layers = []\n",
    "        layers.append(block(self.in_channels, out_channels, stride, downsample))\n",
    "        self.in_channels = out_channels\n",
    "        for i in range(1, blocks):\n",
    "            layers.append(block(out_channels, out_channels))\n",
    "        return nn.Sequential(*layers)\n",
    "    \n",
    "\n",
    "    def forward(self, x):\n",
    "        out = self.conv(x)\n",
    "        out = self.bn(out)\n",
    "        out = self.relu(out)\n",
    "        out = self.layer1(out)\n",
    "        out = self.layer2(out)\n",
    "        out = self.layer3(out)\n",
    "        out = self.avg_pool(out)\n",
    "        out = out.view(out.size(0), -1)\n",
    "        out = self.fc(out)\n",
    "        return out"
   ]
  },
  {
   "cell_type": "code",
   "execution_count": null,
   "metadata": {},
   "outputs": [],
   "source": [
    "resnet = ResNet(ResidualBlock, [2, 2, 2, 2]).to(device)"
   ]
  },
  {
   "cell_type": "code",
   "execution_count": null,
   "metadata": {},
   "outputs": [],
   "source": [
    "# loss function and optimizer\n",
    "criterion = nn.CrossEntropyLoss()\n",
    "optimizer = optim.SGD(resnet.parameters(), lr=0.001, momentum=0.9)\n",
    "#optimizer = optim.Adam(net.parameters(), betas = (0.9, 0.999))"
   ]
  },
  {
   "cell_type": "code",
   "execution_count": null,
   "metadata": {},
   "outputs": [],
   "source": [
    "resnet, train_acc, test_acc, losses = train(resnet, trainloader, testloader,\n",
    "                                           criterion, optimizer, epochs=120, weight_decay=True)"
   ]
  },
  {
   "cell_type": "code",
   "execution_count": null,
   "metadata": {},
   "outputs": [],
   "source": [
    "plot_acc(train_acc, test_acc, losses)"
   ]
  }
 ],
 "metadata": {
  "kernelspec": {
   "display_name": "Python 3",
   "language": "python",
   "name": "python3"
  },
  "language_info": {
   "codemirror_mode": {
    "name": "ipython",
    "version": 3
   },
   "file_extension": ".py",
   "mimetype": "text/x-python",
   "name": "python",
   "nbconvert_exporter": "python",
   "pygments_lexer": "ipython3",
   "version": "3.6.4"
  }
 },
 "nbformat": 4,
 "nbformat_minor": 2
}
