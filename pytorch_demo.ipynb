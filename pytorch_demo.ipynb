{
 "cells": [
  {
   "cell_type": "markdown",
   "metadata": {},
   "source": [
    "# Installation"
   ]
  },
  {
   "cell_type": "code",
   "execution_count": 1,
   "metadata": {},
   "outputs": [],
   "source": [
    "# !pip3 install torch torchvision"
   ]
  },
  {
   "cell_type": "markdown",
   "metadata": {
    "collapsed": true
   },
   "source": [
    "# Deep learning architectures"
   ]
  },
  {
   "cell_type": "markdown",
   "metadata": {},
   "source": [
    "We will construct a number of different network architectures and compare their performance. For all of the following we perform a coarse hyperparameter selection (by hand) using the test set: it is good practice to **report the hyperparameters you found**, and **plot the training and test classification accuracy as a function of iteration.**"
   ]
  },
  {
   "cell_type": "code",
   "execution_count": 2,
   "metadata": {},
   "outputs": [],
   "source": [
    "import numpy as np\n",
    "import seaborn as sns\n",
    "sns.set_style(\"darkgrid\")\n",
    "import random\n",
    "\n",
    "\n",
    "import torch\n",
    "import torchvision\n",
    "import torchvision.transforms as transforms\n",
    "\n",
    "\n",
    "import torch\n",
    "import torchvision\n",
    "import torchvision.transforms as transforms\n",
    "from torch.autograd import Variable # not found in torch 0.4\n",
    "import torch.nn as nn\n",
    "import torch.nn.functional as F\n",
    "import torch.optim as optim\n",
    "from torch.utils.data.sampler import SubsetRandomSampler\n",
    "\n",
    "import matplotlib.pyplot as plt\n",
    "%matplotlib inline\n",
    "\n",
    "%load_ext autoreload\n",
    "%autoreload 2"
   ]
  },
  {
   "cell_type": "code",
   "execution_count": 3,
   "metadata": {},
   "outputs": [
    {
     "data": {
      "text/plain": [
       "True"
      ]
     },
     "execution_count": 3,
     "metadata": {},
     "output_type": "execute_result"
    }
   ],
   "source": [
    "torch.cuda.is_available()"
   ]
  },
  {
   "cell_type": "code",
   "execution_count": null,
   "metadata": {},
   "outputs": [],
   "source": []
  },
  {
   "cell_type": "code",
   "execution_count": 4,
   "metadata": {},
   "outputs": [],
   "source": [
    "def get_data(batch_size=64, CIFAR10=True, proportion=1):\n",
    "    \n",
    "    if CIFAR10 == True:\n",
    "        transform = transforms.Compose([\n",
    "        transforms.Pad(4),\n",
    "        transforms.RandomHorizontalFlip(),\n",
    "        transforms.RandomCrop(32),\n",
    "        transforms.ToTensor()])\n",
    "        \n",
    "        trainset = torchvision.datasets.CIFAR10(root='./data', train=True, download=True, transform=transform)\n",
    "        testset = torchvision.datasets.CIFAR10(root='./data', train=False, download=True, transform=transform)\n",
    "        \n",
    "        \n",
    "        train_indices = random.sample(range(0, len(trainset)), int(len(trainset)*proportion))\n",
    "        test_indices = random.sample(range(0, len(testset)), int(len(testset)*proportion))\n",
    "        \n",
    "        trainloader = torch.utils.data.DataLoader(dataset=trainset, batch_size=batch_size, shuffle=False, sampler=SubsetRandomSampler(train_indices))\n",
    "        testloader = torch.utils.data.DataLoader(dataset=testset, batch_size=batch_size, shuffle=False, sampler=SubsetRandomSampler(test_indices))\n",
    "                \n",
    "        \n",
    "        classes = ('plane', 'car', 'bird', 'cat', 'deer', 'dog', 'frog', 'horse', 'ship', 'truck')\n",
    "        data_iterator = iter(trainloader)\n",
    "        images, labels = data_iterator.next()\n",
    "        img_shape = (images.shape[2], images.shape[3], images.shape[1])\n",
    "        \n",
    "    else:\n",
    "        transform = transforms.Compose([\n",
    "            transforms.Pad(2),\n",
    "            transforms.ToTensor()])\n",
    "        \n",
    "        trainset = torchvision.datasets.MNIST(root='../../data/',\n",
    "                                                   train=True, \n",
    "                                                   transform=transform,\n",
    "                                                   download=True)\n",
    "\n",
    "        testset = torchvision.datasets.MNIST(root='../../data/',\n",
    "                                                  train=False, \n",
    "                                                  transform=transform)\n",
    "\n",
    "        # Data loader\n",
    "        train_indices = random.sample(range(0, len(trainset)), int(len(trainset)*proportion))\n",
    "        test_indices = random.sample(range(0, len(testset)), int(len(testset)*proportion))\n",
    "\n",
    "        trainloader = torch.utils.data.DataLoader(dataset=trainset, batch_size=batch_size, shuffle=False, sampler=SubsetRandomSampler(train_indices))\n",
    "        testloader = torch.utils.data.DataLoader(dataset=testset, batch_size=batch_size, shuffle=False, sampler=SubsetRandomSampler(test_indices))\n",
    "\n",
    "        classes = ('0', '1', '2', '3', '4', '5', '6', '7', '8', '9')\n",
    "        \n",
    "        data_iterator = iter(trainloader)\n",
    "        images, labels = data_iterator.next()\n",
    "        img_shape = (images.shape[2], images.shape[3], images.shape[1])\n",
    "    \n",
    "    return trainloader, testloader, classes, img_shape"
   ]
  },
  {
   "cell_type": "code",
   "execution_count": 5,
   "metadata": {},
   "outputs": [
    {
     "name": "stdout",
     "output_type": "stream",
     "text": [
      "Files already downloaded and verified\n",
      "Files already downloaded and verified\n"
     ]
    },
    {
     "data": {
      "text/plain": [
       "(32, 32, 3)"
      ]
     },
     "execution_count": 5,
     "metadata": {},
     "output_type": "execute_result"
    }
   ],
   "source": [
    "# CIFAR10=False => MNIST\n",
    "trainloader, testloader, classes, img_shape = get_data(CIFAR10=True, batch_size=4, \n",
    "                                                       proportion=0.01)\n",
    "img_channels = img_shape[2]\n",
    "img_shape"
   ]
  },
  {
   "cell_type": "markdown",
   "metadata": {},
   "source": [
    "Let's look at some images"
   ]
  },
  {
   "cell_type": "code",
   "execution_count": null,
   "metadata": {},
   "outputs": [],
   "source": []
  },
  {
   "cell_type": "code",
   "execution_count": 6,
   "metadata": {
    "code_folding": []
   },
   "outputs": [
    {
     "name": "stdout",
     "output_type": "stream",
     "text": [
      "              cat               car               cat             truck\n"
     ]
    },
    {
     "data": {
      "image/png": "[encoded data removed]",
      "text/plain": [
       "<Figure size 864x432 with 1 Axes>"
      ]
     },
     "metadata": {
      "needs_background": "light"
     },
     "output_type": "display_data"
    }
   ],
   "source": [
    "def imshow(img):\n",
    "    npimg = img.numpy()\n",
    "    norm_img = (npimg - np.min(npimg))/(np.max(npimg) - np.min(npimg)) # min-max normalization\n",
    "    fig = plt.figure()\n",
    "    fig.set_size_inches([12, 6])\n",
    "    plt.imshow(np.transpose(norm_img, (1, 2, 0)))\n",
    "\n",
    "# get some random training images\n",
    "data_iterator = iter(trainloader)\n",
    "images, labels = data_iterator.next()\n",
    "\n",
    "imshow(torchvision.utils.make_grid(images)) # show images\n",
    "print(' '.join('%17s' % classes[labels[j]] for j in range(4))) # print labels\n",
    "plt.show()"
   ]
  },
  {
   "cell_type": "code",
   "execution_count": 11,
   "metadata": {},
   "outputs": [
    {
     "name": "stderr",
     "output_type": "stream",
     "text": [
      "\r",
      "0it [00:00, ?it/s]"
     ]
    },
    {
     "name": "stdout",
     "output_type": "stream",
     "text": [
      "Downloading https://www.cs.toronto.edu/~kriz/cifar-10-python.tar.gz to ./data/cifar-10-python.tar.gz\n"
     ]
    },
    {
     "name": "stderr",
     "output_type": "stream",
     "text": [
      "100%|█████████▉| 170385408/170498071 [02:11<00:00, 1040798.81it/s]"
     ]
    },
    {
     "name": "stdout",
     "output_type": "stream",
     "text": [
      "Extracting ./data/cifar-10-python.tar.gz to ./data\n",
      "Files already downloaded and verified\n",
      "            horse               cat             plane               cat\n"
     ]
    },
    {
     "data": {
      "image/png": "[encoded data removed]",
      "text/plain": [
       "<Figure size 864x432 with 1 Axes>"
      ]
     },
     "metadata": {
      "needs_background": "light"
     },
     "output_type": "display_data"
    }
   ],
   "source": [
    "trainloader, testloader, classes, img_shape = get_data(CIFAR10=True, batch_size=4, \n",
    "                                                       proportion=0.1)\n",
    "\n",
    "# get some random training images\n",
    "data_iterator = iter(trainloader)\n",
    "images, labels = data_iterator.next()\n",
    "\n",
    "imshow(torchvision.utils.make_grid(images)) # show images\n",
    "print(' '.join('%17s' % classes[labels[j]] for j in range(4))) # print labels\n",
    "plt.show()"
   ]
  },
  {
   "cell_type": "code",
   "execution_count": 12,
   "metadata": {},
   "outputs": [],
   "source": [
    "# # CIFAR10=False => MNIST\n",
    "# trainloader, testloader, classs, img_shape = get_data(CIFAR10=False, batch_size=64, \n",
    "#                                                       proportion=0.1)\n",
    "# img_channels = img_shape[2]\n",
    "# img_shape"
   ]
  },
  {
   "cell_type": "code",
   "execution_count": 13,
   "metadata": {},
   "outputs": [
    {
     "data": {
      "text/plain": [
       "torch.Size([4, 3, 32, 32])"
      ]
     },
     "execution_count": 13,
     "metadata": {},
     "output_type": "execute_result"
    }
   ],
   "source": [
    "images.shape"
   ]
  },
  {
   "cell_type": "markdown",
   "metadata": {},
   "source": [
    "### Part (a) - Logistic Regression"
   ]
  },
  {
   "cell_type": "markdown",
   "metadata": {},
   "source": [
    "**Fully connected output, $0$ hidden layers (logistic regression):** \n",
    "\n",
    "We begin with the simplest network possible that has no hidden layers and simply linearly maps the input layer to the output layer. That is, conceptually it could be written as\n",
    "\n",
    "$$ x^{out} = W\\cdot \\text{vec}(x^{in}) + b $$\n",
    "\n",
    "where $x^{out} \\in \\mathbb{R}^{10}$, $x^{in} \\in \\mathbb{R}^{32 \\times 32 \\times 3}$, $W \\in \\mathbb{R}^{10, 3072}$, $b \\in \\mathbb{R}^{10}$ where $3072 = 32 \\cdot 32 \\cdot 3$. For a tensor $x \\in \\mathbb{R}^{a \\times b \\times c}$, we let vec$(x) \\in \\mathbb{R}^{abc}$ be the reshaped from a tensor into a vector (in an arbitrary but consistent pattern)."
   ]
  },
  {
   "cell_type": "markdown",
   "metadata": {},
   "source": [
    "#### Model for part (a)"
   ]
  },
  {
   "cell_type": "markdown",
   "metadata": {},
   "source": [
    "Define model architecture"
   ]
  },
  {
   "cell_type": "code",
   "execution_count": 14,
   "metadata": {},
   "outputs": [],
   "source": [
    "class LinearRegression(nn.Module):\n",
    "    def __init__(self):\n",
    "        super(LinearRegression, self).__init__()\n",
    "        self.linear = nn.Linear(32*32*img_channels, 10)\n",
    "\n",
    "    def forward(self, x):\n",
    "        x = x.view(-1, 32*32*img_channels)\n",
    "        out = self.linear(x)\n",
    "        return out"
   ]
  },
  {
   "cell_type": "markdown",
   "metadata": {},
   "source": [
    "Compile model"
   ]
  },
  {
   "cell_type": "code",
   "execution_count": 15,
   "metadata": {},
   "outputs": [],
   "source": [
    "#lr_net = LinearRegression().cuda()\n",
    "device = torch.device(\"cuda:0\" if torch.cuda.is_available() else \"cpu\")\n",
    "lr_net = LinearRegression().to(device)"
   ]
  },
  {
   "cell_type": "code",
   "execution_count": 16,
   "metadata": {},
   "outputs": [
    {
     "data": {
      "text/plain": [
       "device(type='cuda', index=0)"
      ]
     },
     "execution_count": 16,
     "metadata": {},
     "output_type": "execute_result"
    }
   ],
   "source": [
    "device"
   ]
  },
  {
   "cell_type": "markdown",
   "metadata": {},
   "source": [
    "Choose Optimizer"
   ]
  },
  {
   "cell_type": "code",
   "execution_count": 17,
   "metadata": {},
   "outputs": [
    {
     "name": "stderr",
     "output_type": "stream",
     "text": [
      "\r",
      "170500096it [02:30, 1040798.81it/s]                               "
     ]
    }
   ],
   "source": [
    "criterion = nn.CrossEntropyLoss()\n",
    "optimizer = optim.SGD(lr_net.parameters(), lr=0.001, momentum=0.9)"
   ]
  },
  {
   "cell_type": "markdown",
   "metadata": {},
   "source": [
    "Train + Evaluate concurrently"
   ]
  },
  {
   "cell_type": "code",
   "execution_count": 18,
   "metadata": {
    "code_folding": []
   },
   "outputs": [
    {
     "name": "stdout",
     "output_type": "stream",
     "text": [
      "Accuracy of the network on the 10000 test images: 23 %\n",
      "Finished Training\n"
     ]
    }
   ],
   "source": [
    "device = torch.device(\"cuda:0\" if torch.cuda.is_available() else \"cpu\")\n",
    "\n",
    "train_accuracy, test_accuracy, loss_list = [], [], []\n",
    "for epoch in range(1):  # loop over the dataset multiple times\n",
    "\n",
    "    running_loss = 0.0\n",
    "    for i, data in enumerate(trainloader, 0):\n",
    "        # get the inputs       \n",
    "        inputs, labels = data\n",
    "        inputs, labels = inputs.to(device), labels.to(device)\n",
    "\n",
    "        # Forward pass\n",
    "        outputs = lr_net(inputs)\n",
    "        loss = criterion(outputs, labels)\n",
    "      \n",
    "        # Backward and optimize\n",
    "        optimizer.zero_grad()\n",
    "        loss.backward()\n",
    "        optimizer.step()\n",
    "\n",
    "        # print statistics\n",
    "        running_loss += loss.item()\n",
    "     \n",
    "    correct = 0\n",
    "    total = 0\n",
    "    with torch.no_grad():\n",
    "        for data in testloader:\n",
    "            inputs, labels = data\n",
    "            inputs, labels = inputs.to(device), labels.to(device)\n",
    "            outputs = lr_net(inputs)\n",
    "            _, predicted = torch.max(outputs.data, 1)\n",
    "            total += labels.size(0)\n",
    "            correct += (predicted == labels).sum().item()\n",
    "\n",
    "    print('Accuracy of the network on the 10000 test images: %d %%' % (\n",
    "        100 * correct / total))       \n",
    "print('Finished Training')"
   ]
  },
  {
   "cell_type": "code",
   "execution_count": 19,
   "metadata": {},
   "outputs": [
    {
     "name": "stdout",
     "output_type": "stream",
     "text": [
      "Accuracy of plane : 45 %\n",
      "Accuracy of   car : 36 %\n",
      "Accuracy of  bird : 27 %\n",
      "Accuracy of   cat : 37 %\n",
      "Accuracy of  deer :  0 %\n",
      "Accuracy of   dog :  0 %\n",
      "Accuracy of  frog : 36 %\n",
      "Accuracy of horse : 41 %\n",
      "Accuracy of  ship :  2 %\n",
      "Accuracy of truck : 31 %\n"
     ]
    }
   ],
   "source": [
    "class_correct = list(0. for i in range(10))\n",
    "class_total = list(0. for i in range(10))\n",
    "with torch.no_grad():\n",
    "    for data in testloader:\n",
    "        inputs, labels = data\n",
    "        inputs, labels = inputs.to(device), labels.to(device)\n",
    "        outputs = lr_net(inputs)\n",
    "        _, predicted = torch.max(outputs, 1)\n",
    "        c = (predicted == labels).squeeze()\n",
    "        for i in range(4):\n",
    "            label = labels[i]\n",
    "            class_correct[label] += c[i].item()\n",
    "            class_total[label] += 1\n",
    "\n",
    "\n",
    "for i in range(10):\n",
    "    print('Accuracy of %5s : %2d %%' % (\n",
    "        classes[i], 100 * class_correct[i] / class_total[i]))"
   ]
  },
  {
   "cell_type": "code",
   "execution_count": 20,
   "metadata": {},
   "outputs": [],
   "source": [
    "def class_accuracies(dataloader, model):\n",
    "    class_correct = list(0. for i in range(10))\n",
    "    class_total = list(0. for i in range(10))\n",
    "    with torch.no_grad():\n",
    "        for data in dataloader:\n",
    "            inputs, labels = data\n",
    "            inputs, labels = inputs.to(device), labels.to(device)\n",
    "            outputs = model(inputs)\n",
    "            _, predicted = torch.max(outputs, 1)\n",
    "            c = (predicted == labels).squeeze()\n",
    "            for i in range(4):\n",
    "                label = labels[i]\n",
    "                class_correct[label] += c[i].item()\n",
    "                class_total[label] += 1\n",
    "\n",
    "\n",
    "    for i in range(10):\n",
    "        print('Accuracy of %5s : %2d %%' % (\n",
    "            classes[i], 100 * class_correct[i] / class_total[i]))"
   ]
  },
  {
   "cell_type": "markdown",
   "metadata": {},
   "source": [
    "**The training stage can be abstracted.** Notice (almost) nothing is hardcoded to the specific task."
   ]
  },
  {
   "cell_type": "code",
   "execution_count": 21,
   "metadata": {
    "code_folding": []
   },
   "outputs": [],
   "source": [
    "def evaluate(dataloader, model, device):\n",
    "    correct, total = 0, 0 \n",
    "    with torch.no_grad():\n",
    "        for data in dataloader:\n",
    "            inputs, labels = data\n",
    "            inputs, labels = inputs.to(device), labels.to(device)\n",
    "            outputs = model(inputs)\n",
    "            _, predicted = torch.max(outputs.data, 1)\n",
    "            total += labels.size(0)\n",
    "            correct += (predicted == labels.to(device)).sum().item()\n",
    "    return correct/total\n",
    "\n",
    "# For updating learning rate\n",
    "def update_lr(optimizer, lr):    \n",
    "    for param_group in optimizer.param_groups:\n",
    "        param_group['lr'] = lr\n",
    "\n",
    "        \n",
    "        \n",
    "def train(model, trainloader, testloader, criterion, optimizer, device, \n",
    "          epochs=1, weight_decay=False, print_freq=1):\n",
    "    \n",
    "    train_accuracy, test_accuracy, loss_list = [], [], []\n",
    "    for epoch in range(epochs):  # loop over the dataset multiple times\n",
    "        running_loss = 0.0\n",
    "        for i, (inputs, labels) in enumerate(trainloader, 0):\n",
    "            # wrap the inputs       \n",
    "            inputs, labels = inputs.to(device), labels.to(device)\n",
    "      \n",
    "            # Forward pass\n",
    "            outputs = model(inputs)\n",
    "            loss = criterion(outputs, labels)\n",
    "\n",
    "            # Backward and optimize\n",
    "            optimizer.zero_grad()\n",
    "            loss.backward()\n",
    "            optimizer.step()\n",
    "            \n",
    "            running_loss += loss.item()\n",
    "\n",
    "        # Decay learning rate\n",
    "        if weight_decay and (epoch+1) % 20 == 0:\n",
    "            curr_lr /= 3\n",
    "            update_lr(optimizer, curr_lr)\n",
    "        \n",
    "        if epoch % print_freq == 0:\n",
    "            train_acc = evaluate(trainloader, model, device) \n",
    "            train_accuracy.append(train_acc)\n",
    "\n",
    "            test_acc = evaluate(testloader, model, device)\n",
    "            test_accuracy.append(test_acc)\n",
    "            loss_list.append(loss.item())\n",
    "        \n",
    "            print('[Epoch %2d ||  Train acc: %d %% | Test acc: %d %% | loss: %.3f ]' \n",
    "                              % (epoch, train_acc*100, test_acc*100, \n",
    "                                 running_loss/(len(trainloader))))\n",
    "\n",
    "    print('Finished Training')\n",
    "    return model, train_accuracy, test_accuracy, loss_list"
   ]
  },
  {
   "cell_type": "markdown",
   "metadata": {},
   "source": [
    "Train `lr_net` again:"
   ]
  },
  {
   "cell_type": "code",
   "execution_count": 22,
   "metadata": {},
   "outputs": [
    {
     "data": {
      "text/plain": [
       "True"
      ]
     },
     "execution_count": 22,
     "metadata": {},
     "output_type": "execute_result"
    }
   ],
   "source": [
    "torch.cuda.is_available()"
   ]
  },
  {
   "cell_type": "code",
   "execution_count": 23,
   "metadata": {},
   "outputs": [],
   "source": [
    "device = torch.device(\"cuda:0\" if torch.cuda.is_available() else \"cpu\")\n",
    "lr_net = LinearRegression().to(device)"
   ]
  },
  {
   "cell_type": "code",
   "execution_count": 24,
   "metadata": {},
   "outputs": [
    {
     "data": {
      "text/plain": [
       "device(type='cuda', index=0)"
      ]
     },
     "execution_count": 24,
     "metadata": {},
     "output_type": "execute_result"
    }
   ],
   "source": [
    "device"
   ]
  },
  {
   "cell_type": "code",
   "execution_count": 25,
   "metadata": {},
   "outputs": [],
   "source": [
    "# loss function and optimizer\n",
    "criterion = nn.CrossEntropyLoss()\n",
    "optimizer = optim.SGD(lr_net.parameters(), lr=0.001, momentum=0.9)"
   ]
  },
  {
   "cell_type": "code",
   "execution_count": null,
   "metadata": {},
   "outputs": [
    {
     "name": "stdout",
     "output_type": "stream",
     "text": [
      "[Epoch  0 ||  Train acc: 24 % | Test acc: 23 % | loss: 2.433 ]\n"
     ]
    }
   ],
   "source": [
    "import time\n",
    "start = time.time()\n",
    "\n",
    "lr_net, train_acc, test_acc, losses = train(lr_net, trainloader, testloader,\n",
    "                                            criterion, optimizer, device, \n",
    "                                            epochs=10, print_freq=1)\n",
    "\n",
    "end = time.time()\n",
    "print('%.1f seconds' % (end - start))"
   ]
  },
  {
   "cell_type": "code",
   "execution_count": 21,
   "metadata": {},
   "outputs": [],
   "source": [
    "def plot_acc(train_acc, test_acc, losses, save=False, outfile='img.plt'):\n",
    "    fig = plt.figure()\n",
    "    fig.set_size_inches([12, 6])\n",
    "    \n",
    "    plt.plot(train_acc, 'y', alpha = 0.5, label = 'Training Accuracy')\n",
    "    plt.plot(test_acc, 'r', alpha = 0.5, label = 'Testing Accuracy')\n",
    "    plt.plot(losses/np.max(losses), 'g', alpha = 0.5, label = 'Loss')\n",
    "    plt.ylabel('Accuracy'); plt.xlabel('Interations')\n",
    "    plt.ylim(0, plt.ylim()[1]); plt.ylim(0, 1)\n",
    "    \n",
    "    plt.legend()\n",
    "    if save:\n",
    "        plt.savefig(outfile)\n",
    "    plt.show()"
   ]
  },
  {
   "cell_type": "code",
   "execution_count": 22,
   "metadata": {},
   "outputs": [
    {
     "data": {
      "image/png": "[encoded data removed]",
      "text/plain": [
       "<Figure size 864x432 with 1 Axes>"
      ]
     },
     "metadata": {
      "needs_background": "light"
     },
     "output_type": "display_data"
    }
   ],
   "source": [
    "plot_acc(train_acc, test_acc, losses)\n",
    "#plot_acc(train_acc, test_acc, losses, save=True, outfile='lr_net.png')"
   ]
  },
  {
   "cell_type": "code",
   "execution_count": null,
   "metadata": {},
   "outputs": [],
   "source": [
    "class_accuracies(testloader, lr_net)"
   ]
  },
  {
   "cell_type": "markdown",
   "metadata": {},
   "source": [
    "### Part (b) - MLP\n",
    "\n",
    "Fully connected output, 1 fully connected hidden layer: we will have one hidden layer denoted as $x^{hidden} \\in \\mathbb{R}^M$ where $M$ will be a hyperparameter you choose ($M$ could be in the hundreds). The nonlinearity applied to the hidden layer will be the relu (relu$(x) = \\max\\{0, x\\}$, elementwise). Conceptually, one could write this network as:\n",
    "\n",
    "$$ x^{out} = W_2\\text{relu}(W_1\\text{vec}(x^{in}) + b_1) + b_2$$\n",
    "\n",
    "where $W_1 \\in \\mathbb{R}^{M \\times 3072}, b_1 \\in \\mathbb{R}^M, W_2 \\in \\mathbb{R}^{10 \\times M}, b_2 \\in \\mathbb{R}^{10}$."
   ]
  },
  {
   "cell_type": "code",
   "execution_count": null,
   "metadata": {},
   "outputs": [],
   "source": [
    "# choose the number of hidden layers\n",
    "M = 128"
   ]
  },
  {
   "cell_type": "code",
   "execution_count": null,
   "metadata": {},
   "outputs": [],
   "source": [
    "class OneHidden(nn.Module):\n",
    "    def __init__(self):\n",
    "        super(OneHidden, self).__init__()\n",
    "        self.fc1 = nn.Linear(np.prod(img_shape), M)\n",
    "        self.fc2 = nn.Linear(M, 10)\n",
    "\n",
    "    def forward(self, x):\n",
    "        x = x.view(-1, np.prod(img_shape))\n",
    "        x = F.relu(self.fc1(x))\n",
    "        x = self.fc2(x)\n",
    "        return x"
   ]
  },
  {
   "cell_type": "code",
   "execution_count": null,
   "metadata": {},
   "outputs": [],
   "source": [
    "device = torch.device(\"cuda:0\" if torch.cuda.is_available() else \"cpu\")\n",
    "one_hidden_net = OneHidden().to(device)"
   ]
  },
  {
   "cell_type": "code",
   "execution_count": null,
   "metadata": {},
   "outputs": [],
   "source": [
    "# loss function and optimizer\n",
    "criterion = nn.CrossEntropyLoss()\n",
    "optimizer = optim.SGD(one_hidden_net.parameters(), lr=0.001, momentum=0.9)\n",
    "#optimizer = optim.Adam(net.parameters(), betas = (0.9, 0.999))"
   ]
  },
  {
   "cell_type": "code",
   "execution_count": null,
   "metadata": {},
   "outputs": [],
   "source": [
    "start = time.time()\n",
    "one_hidden_net, train_acc, test_acc, losses = train(one_hidden_net, trainloader, testloader,\n",
    "                                           criterion, optimizer, device=device,\n",
    "                                           epochs=15, print_freq=1)\n",
    "end = time.time()\n",
    "print('%.1f seconds' % (end - start))"
   ]
  },
  {
   "cell_type": "code",
   "execution_count": null,
   "metadata": {},
   "outputs": [],
   "source": [
    "plot_acc(train_acc, test_acc, losses)\n",
    "#plot_acc(train_acc, test_acc, losses, save=True, outfile='one_hidden_net.png')"
   ]
  },
  {
   "cell_type": "code",
   "execution_count": null,
   "metadata": {},
   "outputs": [],
   "source": [
    "class_accuracies(testloader, one_hidden_net)"
   ]
  },
  {
   "cell_type": "markdown",
   "metadata": {},
   "source": [
    "### Part (c) - Simple Conv Net\n",
    "\n",
    "\n",
    "Fully connected output, 1 convolutional layer with max-pool: for a convolutional layer $W_1$ with individual filters of size $p \\times p \\times 3$ and output size $M$ (reasonable choices are $M = 100, p = 5$) we have that Conv2d$(x^{input}, W_1) \\in \\mathbb{R}^{(33 - p)\\times (33 - p) \\times M}$. \n",
    "\n",
    "Each convolution will have its own offset applied to each of the output pixels of the convolution; we denote this as Conv2d$(x^{input}, W) + b_1$ where $b_1$ is parameterized in $\\mathbb{R}^M$. We will then apply a relu (relu doesn't change the tensor space) and pool. If we use a max-pool of size $N$ (a reasonable choice is $N = 14$ to pool to $2 \\times 2$ with $p = 5$) we have that \n",
    "\n",
    "$$ \\text{MaxPool(relu(Conv2d}(x^{input}, W_1) + b_1)) \\in \\mathbb{R}^{\\lfloor \\frac{33-p}{N} \\rfloor \\times \\lfloor \\frac{33- p}{N} \\rfloor \\times M}.$$\n",
    "\n",
    "We will then apply a fully connected layer to the output to get the final network given as\n",
    "\n",
    "$$ x^{out} = W_2\\text{vec}(\\text{MaxPool}(\\text{relu}(\\text{Conv2d}(x^{in}, W_1) + b_1))) + b_2$$\n",
    "\n",
    "where $W_2 \\in \\mathbb{R}^{10 \\times M(\\lfloor \\frac{33-p}{N} \\rfloor)^2}, b_2 \\in \\mathbb{R}^{10}$. The parameters $M, p, N$ (in addition to the step size and the momentum are all hyperparameters."
   ]
  },
  {
   "cell_type": "code",
   "execution_count": null,
   "metadata": {},
   "outputs": [],
   "source": [
    "p = 5 # size of filters\n",
    "M = 100 # number of filters\n",
    "N = 14 # pooling size\n",
    "input_size = img_shape[0]\n",
    "output_size = 10\n",
    "channel_nb = img_shape[2] # i.e. RGB\n",
    "floor_divide = np.floor_divide(input_size + 1 - p, N) # this is floor(28/14) = 2\n",
    "\n",
    "class OneConv(nn.Module):\n",
    "    def __init__(self):\n",
    "        super(OneConv, self).__init__()\n",
    "        self.conv1 = nn.Conv2d(channel_nb, M, p) ## 6x28x28, where 28 = 33-5\n",
    "        self.pool = nn.MaxPool2d(N, N) ## 6 x 14 x 14\n",
    "        self.fc1 = nn.Linear(M * floor_divide * floor_divide, output_size)\n",
    "\n",
    "    def forward(self, x):\n",
    "        x = self.conv1(x)\n",
    "        x = F.relu(x)\n",
    "        x = self.pool(x)\n",
    "        x = x.view(-1, M * floor_divide * floor_divide)\n",
    "        x = self.fc1(x)\n",
    "        return x"
   ]
  },
  {
   "cell_type": "code",
   "execution_count": null,
   "metadata": {},
   "outputs": [],
   "source": [
    "device = torch.device(\"cuda:0\" if torch.cuda.is_available() else \"cpu\")\n",
    "one_conv_net = OneConv().to(device)"
   ]
  },
  {
   "cell_type": "code",
   "execution_count": null,
   "metadata": {},
   "outputs": [],
   "source": [
    "# loss function and optimizer\n",
    "criterion = nn.CrossEntropyLoss()\n",
    "optimizer = optim.SGD(one_conv_net.parameters(), lr=0.001, momentum=0.9)\n",
    "#optimizer = optim.Adam(net.parameters(), betas = (0.9, 0.999))"
   ]
  },
  {
   "cell_type": "code",
   "execution_count": null,
   "metadata": {
    "code_folding": []
   },
   "outputs": [],
   "source": [
    "start = time.time()\n",
    "one_conv_net, train_acc, test_acc, losses = train(one_conv_net, trainloader, testloader,\n",
    "                                           criterion, optimizer, device=device,\n",
    "                                           epochs=30, print_freq=1)\n",
    "end = time.time()\n",
    "print('%.1f seconds' % (end - start))"
   ]
  },
  {
   "cell_type": "code",
   "execution_count": null,
   "metadata": {},
   "outputs": [],
   "source": [
    "plot_acc(train_acc, test_acc, losses)\n",
    "#plot_acc(train_acc, test_acc, losses, save=True, outfile='one_conv_net.png')"
   ]
  },
  {
   "cell_type": "code",
   "execution_count": null,
   "metadata": {},
   "outputs": [],
   "source": [
    "class_accuracies(testloader, one_conv_net)"
   ]
  },
  {
   "cell_type": "markdown",
   "metadata": {},
   "source": [
    "### Part (d)\n",
    "\n",
    "We will return to the original network you were left with at the end of the tutorial Training a classifier, tune the different hyperparameters (number of convolutional filters, filter sizes, dimensionality of the fully connected layers, stepsize, etc.) and train for many epochs to achieve a test accuracy of at least 85%."
   ]
  },
  {
   "cell_type": "markdown",
   "metadata": {},
   "source": [
    "##### Model"
   ]
  },
  {
   "cell_type": "code",
   "execution_count": null,
   "metadata": {},
   "outputs": [],
   "source": [
    "conv_size1 = 5 \n",
    "conv_size2 = 3\n",
    "num_hidden_nodes = 128 ## \n",
    "N = 2\n",
    "input_size = img_shape[0]\n",
    "output_size = 10\n",
    "channel_nb = img_shape[2]\n",
    "pool_size = 2\n",
    "\n",
    "\n",
    "class ConvNet(nn.Module):\n",
    "    def __init__(self):\n",
    "        super(ConvNet, self).__init__()\n",
    "        # input (32, 32, 3)\n",
    "        self.conv1 = nn.Conv2d(channel_nb, num_hidden_nodes, conv_size1, padding = 2) \n",
    "        # input (32, 32, 128)\n",
    "        self.pool = nn.MaxPool2d(2, 2) \n",
    "        # input (16, 16, 128)\n",
    "        self.conv2 = nn.Conv2d(num_hidden_nodes, 256, 3, padding = 1) \n",
    "        # pool\n",
    "        # input (8, 8, 256)\n",
    "        self.conv3 = nn.Conv2d(256, 512, 3, padding = 1) \n",
    "        # pool\n",
    "        # input (4, 4, 512)\n",
    "        self.fc1 = nn.Linear(512 * 4 * 4, 2048) \n",
    "        # input (2048)\n",
    "        self.fc2 = nn.Linear(2048, 256)\n",
    "        # input (256)\n",
    "        self.fc3 = nn.Linear(256, 10)\n",
    "\n",
    "    def forward(self, x):\n",
    "        x = self.pool(F.relu(self.conv1(x)))\n",
    "        x = self.pool(F.relu(self.conv2(x)))\n",
    "        x = self.pool(F.relu(self.conv3(x)))\n",
    "        x = x.view(-1, 512 * 4 * 4) \n",
    "        x = F.relu(self.fc1(x))\n",
    "        x = F.relu(self.fc2(x))\n",
    "        x = self.fc3(x)\n",
    "        return x"
   ]
  },
  {
   "cell_type": "code",
   "execution_count": null,
   "metadata": {
    "scrolled": true
   },
   "outputs": [],
   "source": [
    "conv_net = ConvNet().to(device)"
   ]
  },
  {
   "cell_type": "code",
   "execution_count": null,
   "metadata": {},
   "outputs": [],
   "source": [
    "# loss function and optimizer\n",
    "criterion = nn.CrossEntropyLoss()\n",
    "optimizer = optim.SGD(conv_net.parameters(), lr=0.001, momentum=0.9)\n",
    "#optimizer = optim.Adam(net.parameters(), betas = (0.9, 0.999))"
   ]
  },
  {
   "cell_type": "code",
   "execution_count": null,
   "metadata": {},
   "outputs": [],
   "source": [
    "start = time.time() # 22 min on 1080 Ti\n",
    "\n",
    "conv_net, train_acc, test_acc, losses = train(conv_net, trainloader, testloader,\n",
    "                                           criterion, optimizer, device=device,\n",
    "                                           epochs=30, print_freq=1)\n",
    "\n",
    "end = time.time()\n",
    "print('%.1f seconds' % (end - start))"
   ]
  },
  {
   "cell_type": "code",
   "execution_count": null,
   "metadata": {},
   "outputs": [],
   "source": [
    "plot_acc(train_acc, test_acc, losses)\n",
    "#plot_acc(train_acc, test_acc, losses, save=True, outfile='conv_net.png')"
   ]
  },
  {
   "cell_type": "markdown",
   "metadata": {},
   "source": [
    "##### Accuracy on particular classes"
   ]
  },
  {
   "cell_type": "code",
   "execution_count": null,
   "metadata": {},
   "outputs": [],
   "source": [
    "class_accuracies(testloader, conv_net)"
   ]
  },
  {
   "cell_type": "code",
   "execution_count": null,
   "metadata": {},
   "outputs": [],
   "source": [
    "test_acc = evaluate(testloader, conv_net, device)\n",
    "test_acc"
   ]
  },
  {
   "cell_type": "markdown",
   "metadata": {},
   "source": [
    "# ResNet"
   ]
  },
  {
   "cell_type": "code",
   "execution_count": null,
   "metadata": {
    "code_folding": []
   },
   "outputs": [],
   "source": [
    "class ResNetFull(nn.Module):\n",
    "    def __init__(self):\n",
    "        super(ResNetFull, self).__init__()\n",
    "        self.conv1 = nn.Conv2d(img_shape[2],16,kernel_size=3, stride=1, padding=1, bias=False)\n",
    "        self.bn = nn.BatchNorm2d(16)\n",
    "        self.relu = nn.ReLU(inplace=True)\n",
    "        \n",
    "        # layer 1\n",
    "        # block 1      \n",
    "        self.conv1_blck1_lyr1 = nn.Conv2d(16,16,kernel_size=3, padding=1, bias=False)\n",
    "        self.bn1_blck1_lyr1 = nn.BatchNorm2d(16)\n",
    "        self.relu_blck1_lyr1 = nn.ReLU(inplace=True)\n",
    "        self.conv2_blck1_lyr1 = nn.Conv2d(16,16,kernel_size=3, padding=1, bias=False)\n",
    "        self.bn2_blck1_lyr1 = nn.BatchNorm2d(16)\n",
    "        \n",
    "        # block 2\n",
    "        self.conv1_blck2_lyr1 = nn.Conv2d(16,16,kernel_size=3, padding=1, bias=False)\n",
    "        self.bn1_blck2_lyr1 = nn.BatchNorm2d(16)\n",
    "        self.relu_blck2_lyr1 = nn.ReLU(inplace=True)\n",
    "        self.conv2_blck2_lyr1 = nn.Conv2d(16,16,kernel_size=3, padding=1, bias=False)\n",
    "        self.bn2_blck2_lyr1 = nn.BatchNorm2d(16)\n",
    "        \n",
    "        # block 3\n",
    "        self.conv1_blck3_lyr1 = nn.Conv2d(16,16,kernel_size=3, padding=1, bias=False)\n",
    "        self.bn1_blck3_lyr1 = nn.BatchNorm2d(16)\n",
    "        self.relu_blck3_lyr1 = nn.ReLU(inplace=True)\n",
    "        self.conv2_blck3_lyr1 = nn.Conv2d(16,16,kernel_size=3, padding=1, bias=False)\n",
    "        self.bn2_blck3_lyr1 = nn.BatchNorm2d(16)\n",
    "        \n",
    "        # layer 2\n",
    "        self.downsample1 = nn.Sequential(nn.Conv2d(16, 32, stride=2, kernel_size=3, \n",
    "                                        padding=1, bias=False), nn.BatchNorm2d(32))\n",
    "        \n",
    "        self.conv1_blck1_lyr2 = nn.Conv2d(32,32,kernel_size=3, padding=1, bias=False)\n",
    "        self.bn1_blck1_lyr2 = nn.BatchNorm2d(32)\n",
    "        self.relu_blck1_lyr2 = nn.ReLU(inplace=True)\n",
    "        self.conv2_blck1_lyr2 = nn.Conv2d(32,32,kernel_size=3, padding=1, bias=False)\n",
    "        self.bn2_blck1_lyr2 = nn.BatchNorm2d(32)\n",
    "        \n",
    "        self.conv1_blck2_lyr2 = nn.Conv2d(32,32,kernel_size=3, padding=1, bias=False)\n",
    "        self.bn1_blck2_lyr2 = nn.BatchNorm2d(32)\n",
    "        self.relu_blck2_lyr2 = nn.ReLU(inplace=True)\n",
    "        self.conv2_blck2_lyr2 = nn.Conv2d(32,32,kernel_size=3, padding=1, bias=False)\n",
    "        self.bn2_blck2_lyr2 = nn.BatchNorm2d(32)\n",
    "        \n",
    "        # layer 3\n",
    "        self.downsample2 = nn.Sequential(nn.Conv2d(32, 64, stride=2, kernel_size=3, \n",
    "                                        padding=1, bias=False),nn.BatchNorm2d(64))\n",
    "        self.conv1_blck1_lyr3 = nn.Conv2d(64,64,kernel_size=3, padding=1, bias=False)\n",
    "        self.bn1_blck1_lyr3 = nn.BatchNorm2d(64)\n",
    "        self.relu_blck1_lyr3 = nn.ReLU(inplace=True)\n",
    "        self.conv2_blck1_lyr3 = nn.Conv2d(64,64,kernel_size=3, padding=1, bias=False)\n",
    "        self.bn2_blck1_lyr3 =nn.BatchNorm2d(64)\n",
    "        \n",
    "        self.conv1_blck2_lyr3 = nn.Conv2d(64,64,kernel_size=3, padding=1, bias=False)\n",
    "        self.bn1_blck2_lyr3 = nn.BatchNorm2d(64)\n",
    "        self.relu_blck2_lyr3 = nn.ReLU(inplace=True)\n",
    "        self.conv2_blck2_lyr3 = nn.Conv2d(64,64,kernel_size=3, padding=1, bias=False)\n",
    "        self.bn2_blck2_lyr3 = nn.BatchNorm2d(64)\n",
    "        \n",
    "        self.avg_pool = nn.AvgPool2d(8) \n",
    "        self.fc1 = nn.Linear(64 * 1 * 1, 10)\n",
    "        \n",
    "    def forward(self, x):\n",
    "        \n",
    "        out = self.conv1(x)\n",
    "        out = self.bn(out)\n",
    "        out = self.relu(out)\n",
    "        \n",
    "        ## layer 1\n",
    "        # block 1\n",
    "        residual = out\n",
    "        out = self.conv1_blck1_lyr1(out)\n",
    "        out = self.bn1_blck1_lyr1(out)\n",
    "        out = self.relu_blck1_lyr1(out)\n",
    "        out = self.conv2_blck1_lyr1(out)\n",
    "        out = self.bn2_blck1_lyr1(out)\n",
    "        out += residual\n",
    "        \n",
    "        # block 2\n",
    "        residual = out\n",
    "        out = self.conv1_blck2_lyr1(out)\n",
    "        out = self.bn1_blck2_lyr1(out)\n",
    "        out = self.relu_blck2_lyr1(out)\n",
    "        out = self.conv2_blck2_lyr1(out)\n",
    "        out = self.bn2_blck2_lyr1(out)\n",
    "        out += residual\n",
    "        \n",
    "        # block 3\n",
    "        residual = out\n",
    "        out = self.conv1_blck3_lyr1(out)\n",
    "        out = self.bn1_blck3_lyr1(out)\n",
    "        out = self.relu_blck3_lyr1(out)\n",
    "        out = self.conv2_blck3_lyr1(out)\n",
    "        out = self.bn2_blck3_lyr1(out)\n",
    "        out += residual\n",
    "        \n",
    "\n",
    "        ## layer 2\n",
    "        # block 1\n",
    "        residual = self.downsample1(out)\n",
    "        out = self.downsample1(out) # downsample\n",
    "        out = self.conv1_blck1_lyr2(out)\n",
    "        out = self.bn1_blck1_lyr2(out)\n",
    "        out = self.relu_blck1_lyr2(out)\n",
    "        out = self.conv2_blck1_lyr2(out)\n",
    "        out = self.bn2_blck1_lyr2(out)\n",
    "        out += residual\n",
    "        \n",
    "        # block 2\n",
    "        residual = out\n",
    "        out = self.conv1_blck2_lyr2(out)\n",
    "        out = self.bn1_blck2_lyr2(out)\n",
    "        out = self.relu_blck2_lyr2(out)\n",
    "        out = self.conv2_blck2_lyr2(out)\n",
    "        out = self.bn2_blck2_lyr2(out)\n",
    "        out += residual\n",
    "\n",
    "\n",
    "        ## layer 3\n",
    "        # block 1\n",
    "        residual = self.downsample2(out)\n",
    "        out = self.downsample2(out) # downsample\n",
    "        out = self.conv1_blck1_lyr3(out)\n",
    "        out = self.bn1_blck1_lyr3(out)\n",
    "        out = self.relu_blck1_lyr3(out)\n",
    "        out = self.conv2_blck1_lyr3(out)\n",
    "        out = self.bn2_blck1_lyr3(out)\n",
    "        out += residual\n",
    "        \n",
    "        # block 2\n",
    "        residual = out\n",
    "        out = self.conv1_blck2_lyr3(out)\n",
    "        out = self.bn1_blck2_lyr3(out)\n",
    "        out = self.relu_blck2_lyr3(out)\n",
    "        out = self.conv2_blck2_lyr3(out)\n",
    "        out = self.bn2_blck2_lyr3(out)\n",
    "        out += residual\n",
    "        \n",
    "        out = self.avg_pool(out)\n",
    "        out = out.view(-1, 1*1*64)\n",
    "        out = self.fc1(out)\n",
    "        return out"
   ]
  },
  {
   "cell_type": "code",
   "execution_count": null,
   "metadata": {},
   "outputs": [],
   "source": [
    "fullnet = ResNetFull().to(device)\n",
    "\n",
    "# loss function and optimizer\n",
    "criterion = nn.CrossEntropyLoss()\n",
    "optimizer = optim.SGD(fullnet.parameters(), lr=0.001, momentum=0.9)\n",
    "#optimizer = optim.Adam(fullnet.parameters(), betas = (0.9, 0.999))"
   ]
  },
  {
   "cell_type": "code",
   "execution_count": null,
   "metadata": {},
   "outputs": [],
   "source": [
    "start = time.time() \n",
    "\n",
    "fullnet, train_acc, test_acc, losses = train(fullnet, trainloader, testloader,\n",
    "                                           criterion, optimizer, device=device,\n",
    "                                           epochs=35, print_freq=1)\n",
    "\n",
    "end = time.time()\n",
    "print('%.1f seconds' % (end - start))"
   ]
  },
  {
   "cell_type": "code",
   "execution_count": null,
   "metadata": {},
   "outputs": [],
   "source": [
    "plot_acc(train_acc, test_acc, losses)\n",
    "#plot_acc(train_acc, test_acc, losses, save=True, outfile='res_net.png')"
   ]
  },
  {
   "cell_type": "code",
   "execution_count": null,
   "metadata": {},
   "outputs": [],
   "source": [
    "class_accuracies(testloader, fullnet)"
   ]
  },
  {
   "cell_type": "markdown",
   "metadata": {},
   "source": [
    "## ResNet, cleaner"
   ]
  },
  {
   "cell_type": "code",
   "execution_count": null,
   "metadata": {},
   "outputs": [],
   "source": [
    "# 3x3 convolution\n",
    "def conv3x3(in_channels, out_channels, stride=1):\n",
    "    return nn.Conv2d(in_channels, out_channels, kernel_size=3, \n",
    "                     stride=stride, padding=1, bias=False)\n",
    "\n",
    "# Residual block\n",
    "class ResidualBlock(nn.Module):\n",
    "    def __init__(self, in_channels, out_channels, stride=1, downsample=None):\n",
    "        super(ResidualBlock, self).__init__()\n",
    "        self.conv1 = conv3x3(in_channels, out_channels, stride)\n",
    "        self.bn1 = nn.BatchNorm2d(out_channels)\n",
    "        self.relu = nn.ReLU(inplace=True)\n",
    "        self.conv2 = conv3x3(out_channels, out_channels)\n",
    "        self.bn2 = nn.BatchNorm2d(out_channels)\n",
    "        self.downsample = downsample\n",
    "        \n",
    "    def forward(self, x):\n",
    "        residual = x\n",
    "        out = self.conv1(x)\n",
    "        out = self.bn1(out)\n",
    "        out = self.relu(out)\n",
    "        out = self.conv2(out)\n",
    "        out = self.bn2(out)\n",
    "        if self.downsample:\n",
    "            residual = self.downsample(x)\n",
    "        out += residual\n",
    "        out = self.relu(out)\n",
    "        return out"
   ]
  },
  {
   "cell_type": "code",
   "execution_count": null,
   "metadata": {},
   "outputs": [],
   "source": [
    "# ResNet\n",
    "class ResNet(nn.Module):\n",
    "    def __init__(self, block, layers, num_classes=10):\n",
    "        super(ResNet, self).__init__()\n",
    "        self.in_channels = 16\n",
    "        self.conv = conv3x3(img_shape[2], 16)\n",
    "        self.bn = nn.BatchNorm2d(16)\n",
    "        self.relu = nn.ReLU(inplace=True)\n",
    "        self.layer1 = self.make_layer(block, 16, layers[0])\n",
    "        self.layer2 = self.make_layer(block, 32, layers[0], 2)\n",
    "        self.layer3 = self.make_layer(block, 64, layers[1], 2)\n",
    "        self.avg_pool = nn.AvgPool2d(8)\n",
    "        self.fc = nn.Linear(64, num_classes)\n",
    "        \n",
    "    def make_layer(self, block, out_channels, blocks, stride=1):\n",
    "        downsample = None\n",
    "        if (stride != 1) or (self.in_channels != out_channels):\n",
    "            downsample = nn.Sequential(\n",
    "                conv3x3(self.in_channels, out_channels, stride=stride),\n",
    "                nn.BatchNorm2d(out_channels))\n",
    "        layers = []\n",
    "        layers.append(block(self.in_channels, out_channels, stride, downsample))\n",
    "        self.in_channels = out_channels\n",
    "        for i in range(1, blocks):\n",
    "            layers.append(block(out_channels, out_channels))\n",
    "        return nn.Sequential(*layers)\n",
    "    \n",
    "\n",
    "    def forward(self, x):\n",
    "        out = self.conv(x)\n",
    "        out = self.bn(out)\n",
    "        out = self.relu(out)\n",
    "        out = self.layer1(out)\n",
    "        out = self.layer2(out)\n",
    "        out = self.layer3(out)\n",
    "        out = self.avg_pool(out)\n",
    "        out = out.view(out.size(0), -1)\n",
    "        out = self.fc(out)\n",
    "        return out"
   ]
  },
  {
   "cell_type": "code",
   "execution_count": null,
   "metadata": {},
   "outputs": [],
   "source": [
    "resnet = ResNet(ResidualBlock, [2, 2, 2, 2]).to(device)"
   ]
  },
  {
   "cell_type": "code",
   "execution_count": null,
   "metadata": {},
   "outputs": [],
   "source": [
    "# loss function and optimizer\n",
    "criterion = nn.CrossEntropyLoss()\n",
    "optimizer = optim.SGD(resnet.parameters(), lr=0.001, momentum=0.9)\n",
    "#optimizer = optim.Adam(net.parameters(), betas = (0.9, 0.999))"
   ]
  },
  {
   "cell_type": "code",
   "execution_count": null,
   "metadata": {},
   "outputs": [],
   "source": [
    "resnet, train_acc, test_acc, losses = train(resnet, trainloader, testloader,\n",
    "                                           criterion, optimizer, epochs=120, weight_decay=True, device=device)"
   ]
  },
  {
   "cell_type": "code",
   "execution_count": null,
   "metadata": {},
   "outputs": [],
   "source": [
    "plot_acc(train_acc, test_acc, losses)"
   ]
  },
  {
   "cell_type": "code",
   "execution_count": null,
   "metadata": {},
   "outputs": [],
   "source": []
  },
  {
   "cell_type": "code",
   "execution_count": null,
   "metadata": {},
   "outputs": [],
   "source": []
  },
  {
   "cell_type": "code",
   "execution_count": null,
   "metadata": {},
   "outputs": [],
   "source": []
  },
  {
   "cell_type": "markdown",
   "metadata": {},
   "source": [
    "# MobilenetV2"
   ]
  },
  {
   "cell_type": "code",
   "execution_count": null,
   "metadata": {},
   "outputs": [],
   "source": []
  },
  {
   "cell_type": "code",
   "execution_count": 24,
   "metadata": {},
   "outputs": [],
   "source": [
    "from torch import nn\n",
    "# from utils import load_state_dict_from_url\n",
    "\n",
    "\n",
    "__all__ = ['MobileNetV2', 'mobilenet_v2']\n",
    "\n",
    "\n",
    "model_urls = {\n",
    "    'mobilenet_v2': 'https://download.pytorch.org/models/mobilenet_v2-b0353104.pth',\n",
    "}\n",
    "\n",
    "\n",
    "def _make_divisible(v, divisor, min_value=None):\n",
    "    \"\"\"\n",
    "    This function is taken from the original tf repo.\n",
    "    It ensures that all layers have a channel number that is divisible by 8\n",
    "    It can be seen here:\n",
    "    https://github.com/tensorflow/models/blob/master/research/slim/nets/mobilenet/mobilenet.py\n",
    "    :param v:\n",
    "    :param divisor:\n",
    "    :param min_value:\n",
    "    :return:\n",
    "    \"\"\"\n",
    "    if min_value is None:\n",
    "        min_value = divisor\n",
    "    new_v = max(min_value, int(v + divisor / 2) // divisor * divisor)\n",
    "    # Make sure that round down does not go down by more than 10%.\n",
    "    if new_v < 0.9 * v:\n",
    "        new_v += divisor\n",
    "    return new_v\n",
    "\n",
    "\n",
    "class ConvBNReLU(nn.Sequential):\n",
    "    def __init__(self, in_planes, out_planes, kernel_size=3, stride=1, groups=1):\n",
    "        padding = (kernel_size - 1) // 2\n",
    "        super(ConvBNReLU, self).__init__(\n",
    "            nn.Conv2d(in_planes, out_planes, kernel_size, stride, padding, groups=groups, bias=False),\n",
    "            nn.BatchNorm2d(out_planes),\n",
    "            nn.ReLU6(inplace=True)\n",
    "        )\n",
    "\n",
    "\n",
    "class InvertedResidual(nn.Module):\n",
    "    def __init__(self, inp, oup, stride, expand_ratio):\n",
    "        super(InvertedResidual, self).__init__()\n",
    "        self.stride = stride\n",
    "        assert stride in [1, 2]\n",
    "\n",
    "        hidden_dim = int(round(inp * expand_ratio))\n",
    "        self.use_res_connect = self.stride == 1 and inp == oup\n",
    "\n",
    "        layers = []\n",
    "        if expand_ratio != 1:\n",
    "            # pw\n",
    "            layers.append(ConvBNReLU(inp, hidden_dim, kernel_size=1))\n",
    "        layers.extend([\n",
    "            # dw\n",
    "            ConvBNReLU(hidden_dim, hidden_dim, stride=stride, groups=hidden_dim),\n",
    "            # pw-linear\n",
    "            nn.Conv2d(hidden_dim, oup, 1, 1, 0, bias=False),\n",
    "            nn.BatchNorm2d(oup),\n",
    "        ])\n",
    "        self.conv = nn.Sequential(*layers)\n",
    "\n",
    "    def forward(self, x):\n",
    "        if self.use_res_connect:\n",
    "            return x + self.conv(x)\n",
    "        else:\n",
    "            return self.conv(x)\n",
    "\n",
    "\n",
    "class MobileNetV2(nn.Module):\n",
    "    def __init__(self,\n",
    "                 num_classes=1000,\n",
    "                 width_mult=1.0,\n",
    "                 inverted_residual_setting=None,\n",
    "                 round_nearest=8,\n",
    "                 block=None):\n",
    "        \"\"\"\n",
    "        MobileNet V2 main class\n",
    "        Args:\n",
    "            num_classes (int): Number of classes\n",
    "            width_mult (float): Width multiplier - adjusts number of channels in each layer by this amount\n",
    "            inverted_residual_setting: Network structure\n",
    "            round_nearest (int): Round the number of channels in each layer to be a multiple of this number\n",
    "            Set to 1 to turn off rounding\n",
    "            block: Module specifying inverted residual building block for mobilenet\n",
    "        \"\"\"\n",
    "        super(MobileNetV2, self).__init__()\n",
    "\n",
    "        if block is None:\n",
    "            block = InvertedResidual\n",
    "        input_channel = 32\n",
    "        last_channel = 1280\n",
    "\n",
    "        if inverted_residual_setting is None:\n",
    "            inverted_residual_setting = [\n",
    "                # t, c, n, s\n",
    "                [1, 16, 1, 1],\n",
    "                [6, 24, 2, 2],\n",
    "                [6, 32, 3, 2],\n",
    "                [6, 64, 4, 2],\n",
    "                [6, 96, 3, 1],\n",
    "                [6, 160, 3, 2],\n",
    "                [6, 320, 1, 1],\n",
    "            ]\n",
    "\n",
    "        # only check the first element, assuming user knows t,c,n,s are required\n",
    "        if len(inverted_residual_setting) == 0 or len(inverted_residual_setting[0]) != 4:\n",
    "            raise ValueError(\"inverted_residual_setting should be non-empty \"\n",
    "                             \"or a 4-element list, got {}\".format(inverted_residual_setting))\n",
    "\n",
    "        # building first layer\n",
    "        input_channel = _make_divisible(input_channel * width_mult, round_nearest)\n",
    "        self.last_channel = _make_divisible(last_channel * max(1.0, width_mult), round_nearest)\n",
    "        features = [ConvBNReLU(3, input_channel, stride=2)]\n",
    "        # building inverted residual blocks\n",
    "        for t, c, n, s in inverted_residual_setting:\n",
    "            output_channel = _make_divisible(c * width_mult, round_nearest)\n",
    "            for i in range(n):\n",
    "                stride = s if i == 0 else 1\n",
    "                features.append(block(input_channel, output_channel, stride, expand_ratio=t))\n",
    "                input_channel = output_channel\n",
    "        # building last several layers\n",
    "        features.append(ConvBNReLU(input_channel, self.last_channel, kernel_size=1))\n",
    "        # make it nn.Sequential\n",
    "        self.features = nn.Sequential(*features)\n",
    "\n",
    "        # building classifier\n",
    "        self.classifier = nn.Sequential(\n",
    "            nn.Dropout(0.2),\n",
    "            nn.Linear(self.last_channel, num_classes),\n",
    "        )\n",
    "\n",
    "        # weight initialization\n",
    "        for m in self.modules():\n",
    "            if isinstance(m, nn.Conv2d):\n",
    "                nn.init.kaiming_normal_(m.weight, mode='fan_out')\n",
    "                if m.bias is not None:\n",
    "                    nn.init.zeros_(m.bias)\n",
    "            elif isinstance(m, nn.BatchNorm2d):\n",
    "                nn.init.ones_(m.weight)\n",
    "                nn.init.zeros_(m.bias)\n",
    "            elif isinstance(m, nn.Linear):\n",
    "                nn.init.normal_(m.weight, 0, 0.01)\n",
    "                nn.init.zeros_(m.bias)\n",
    "\n",
    "    def _forward_impl(self, x):\n",
    "        # This exists since TorchScript doesn't support inheritance, so the superclass method\n",
    "        # (this one) needs to have a name other than `forward` that can be accessed in a subclass\n",
    "        x = self.features(x)\n",
    "        x = x.mean([2, 3])\n",
    "        x = self.classifier(x)\n",
    "        return x\n",
    "\n",
    "    def forward(self, x):\n",
    "        return self._forward_impl(x)"
   ]
  },
  {
   "cell_type": "code",
   "execution_count": 25,
   "metadata": {},
   "outputs": [],
   "source": [
    "def mobilenet_v2(pretrained=True):\n",
    "    model = MobileNetV2(width_mult=1)\n",
    "\n",
    "#     if pretrained:\n",
    "#         try:\n",
    "#             from torch.hub import load_state_dict_from_url\n",
    "#         except ImportError:\n",
    "#             from torch.utils.model_zoo import load_url as load_state_dict_from_url\n",
    "#         state_dict = load_state_dict_from_url(\n",
    "#             'https://www.dropbox.com/s/47tyzpofuuyyv1b/mobilenetv2_1.0-f2a8633.pth.tar?dl=1', progress=True)\n",
    "#         model.load_state_dict(state_dict)\n",
    "    return model"
   ]
  },
  {
   "cell_type": "code",
   "execution_count": 27,
   "metadata": {},
   "outputs": [
    {
     "name": "stderr",
     "output_type": "stream",
     "text": [
      "Downloading: \"https://github.com/pytorch/vision/archive/v0.5.0.zip\" to /home/nknuecht/.cache/torch/hub/v0.5.0.zip\n",
      "Downloading: \"https://download.pytorch.org/models/mobilenet_v2-b0353104.pth\" to /home/nknuecht/.cache/torch/checkpoints/mobilenet_v2-b0353104.pth\n",
      "100%|██████████| 13.6M/13.6M [00:00<00:00, 18.5MB/s]\n"
     ]
    },
    {
     "data": {
      "text/plain": [
       "MobileNetV2(\n",
       "  (features): Sequential(\n",
       "    (0): ConvBNReLU(\n",
       "      (0): Conv2d(3, 32, kernel_size=(3, 3), stride=(2, 2), padding=(1, 1), bias=False)\n",
       "      (1): BatchNorm2d(32, eps=1e-05, momentum=0.1, affine=True, track_running_stats=True)\n",
       "      (2): ReLU6(inplace=True)\n",
       "    )\n",
       "    (1): InvertedResidual(\n",
       "      (conv): Sequential(\n",
       "        (0): ConvBNReLU(\n",
       "          (0): Conv2d(32, 32, kernel_size=(3, 3), stride=(1, 1), padding=(1, 1), groups=32, bias=False)\n",
       "          (1): BatchNorm2d(32, eps=1e-05, momentum=0.1, affine=True, track_running_stats=True)\n",
       "          (2): ReLU6(inplace=True)\n",
       "        )\n",
       "        (1): Conv2d(32, 16, kernel_size=(1, 1), stride=(1, 1), bias=False)\n",
       "        (2): BatchNorm2d(16, eps=1e-05, momentum=0.1, affine=True, track_running_stats=True)\n",
       "      )\n",
       "    )\n",
       "    (2): InvertedResidual(\n",
       "      (conv): Sequential(\n",
       "        (0): ConvBNReLU(\n",
       "          (0): Conv2d(16, 96, kernel_size=(1, 1), stride=(1, 1), bias=False)\n",
       "          (1): BatchNorm2d(96, eps=1e-05, momentum=0.1, affine=True, track_running_stats=True)\n",
       "          (2): ReLU6(inplace=True)\n",
       "        )\n",
       "        (1): ConvBNReLU(\n",
       "          (0): Conv2d(96, 96, kernel_size=(3, 3), stride=(2, 2), padding=(1, 1), groups=96, bias=False)\n",
       "          (1): BatchNorm2d(96, eps=1e-05, momentum=0.1, affine=True, track_running_stats=True)\n",
       "          (2): ReLU6(inplace=True)\n",
       "        )\n",
       "        (2): Conv2d(96, 24, kernel_size=(1, 1), stride=(1, 1), bias=False)\n",
       "        (3): BatchNorm2d(24, eps=1e-05, momentum=0.1, affine=True, track_running_stats=True)\n",
       "      )\n",
       "    )\n",
       "    (3): InvertedResidual(\n",
       "      (conv): Sequential(\n",
       "        (0): ConvBNReLU(\n",
       "          (0): Conv2d(24, 144, kernel_size=(1, 1), stride=(1, 1), bias=False)\n",
       "          (1): BatchNorm2d(144, eps=1e-05, momentum=0.1, affine=True, track_running_stats=True)\n",
       "          (2): ReLU6(inplace=True)\n",
       "        )\n",
       "        (1): ConvBNReLU(\n",
       "          (0): Conv2d(144, 144, kernel_size=(3, 3), stride=(1, 1), padding=(1, 1), groups=144, bias=False)\n",
       "          (1): BatchNorm2d(144, eps=1e-05, momentum=0.1, affine=True, track_running_stats=True)\n",
       "          (2): ReLU6(inplace=True)\n",
       "        )\n",
       "        (2): Conv2d(144, 24, kernel_size=(1, 1), stride=(1, 1), bias=False)\n",
       "        (3): BatchNorm2d(24, eps=1e-05, momentum=0.1, affine=True, track_running_stats=True)\n",
       "      )\n",
       "    )\n",
       "    (4): InvertedResidual(\n",
       "      (conv): Sequential(\n",
       "        (0): ConvBNReLU(\n",
       "          (0): Conv2d(24, 144, kernel_size=(1, 1), stride=(1, 1), bias=False)\n",
       "          (1): BatchNorm2d(144, eps=1e-05, momentum=0.1, affine=True, track_running_stats=True)\n",
       "          (2): ReLU6(inplace=True)\n",
       "        )\n",
       "        (1): ConvBNReLU(\n",
       "          (0): Conv2d(144, 144, kernel_size=(3, 3), stride=(2, 2), padding=(1, 1), groups=144, bias=False)\n",
       "          (1): BatchNorm2d(144, eps=1e-05, momentum=0.1, affine=True, track_running_stats=True)\n",
       "          (2): ReLU6(inplace=True)\n",
       "        )\n",
       "        (2): Conv2d(144, 32, kernel_size=(1, 1), stride=(1, 1), bias=False)\n",
       "        (3): BatchNorm2d(32, eps=1e-05, momentum=0.1, affine=True, track_running_stats=True)\n",
       "      )\n",
       "    )\n",
       "    (5): InvertedResidual(\n",
       "      (conv): Sequential(\n",
       "        (0): ConvBNReLU(\n",
       "          (0): Conv2d(32, 192, kernel_size=(1, 1), stride=(1, 1), bias=False)\n",
       "          (1): BatchNorm2d(192, eps=1e-05, momentum=0.1, affine=True, track_running_stats=True)\n",
       "          (2): ReLU6(inplace=True)\n",
       "        )\n",
       "        (1): ConvBNReLU(\n",
       "          (0): Conv2d(192, 192, kernel_size=(3, 3), stride=(1, 1), padding=(1, 1), groups=192, bias=False)\n",
       "          (1): BatchNorm2d(192, eps=1e-05, momentum=0.1, affine=True, track_running_stats=True)\n",
       "          (2): ReLU6(inplace=True)\n",
       "        )\n",
       "        (2): Conv2d(192, 32, kernel_size=(1, 1), stride=(1, 1), bias=False)\n",
       "        (3): BatchNorm2d(32, eps=1e-05, momentum=0.1, affine=True, track_running_stats=True)\n",
       "      )\n",
       "    )\n",
       "    (6): InvertedResidual(\n",
       "      (conv): Sequential(\n",
       "        (0): ConvBNReLU(\n",
       "          (0): Conv2d(32, 192, kernel_size=(1, 1), stride=(1, 1), bias=False)\n",
       "          (1): BatchNorm2d(192, eps=1e-05, momentum=0.1, affine=True, track_running_stats=True)\n",
       "          (2): ReLU6(inplace=True)\n",
       "        )\n",
       "        (1): ConvBNReLU(\n",
       "          (0): Conv2d(192, 192, kernel_size=(3, 3), stride=(1, 1), padding=(1, 1), groups=192, bias=False)\n",
       "          (1): BatchNorm2d(192, eps=1e-05, momentum=0.1, affine=True, track_running_stats=True)\n",
       "          (2): ReLU6(inplace=True)\n",
       "        )\n",
       "        (2): Conv2d(192, 32, kernel_size=(1, 1), stride=(1, 1), bias=False)\n",
       "        (3): BatchNorm2d(32, eps=1e-05, momentum=0.1, affine=True, track_running_stats=True)\n",
       "      )\n",
       "    )\n",
       "    (7): InvertedResidual(\n",
       "      (conv): Sequential(\n",
       "        (0): ConvBNReLU(\n",
       "          (0): Conv2d(32, 192, kernel_size=(1, 1), stride=(1, 1), bias=False)\n",
       "          (1): BatchNorm2d(192, eps=1e-05, momentum=0.1, affine=True, track_running_stats=True)\n",
       "          (2): ReLU6(inplace=True)\n",
       "        )\n",
       "        (1): ConvBNReLU(\n",
       "          (0): Conv2d(192, 192, kernel_size=(3, 3), stride=(2, 2), padding=(1, 1), groups=192, bias=False)\n",
       "          (1): BatchNorm2d(192, eps=1e-05, momentum=0.1, affine=True, track_running_stats=True)\n",
       "          (2): ReLU6(inplace=True)\n",
       "        )\n",
       "        (2): Conv2d(192, 64, kernel_size=(1, 1), stride=(1, 1), bias=False)\n",
       "        (3): BatchNorm2d(64, eps=1e-05, momentum=0.1, affine=True, track_running_stats=True)\n",
       "      )\n",
       "    )\n",
       "    (8): InvertedResidual(\n",
       "      (conv): Sequential(\n",
       "        (0): ConvBNReLU(\n",
       "          (0): Conv2d(64, 384, kernel_size=(1, 1), stride=(1, 1), bias=False)\n",
       "          (1): BatchNorm2d(384, eps=1e-05, momentum=0.1, affine=True, track_running_stats=True)\n",
       "          (2): ReLU6(inplace=True)\n",
       "        )\n",
       "        (1): ConvBNReLU(\n",
       "          (0): Conv2d(384, 384, kernel_size=(3, 3), stride=(1, 1), padding=(1, 1), groups=384, bias=False)\n",
       "          (1): BatchNorm2d(384, eps=1e-05, momentum=0.1, affine=True, track_running_stats=True)\n",
       "          (2): ReLU6(inplace=True)\n",
       "        )\n",
       "        (2): Conv2d(384, 64, kernel_size=(1, 1), stride=(1, 1), bias=False)\n",
       "        (3): BatchNorm2d(64, eps=1e-05, momentum=0.1, affine=True, track_running_stats=True)\n",
       "      )\n",
       "    )\n",
       "    (9): InvertedResidual(\n",
       "      (conv): Sequential(\n",
       "        (0): ConvBNReLU(\n",
       "          (0): Conv2d(64, 384, kernel_size=(1, 1), stride=(1, 1), bias=False)\n",
       "          (1): BatchNorm2d(384, eps=1e-05, momentum=0.1, affine=True, track_running_stats=True)\n",
       "          (2): ReLU6(inplace=True)\n",
       "        )\n",
       "        (1): ConvBNReLU(\n",
       "          (0): Conv2d(384, 384, kernel_size=(3, 3), stride=(1, 1), padding=(1, 1), groups=384, bias=False)\n",
       "          (1): BatchNorm2d(384, eps=1e-05, momentum=0.1, affine=True, track_running_stats=True)\n",
       "          (2): ReLU6(inplace=True)\n",
       "        )\n",
       "        (2): Conv2d(384, 64, kernel_size=(1, 1), stride=(1, 1), bias=False)\n",
       "        (3): BatchNorm2d(64, eps=1e-05, momentum=0.1, affine=True, track_running_stats=True)\n",
       "      )\n",
       "    )\n",
       "    (10): InvertedResidual(\n",
       "      (conv): Sequential(\n",
       "        (0): ConvBNReLU(\n",
       "          (0): Conv2d(64, 384, kernel_size=(1, 1), stride=(1, 1), bias=False)\n",
       "          (1): BatchNorm2d(384, eps=1e-05, momentum=0.1, affine=True, track_running_stats=True)\n",
       "          (2): ReLU6(inplace=True)\n",
       "        )\n",
       "        (1): ConvBNReLU(\n",
       "          (0): Conv2d(384, 384, kernel_size=(3, 3), stride=(1, 1), padding=(1, 1), groups=384, bias=False)\n",
       "          (1): BatchNorm2d(384, eps=1e-05, momentum=0.1, affine=True, track_running_stats=True)\n",
       "          (2): ReLU6(inplace=True)\n",
       "        )\n",
       "        (2): Conv2d(384, 64, kernel_size=(1, 1), stride=(1, 1), bias=False)\n",
       "        (3): BatchNorm2d(64, eps=1e-05, momentum=0.1, affine=True, track_running_stats=True)\n",
       "      )\n",
       "    )\n",
       "    (11): InvertedResidual(\n",
       "      (conv): Sequential(\n",
       "        (0): ConvBNReLU(\n",
       "          (0): Conv2d(64, 384, kernel_size=(1, 1), stride=(1, 1), bias=False)\n",
       "          (1): BatchNorm2d(384, eps=1e-05, momentum=0.1, affine=True, track_running_stats=True)\n",
       "          (2): ReLU6(inplace=True)\n",
       "        )\n",
       "        (1): ConvBNReLU(\n",
       "          (0): Conv2d(384, 384, kernel_size=(3, 3), stride=(1, 1), padding=(1, 1), groups=384, bias=False)\n",
       "          (1): BatchNorm2d(384, eps=1e-05, momentum=0.1, affine=True, track_running_stats=True)\n",
       "          (2): ReLU6(inplace=True)\n",
       "        )\n",
       "        (2): Conv2d(384, 96, kernel_size=(1, 1), stride=(1, 1), bias=False)\n",
       "        (3): BatchNorm2d(96, eps=1e-05, momentum=0.1, affine=True, track_running_stats=True)\n",
       "      )\n",
       "    )\n",
       "    (12): InvertedResidual(\n",
       "      (conv): Sequential(\n",
       "        (0): ConvBNReLU(\n",
       "          (0): Conv2d(96, 576, kernel_size=(1, 1), stride=(1, 1), bias=False)\n",
       "          (1): BatchNorm2d(576, eps=1e-05, momentum=0.1, affine=True, track_running_stats=True)\n",
       "          (2): ReLU6(inplace=True)\n",
       "        )\n",
       "        (1): ConvBNReLU(\n",
       "          (0): Conv2d(576, 576, kernel_size=(3, 3), stride=(1, 1), padding=(1, 1), groups=576, bias=False)\n",
       "          (1): BatchNorm2d(576, eps=1e-05, momentum=0.1, affine=True, track_running_stats=True)\n",
       "          (2): ReLU6(inplace=True)\n",
       "        )\n",
       "        (2): Conv2d(576, 96, kernel_size=(1, 1), stride=(1, 1), bias=False)\n",
       "        (3): BatchNorm2d(96, eps=1e-05, momentum=0.1, affine=True, track_running_stats=True)\n",
       "      )\n",
       "    )\n",
       "    (13): InvertedResidual(\n",
       "      (conv): Sequential(\n",
       "        (0): ConvBNReLU(\n",
       "          (0): Conv2d(96, 576, kernel_size=(1, 1), stride=(1, 1), bias=False)\n",
       "          (1): BatchNorm2d(576, eps=1e-05, momentum=0.1, affine=True, track_running_stats=True)\n",
       "          (2): ReLU6(inplace=True)\n",
       "        )\n",
       "        (1): ConvBNReLU(\n",
       "          (0): Conv2d(576, 576, kernel_size=(3, 3), stride=(1, 1), padding=(1, 1), groups=576, bias=False)\n",
       "          (1): BatchNorm2d(576, eps=1e-05, momentum=0.1, affine=True, track_running_stats=True)\n",
       "          (2): ReLU6(inplace=True)\n",
       "        )\n",
       "        (2): Conv2d(576, 96, kernel_size=(1, 1), stride=(1, 1), bias=False)\n",
       "        (3): BatchNorm2d(96, eps=1e-05, momentum=0.1, affine=True, track_running_stats=True)\n",
       "      )\n",
       "    )\n",
       "    (14): InvertedResidual(\n",
       "      (conv): Sequential(\n",
       "        (0): ConvBNReLU(\n",
       "          (0): Conv2d(96, 576, kernel_size=(1, 1), stride=(1, 1), bias=False)\n",
       "          (1): BatchNorm2d(576, eps=1e-05, momentum=0.1, affine=True, track_running_stats=True)\n",
       "          (2): ReLU6(inplace=True)\n",
       "        )\n",
       "        (1): ConvBNReLU(\n",
       "          (0): Conv2d(576, 576, kernel_size=(3, 3), stride=(2, 2), padding=(1, 1), groups=576, bias=False)\n",
       "          (1): BatchNorm2d(576, eps=1e-05, momentum=0.1, affine=True, track_running_stats=True)\n",
       "          (2): ReLU6(inplace=True)\n",
       "        )\n",
       "        (2): Conv2d(576, 160, kernel_size=(1, 1), stride=(1, 1), bias=False)\n",
       "        (3): BatchNorm2d(160, eps=1e-05, momentum=0.1, affine=True, track_running_stats=True)\n",
       "      )\n",
       "    )\n",
       "    (15): InvertedResidual(\n",
       "      (conv): Sequential(\n",
       "        (0): ConvBNReLU(\n",
       "          (0): Conv2d(160, 960, kernel_size=(1, 1), stride=(1, 1), bias=False)\n",
       "          (1): BatchNorm2d(960, eps=1e-05, momentum=0.1, affine=True, track_running_stats=True)\n",
       "          (2): ReLU6(inplace=True)\n",
       "        )\n",
       "        (1): ConvBNReLU(\n",
       "          (0): Conv2d(960, 960, kernel_size=(3, 3), stride=(1, 1), padding=(1, 1), groups=960, bias=False)\n",
       "          (1): BatchNorm2d(960, eps=1e-05, momentum=0.1, affine=True, track_running_stats=True)\n",
       "          (2): ReLU6(inplace=True)\n",
       "        )\n",
       "        (2): Conv2d(960, 160, kernel_size=(1, 1), stride=(1, 1), bias=False)\n",
       "        (3): BatchNorm2d(160, eps=1e-05, momentum=0.1, affine=True, track_running_stats=True)\n",
       "      )\n",
       "    )\n",
       "    (16): InvertedResidual(\n",
       "      (conv): Sequential(\n",
       "        (0): ConvBNReLU(\n",
       "          (0): Conv2d(160, 960, kernel_size=(1, 1), stride=(1, 1), bias=False)\n",
       "          (1): BatchNorm2d(960, eps=1e-05, momentum=0.1, affine=True, track_running_stats=True)\n",
       "          (2): ReLU6(inplace=True)\n",
       "        )\n",
       "        (1): ConvBNReLU(\n",
       "          (0): Conv2d(960, 960, kernel_size=(3, 3), stride=(1, 1), padding=(1, 1), groups=960, bias=False)\n",
       "          (1): BatchNorm2d(960, eps=1e-05, momentum=0.1, affine=True, track_running_stats=True)\n",
       "          (2): ReLU6(inplace=True)\n",
       "        )\n",
       "        (2): Conv2d(960, 160, kernel_size=(1, 1), stride=(1, 1), bias=False)\n",
       "        (3): BatchNorm2d(160, eps=1e-05, momentum=0.1, affine=True, track_running_stats=True)\n",
       "      )\n",
       "    )\n",
       "    (17): InvertedResidual(\n",
       "      (conv): Sequential(\n",
       "        (0): ConvBNReLU(\n",
       "          (0): Conv2d(160, 960, kernel_size=(1, 1), stride=(1, 1), bias=False)\n",
       "          (1): BatchNorm2d(960, eps=1e-05, momentum=0.1, affine=True, track_running_stats=True)\n",
       "          (2): ReLU6(inplace=True)\n",
       "        )\n",
       "        (1): ConvBNReLU(\n",
       "          (0): Conv2d(960, 960, kernel_size=(3, 3), stride=(1, 1), padding=(1, 1), groups=960, bias=False)\n",
       "          (1): BatchNorm2d(960, eps=1e-05, momentum=0.1, affine=True, track_running_stats=True)\n",
       "          (2): ReLU6(inplace=True)\n",
       "        )\n",
       "        (2): Conv2d(960, 320, kernel_size=(1, 1), stride=(1, 1), bias=False)\n",
       "        (3): BatchNorm2d(320, eps=1e-05, momentum=0.1, affine=True, track_running_stats=True)\n",
       "      )\n",
       "    )\n",
       "    (18): ConvBNReLU(\n",
       "      (0): Conv2d(320, 1280, kernel_size=(1, 1), stride=(1, 1), bias=False)\n",
       "      (1): BatchNorm2d(1280, eps=1e-05, momentum=0.1, affine=True, track_running_stats=True)\n",
       "      (2): ReLU6(inplace=True)\n",
       "    )\n",
       "  )\n",
       "  (classifier): Sequential(\n",
       "    (0): Dropout(p=0.2, inplace=False)\n",
       "    (1): Linear(in_features=1280, out_features=1000, bias=True)\n",
       "  )\n",
       ")"
      ]
     },
     "execution_count": 27,
     "metadata": {},
     "output_type": "execute_result"
    }
   ],
   "source": [
    "import torch\n",
    "model = torch.hub.load('pytorch/vision:v0.5.0', 'mobilenet_v2', pretrained=True)\n",
    "model.eval()"
   ]
  },
  {
   "cell_type": "code",
   "execution_count": 28,
   "metadata": {},
   "outputs": [],
   "source": [
    "import urllib\n",
    "url, filename = (\"https://github.com/pytorch/hub/raw/master/dog.jpg\", \"dog.jpg\")\n",
    "try: urllib.URLopener().retrieve(url, filename)\n",
    "except: urllib.request.urlretrieve(url, filename)"
   ]
  },
  {
   "cell_type": "code",
   "execution_count": 29,
   "metadata": {},
   "outputs": [
    {
     "name": "stdout",
     "output_type": "stream",
     "text": [
      "tensor([ 2.0977e+00, -1.7348e+00, -2.2355e+00, -2.9669e+00, -2.3805e+00,\n",
      "         9.7397e-01, -1.6049e+00,  3.6914e+00,  6.3812e+00, -1.2929e+00,\n",
      "        -6.7555e+00, -3.3525e+00, -7.9619e+00, -4.4554e+00, -5.6423e+00,\n",
      "        -4.6624e+00, -1.9577e+00, -3.5811e-01, -1.2812e+00, -4.6707e+00,\n",
      "        -3.2935e+00, -2.5674e+00, -2.4351e+00, -1.3017e+00, -3.2453e+00,\n",
      "        -1.4237e+00, -1.2001e+00,  4.1275e-01, -1.6093e+00,  1.5871e+00,\n",
      "         2.7725e-01, -6.2652e-01, -2.9734e-01, -3.8219e+00, -1.5450e+00,\n",
      "        -2.8976e+00, -5.6528e-01, -2.3938e+00, -3.3705e-01,  1.2809e+00,\n",
      "        -1.2516e+00, -2.6469e+00, -3.1011e+00, -2.2447e+00, -4.4385e-01,\n",
      "        -1.2620e+00,  8.2896e-01, -2.0436e+00, -6.6036e-01, -8.6518e-02,\n",
      "         4.8967e-01, -1.7190e+00, -7.7943e-01, -1.1046e+00, -5.3857e-01,\n",
      "        -2.9254e+00, -1.9327e+00, -2.7273e+00, -6.0903e-01, -1.6802e+00,\n",
      "         1.3443e+00, -4.2062e+00, -1.4768e+00, -4.5581e+00, -3.2726e+00,\n",
      "        -4.0086e+00,  1.5702e-01, -1.9921e+00, -7.4553e-01, -4.2230e+00,\n",
      "        -3.8855e+00, -9.4837e-01, -2.1373e+00, -3.5562e+00, -2.4602e+00,\n",
      "        -3.2339e+00, -3.1414e+00, -2.6786e+00, -3.4320e-01,  1.3021e+00,\n",
      "        -1.8081e+00, -6.9590e-01,  6.0993e-01,  1.0629e+00,  7.0009e-01,\n",
      "        -2.1399e+00, -8.3321e-01, -1.2712e+00, -2.9445e+00,  2.6159e+00,\n",
      "        -3.0859e+00, -3.9235e+00, -5.0966e+00, -2.6899e+00, -4.2541e+00,\n",
      "        -5.7496e+00, -1.4612e+00, -3.3379e+00, -5.1146e+00,  1.3198e-01,\n",
      "         6.4283e-01, -3.8178e+00, -6.0667e-01, -3.8236e+00,  8.3375e+00,\n",
      "        -2.0877e-01,  1.5727e+00, -3.2569e+00, -1.3088e+00, -4.3541e+00,\n",
      "        -1.8997e+00, -4.4558e+00, -2.6055e+00, -4.8201e-01,  6.5847e-01,\n",
      "        -1.1139e+00, -1.9922e+00, -2.9861e+00,  6.3544e-02, -4.1180e-02,\n",
      "        -4.9799e+00, -3.5623e-01,  6.9237e-02,  2.6189e-02,  1.0603e+00,\n",
      "        -3.7500e+00, -2.2764e+00, -1.1260e+00, -3.6557e+00, -1.0141e+00,\n",
      "        -3.8173e+00, -2.6216e+00,  8.1061e-01, -4.8440e+00, -1.8047e-01,\n",
      "        -3.7860e+00, -2.7942e+00, -4.0452e+00, -2.7590e+00, -7.6154e+00,\n",
      "        -6.3294e+00, -3.7503e+00, -4.7911e+00, -2.9558e+00, -1.1693e+00,\n",
      "        -1.1443e+00,  4.1418e-01, -2.1690e+00, -2.2886e+00, -1.6754e+00,\n",
      "        -2.3970e+00,  6.1470e+00,  6.3288e+00,  4.1129e+00,  5.7730e+00,\n",
      "         1.3963e+00,  3.3143e-01,  8.0281e+00,  1.5755e+00, -1.1558e-02,\n",
      "         3.4564e-02, -7.4600e-01,  5.0004e-01, -1.5472e+00, -2.2847e+00,\n",
      "        -3.6398e+00, -6.4526e-01, -2.2491e+00,  1.6223e-01,  4.6008e+00,\n",
      "         3.4056e+00,  7.1303e-02, -1.5552e+00,  5.0138e+00,  5.8507e+00,\n",
      "         1.5491e+00, -2.0445e+00,  2.4170e+00, -2.4798e+00,  1.2948e+00,\n",
      "         1.9327e+00, -2.7864e+00,  1.2956e+00,  2.8686e-01,  2.5281e+00,\n",
      "         4.3597e+00,  5.6367e+00, -6.1374e-01,  3.3545e+00, -2.7333e-01,\n",
      "         2.3450e+00, -1.3377e+00,  5.4958e+00,  4.5115e+00,  2.6891e-01,\n",
      "         1.1485e+00, -1.2563e-01,  1.1168e+00,  6.3619e-02,  6.5230e+00,\n",
      "         2.4672e+00,  4.8819e-01, -3.3207e-01,  9.2125e+00,  1.6410e+00,\n",
      "         1.3188e+00,  1.9943e-01,  4.5677e+00,  2.1875e+00,  2.2087e-01,\n",
      "        -2.4104e+00,  6.0055e-01,  3.0084e+00, -5.4444e-01, -1.2983e+00,\n",
      "         2.8078e+00,  1.9668e+00,  2.0604e+00,  7.7008e-01,  1.6875e+00,\n",
      "         1.9477e+00, -7.9099e-01,  7.2126e+00,  9.0092e+00,  8.0076e+00,\n",
      "         2.3563e+00,  3.7544e+00,  5.7382e+00,  3.8081e+00,  6.5486e+00,\n",
      "         9.7228e+00,  1.0013e+01,  9.5305e+00,  2.3904e+00, -5.0377e-01,\n",
      "         5.1103e+00,  5.7608e-01,  1.5447e+00,  1.2857e+00,  3.5652e+00,\n",
      "         2.5450e+00,  1.4888e+00, -8.1306e-01, -2.7417e+00,  8.7088e-01,\n",
      "        -5.8501e-01, -4.0767e-01,  3.2671e+00,  9.6768e+00,  8.9972e+00,\n",
      "         9.2585e+00,  1.4055e+00,  1.1183e-01,  2.6599e+00, -1.4223e+00,\n",
      "         1.1165e+00,  5.2566e+00,  9.9246e+00,  1.4355e+01,  1.1880e+01,\n",
      "         5.9999e+00,  1.0196e+01, -3.5385e-01,  8.2910e+00,  6.0059e+00,\n",
      "         6.8347e-01,  4.1931e-01,  2.0777e+00, -5.5983e-01,  4.8030e+00,\n",
      "         9.0072e+00,  1.7113e+00,  2.3010e+00,  4.5991e+00,  3.6477e+00,\n",
      "        -9.0076e-01,  8.6038e-01,  4.4647e+00,  2.8593e+00,  9.2391e+00,\n",
      "         3.4026e+00,  3.9940e+00,  3.7692e+00,  7.0309e+00,  3.9052e+00,\n",
      "         4.3277e+00, -3.0220e-01,  3.9064e+00,  1.5825e-01,  1.4127e+00,\n",
      "        -2.0500e+00, -1.2154e+00,  1.4670e+00, -1.4580e+00, -1.5738e+00,\n",
      "        -1.3263e+00,  9.2755e-02, -2.6180e+00, -1.4926e-01, -7.5717e-01,\n",
      "        -5.3535e+00, -3.6209e+00, -2.3243e+00, -1.6823e+00, -3.7550e+00,\n",
      "        -3.8941e+00, -7.9254e-01, -1.5161e+00, -5.7227e+00, -2.8694e+00,\n",
      "        -7.2898e-01, -4.1101e-01, -7.2025e-01,  3.7913e-02, -1.0243e+00,\n",
      "        -3.3016e+00, -3.5729e+00, -1.9918e+00, -1.6733e+00, -5.8971e+00,\n",
      "        -5.3597e+00, -3.9750e+00, -3.6543e+00, -4.1491e+00, -2.9045e+00,\n",
      "        -1.0445e+00, -2.6859e+00, -1.9066e+00, -2.3439e+00, -6.2355e-01,\n",
      "         3.5224e+00,  6.2726e+00,  8.5430e+00,  5.0669e+00,  1.8273e+00,\n",
      "         4.6735e+00,  8.4476e-01, -1.9576e-02,  3.3690e+00, -1.0283e-01,\n",
      "        -2.4612e+00,  2.4194e+00, -5.1352e-01, -3.5476e+00, -3.5470e+00,\n",
      "         2.0303e-01, -1.3766e+00, -2.6088e+00,  2.4946e+00, -2.3945e+00,\n",
      "        -1.1865e+00, -4.9946e+00, -3.3072e+00, -4.2007e-01, -3.7238e+00,\n",
      "         5.3880e+00,  3.4567e+00,  1.0361e+00,  3.7673e+00,  4.1483e+00,\n",
      "        -6.8158e-01,  2.9724e+00, -2.6524e-01,  8.0892e-01, -1.7007e+00,\n",
      "        -2.0444e+00, -2.9546e+00, -3.2660e+00, -8.8699e-01, -3.3023e+00,\n",
      "        -3.3806e-01,  1.2563e+00, -8.9535e-01,  1.4541e+00,  9.4997e-01,\n",
      "        -2.0507e+00, -4.4067e+00,  2.2796e+00, -6.8593e-01, -8.8651e-01,\n",
      "         1.5170e+00, -3.8388e-01, -4.0742e-01,  9.6686e-01,  1.2590e+00,\n",
      "        -4.6555e+00, -6.3739e+00,  7.4363e-01, -1.3343e+00, -7.2349e-02,\n",
      "        -2.0423e+00,  3.7000e-01, -3.5627e+00, -1.9930e+00, -1.8647e+00,\n",
      "         1.3201e+00, -3.7614e+00, -2.9709e+00, -1.0222e+00, -1.9434e+00,\n",
      "        -2.9945e+00,  2.2073e-01,  1.7212e+00, -2.3659e+00, -1.2634e+00,\n",
      "        -1.0104e+00, -4.0589e+00,  2.7514e-02,  1.4427e+00,  7.0130e-02,\n",
      "        -3.4568e+00,  1.0521e+00,  3.5129e+00,  6.4661e-01, -1.4407e+00,\n",
      "        -2.4270e-01, -3.5198e+00, -9.4175e-01, -1.0295e+00,  3.3603e-01,\n",
      "         2.0016e-01, -8.9977e-02,  2.2656e-01, -9.6324e-01, -1.7674e+00,\n",
      "         6.4673e-01, -3.3786e-02,  4.2802e+00,  5.3263e+00,  2.2384e+00,\n",
      "        -3.5597e+00,  1.1807e+00,  4.5926e-02, -2.6271e+00,  1.0758e-01,\n",
      "         1.2795e+00,  1.5737e+00,  1.1931e+00, -2.4457e+00, -8.4555e-01,\n",
      "         2.8623e+00,  2.8805e-01, -5.9179e-01, -9.3239e-01,  1.4194e+00,\n",
      "        -1.0869e+00,  8.0468e-01,  2.6026e+00, -1.2723e+00, -7.7225e-01,\n",
      "         2.2809e+00, -1.4838e+00,  5.8849e-01, -9.0864e-01, -2.9350e+00,\n",
      "        -1.5003e+00,  2.7366e+00,  2.9118e+00, -2.5303e-01, -1.1096e+00,\n",
      "         2.3799e+00,  7.6073e-01,  5.4272e+00,  4.6897e+00, -1.3155e-01,\n",
      "        -8.0123e-01, -3.1159e+00, -4.0464e+00,  6.5657e-01,  2.0462e+00,\n",
      "         2.7152e+00,  2.0442e+00,  1.9868e+00, -1.4363e+00, -2.0505e+00,\n",
      "        -1.6228e+00, -7.0752e-01,  6.1673e-01,  2.5873e+00,  2.1843e+00,\n",
      "        -6.1809e-01, -1.9566e+00, -8.5768e-01,  7.1875e-01,  2.1852e+00,\n",
      "         2.9276e-01, -2.9160e+00,  4.7730e-01,  2.0784e+00,  4.0771e+00,\n",
      "        -2.4196e-01,  1.3048e+00, -5.0637e-01, -3.4089e-01,  6.6665e-01,\n",
      "        -1.1453e+00,  1.2197e+00, -1.6476e+00,  1.0244e+00, -1.2751e-02,\n",
      "        -3.8730e+00,  1.3927e+00,  3.1080e+00,  2.1766e+00,  1.2399e-02,\n",
      "         8.3346e-01,  6.3474e-01,  6.4802e-01,  1.8221e+00, -2.7608e+00,\n",
      "        -3.6870e+00,  1.3747e+00,  9.1802e-02,  8.2602e-01, -1.5124e+00,\n",
      "         2.2673e+00,  1.3143e-01, -2.9091e+00, -1.5961e-01,  2.5890e+00,\n",
      "        -1.2447e+00, -1.2865e+00,  5.8338e+00,  1.6895e+00, -2.0549e-01,\n",
      "        -1.0211e+00, -2.4552e+00, -5.0936e-01, -5.2973e-01, -4.5987e-01,\n",
      "         2.6499e-01, -2.9162e+00, -3.0222e+00,  2.2564e-01,  1.5582e+00,\n",
      "        -1.2584e-01, -1.8132e+00,  2.3501e+00, -3.3209e+00,  4.9566e+00,\n",
      "        -4.9510e+00, -7.4566e-01,  2.1571e+00,  7.6537e-01,  2.0662e+00,\n",
      "         1.6266e+00, -1.2199e-01, -4.3637e+00, -2.1941e+00, -3.0787e-01,\n",
      "        -3.8238e+00, -1.6580e+00,  4.3411e+00,  2.7014e-01, -3.5598e-01,\n",
      "        -2.5363e-01, -4.9810e-01,  2.2959e+00,  2.2455e+00,  8.4955e-01,\n",
      "        -9.5632e-01, -1.0925e-02,  2.0118e-01,  6.2614e-01, -2.0728e+00,\n",
      "        -2.8902e+00,  1.5548e+00,  7.2548e-01, -1.0286e+00,  4.4617e-02,\n",
      "        -1.0328e+00, -6.0997e-02,  8.5734e-02,  2.3276e+00,  2.5550e+00,\n",
      "         1.4773e+00, -2.1379e+00,  8.2632e-01,  9.0537e-01,  5.8717e-01,\n",
      "         1.4047e-01,  1.2880e+00, -1.2447e+00, -3.0260e+00,  1.3479e+00,\n",
      "         6.5379e-01,  1.0272e+00,  1.3767e+00,  1.0319e+00,  4.7779e-01,\n",
      "         5.2349e-01, -8.8269e-01, -1.4962e+00, -1.1824e+00,  1.1074e+00,\n",
      "        -2.2532e+00,  2.1382e+00,  9.7307e-01, -1.0083e+00, -1.6575e+00,\n",
      "        -9.6248e-04,  1.6627e+00, -2.1514e+00, -2.3709e+00, -3.4100e+00,\n",
      "        -5.2928e-01,  1.9259e-01, -8.0649e-01,  1.6568e+00, -5.1726e-01,\n",
      "        -1.5837e-01, -8.9715e-01, -4.5829e+00,  1.4675e+00, -4.5201e-01,\n",
      "         1.2436e+00,  6.0140e-01, -3.8649e-01, -1.7420e+00, -1.5792e+00,\n",
      "         9.3821e-01,  4.2496e+00,  1.1979e+00, -2.4132e-01, -3.2378e+00,\n",
      "        -1.0954e+00, -9.6517e-02,  1.8683e+00,  1.1284e+00,  2.0860e+00,\n",
      "         9.5166e-01,  1.8403e+00,  2.5347e-01,  1.8566e-01, -1.2812e+00,\n",
      "        -6.6936e-01,  2.0522e+00,  1.4342e+00, -2.2879e-01, -8.0857e-01,\n",
      "         1.9737e+00,  1.1951e+00, -8.6991e-01, -6.7025e-01,  5.4058e-01,\n",
      "        -4.6109e-01,  2.6557e+00, -1.3025e+00, -1.6542e+00, -1.3156e+00,\n",
      "         3.2369e-01, -5.4370e-01,  1.6666e+00,  4.5700e+00, -2.3573e+00,\n",
      "         1.2469e+00,  1.1997e+00,  4.0686e+00, -7.7582e-03, -1.1327e+00,\n",
      "         1.3139e+00, -3.5417e-01, -6.1601e-01, -3.9956e+00,  1.6335e+00,\n",
      "        -1.0202e+00, -4.5716e-01,  5.7760e-01, -3.4985e+00, -1.1559e-01,\n",
      "        -4.9487e-01,  6.6963e-01, -6.2700e-01,  1.0441e+00,  3.0509e+00,\n",
      "        -3.1207e-01,  2.7649e+00,  6.2701e-01, -1.7978e+00, -2.0636e+00,\n",
      "         6.7859e-01,  1.0197e-01, -1.0705e+00,  3.0527e-01, -1.7576e+00,\n",
      "         1.1912e+00, -2.5650e+00, -2.0395e+00, -2.3385e-02, -6.6741e-01,\n",
      "        -1.3196e+00, -1.5473e+00,  1.4445e+00,  4.8465e-01, -2.8597e-01,\n",
      "         2.0573e+00,  1.8837e+00, -4.4885e-01, -5.9844e-01,  1.4961e+00,\n",
      "         4.2709e+00,  4.7195e-02, -3.9729e+00,  1.6866e+00,  1.1838e-01,\n",
      "        -2.1901e+00, -1.4564e+00,  6.3495e-01, -6.9222e-02, -1.1540e-01,\n",
      "        -2.6747e+00, -1.8754e+00, -3.3248e-02, -1.3887e+00, -5.8239e-01,\n",
      "        -2.6332e+00,  2.9077e+00,  7.7976e-01,  1.2104e+00,  1.8161e+00,\n",
      "        -1.2151e+00,  1.0008e+00,  2.1955e+00,  3.8305e+00, -1.8397e+00,\n",
      "         5.7438e-01, -3.9989e+00, -2.8352e-01,  2.3984e+00, -1.1624e+00,\n",
      "         7.7795e-01,  4.9292e+00, -1.8727e+00,  4.6069e+00, -4.2315e+00,\n",
      "         2.9490e-01, -2.9247e+00, -4.1031e-01, -2.6956e-01, -3.2782e+00,\n",
      "         5.1226e-02, -1.1451e+00,  1.9002e+00, -3.3774e+00,  3.5610e+00,\n",
      "        -5.8406e-01, -2.5785e-01,  2.5958e+00,  4.8149e-01,  3.4009e+00,\n",
      "         1.9466e+00,  4.3969e+00,  3.1025e+00,  1.8707e+00,  2.3226e+00,\n",
      "        -1.7758e+00,  4.5991e+00, -3.1057e-01,  2.5523e+00, -4.3005e-01,\n",
      "         1.1663e+00,  3.7423e+00, -3.3202e+00,  2.9863e+00,  2.3991e+00,\n",
      "         1.8163e+00,  6.2833e-01, -3.0631e+00,  1.3832e+00,  2.3446e-01,\n",
      "         4.5702e-01, -5.2095e-01, -6.3540e-01, -2.3105e+00, -9.3960e-02,\n",
      "         4.7082e-01, -4.4529e-01,  3.7371e-01, -1.8174e+00, -1.6152e+00,\n",
      "        -3.7139e-01, -5.7884e-01,  1.7545e+00,  7.7587e-01, -7.8317e-02,\n",
      "         1.6376e-02, -2.9957e+00,  1.5097e+00, -1.9589e+00, -2.1457e+00,\n",
      "         8.6147e-01,  1.3731e+00,  4.8385e+00,  1.1895e+00, -5.1664e-02,\n",
      "        -6.9186e-01, -2.4000e+00,  2.2452e+00, -2.8816e+00,  2.9604e-01,\n",
      "        -2.4870e-02, -1.6365e+00,  5.4108e-01,  7.9194e-01, -4.7306e-01,\n",
      "         3.3787e+00,  3.1170e-01, -4.7706e-01,  4.7993e-01, -2.1351e+00,\n",
      "        -1.1842e+00,  2.8761e+00, -2.5128e+00,  6.7475e-01,  4.2304e-01,\n",
      "        -1.5112e-01, -2.4045e-01,  2.6086e+00,  2.2590e+00, -1.3191e+00,\n",
      "        -1.4585e+00, -1.7858e-01,  2.4934e-02,  3.6163e+00,  1.1935e+00,\n",
      "         1.5226e+00,  1.1416e+00,  1.3794e+00,  1.2284e+00, -3.1586e+00,\n",
      "         1.8730e+00,  5.6497e-01,  3.5441e-01,  3.7591e+00, -7.5653e-01,\n",
      "         1.4521e+00,  9.2728e-01,  1.7928e+00,  1.3086e+00,  3.3281e-01,\n",
      "         2.5021e+00,  1.2359e-01, -1.9837e+00, -1.9212e+00,  2.2389e+00,\n",
      "         1.7770e+00, -1.0251e+00,  1.1154e+00, -5.6650e-01,  8.5459e-01,\n",
      "        -9.2451e-01,  1.7175e+00,  5.5464e+00, -1.1396e+00, -1.0508e+00,\n",
      "         9.4547e-01, -1.1248e+00, -4.1178e+00, -1.5001e+00, -2.4440e+00,\n",
      "        -2.2460e+00,  2.9526e-01,  6.0925e-02, -6.5613e-02, -3.6811e-01,\n",
      "        -3.9457e+00, -2.5774e-01,  1.0757e+00,  2.7218e-01,  1.2959e-01,\n",
      "         2.9834e+00,  1.5601e+00, -1.3121e+00, -3.4189e+00, -4.8114e+00,\n",
      "        -7.6686e-02,  2.9641e+00, -1.4930e+00, -1.4022e+00,  3.6878e+00,\n",
      "         2.2555e+00,  2.3702e-01,  3.8400e+00, -5.7365e-01, -2.9713e+00,\n",
      "        -1.8238e+00, -2.4695e-01, -5.4835e+00, -1.7653e+00, -1.3388e-01,\n",
      "        -3.1702e+00, -1.5837e+00, -6.3625e-01, -4.9744e-01, -1.8403e+00,\n",
      "         1.0520e+00,  1.6680e+00,  1.8475e+00,  4.0332e+00,  1.3918e+00,\n",
      "        -3.2777e+00, -4.6016e-01,  1.0744e+00, -3.8841e-01,  2.3637e+00,\n",
      "        -5.5232e-02, -1.5774e-01,  1.7894e+00,  8.5379e-01,  6.7841e-01,\n",
      "         7.2238e-01,  7.0537e-01,  3.4570e+00,  3.3763e-01, -1.2732e+00,\n",
      "        -1.6014e+00, -1.1200e-01, -5.0247e+00, -9.6371e-01, -2.9870e-01,\n",
      "        -5.2168e-01, -2.2425e+00, -3.0319e+00, -1.8120e-01, -1.8274e+00,\n",
      "        -2.9185e+00, -5.3206e+00, -4.1686e-01, -1.1471e+00,  4.0239e+00,\n",
      "         1.6161e+00, -7.2602e-01,  2.2094e+00, -3.8633e+00, -2.6026e-01,\n",
      "         1.3907e+00,  2.0413e+00,  1.4310e+00, -5.5395e-01,  8.4762e-01,\n",
      "         1.2556e+00, -2.3636e+00,  5.4899e-01,  2.3556e-01, -2.1998e+00,\n",
      "        -3.3631e+00, -2.3922e+00, -1.7042e+00,  2.6087e+00,  1.6107e+00,\n",
      "        -3.4292e-01, -4.9724e-01, -3.1873e+00, -4.1049e-01, -1.3927e+00,\n",
      "        -3.3977e-01, -1.3094e+00,  3.4263e-01,  2.9870e+00, -1.0335e+00,\n",
      "        -5.0580e-01,  7.1300e-01, -1.3783e+00, -2.2482e+00, -3.8999e+00,\n",
      "        -2.0363e+00,  1.1213e+00, -4.8775e+00,  3.2949e-01,  1.5133e+00,\n",
      "         1.1563e+00,  2.0571e+00,  5.9265e-01, -3.9987e+00, -7.2273e-01,\n",
      "         2.9365e+00, -1.7806e+00,  1.8060e+00, -2.9915e-01, -1.3355e+00,\n",
      "         4.0329e-01,  1.8245e-02, -1.7063e-01, -2.5046e+00, -2.3489e-01,\n",
      "        -5.1013e-01, -7.8850e-01,  1.9875e+00, -2.5939e-01, -2.7370e+00,\n",
      "         6.9350e-01, -1.7628e+00, -5.1118e-01, -6.8332e+00, -4.1562e+00,\n",
      "        -2.5831e+00, -1.4274e+00, -3.0766e+00,  1.6652e+00,  3.3317e+00],\n",
      "       device='cuda:0')\n",
      "tensor([3.9432e-06, 8.5398e-08, 5.1760e-08, 2.4907e-08, 4.4774e-08, 1.2818e-06,\n",
      "        9.7241e-08, 1.9409e-05, 2.8588e-04, 1.3284e-07, 5.6362e-10, 1.6938e-08,\n",
      "        1.6868e-10, 5.6221e-09, 1.7157e-09, 4.5707e-09, 6.8331e-08, 3.3832e-07,\n",
      "        1.3440e-07, 4.5330e-09, 1.7967e-08, 3.7139e-08, 4.2395e-08, 1.3168e-07,\n",
      "        1.8855e-08, 1.1656e-07, 1.4577e-07, 7.3131e-07, 9.6812e-08, 2.3665e-06,\n",
      "        6.3864e-07, 2.5868e-07, 3.5951e-07, 1.0593e-08, 1.0324e-07, 2.6695e-08,\n",
      "        2.7501e-07, 4.4180e-08, 3.4552e-07, 1.7424e-06, 1.3845e-07, 3.4300e-08,\n",
      "        2.1779e-08, 5.1287e-08, 3.1052e-07, 1.3701e-07, 1.1088e-06, 6.2707e-08,\n",
      "        2.5007e-07, 4.4389e-07, 7.8978e-07, 8.6757e-08, 2.2200e-07, 1.6037e-07,\n",
      "        2.8245e-07, 2.5964e-08, 7.0061e-08, 3.1653e-08, 2.6324e-07, 9.0185e-08,\n",
      "        1.8563e-06, 7.2131e-09, 1.1053e-07, 5.0733e-09, 1.8347e-08, 8.7891e-09,\n",
      "        5.6629e-07, 6.6024e-08, 2.2965e-07, 7.0927e-09, 9.9401e-09, 1.8749e-07,\n",
      "        5.7098e-08, 1.3817e-08, 4.1344e-08, 1.9071e-08, 2.0919e-08, 3.3230e-08,\n",
      "        3.4340e-07, 1.7796e-06, 7.9358e-08, 2.4134e-07, 8.9071e-07, 1.4011e-06,\n",
      "        9.7475e-07, 5.6952e-08, 2.1037e-07, 1.3576e-07, 2.5472e-08, 6.6207e-06,\n",
      "        2.2114e-08, 9.5691e-09, 2.9609e-09, 3.2859e-08, 6.8757e-09, 1.5411e-09,\n",
      "        1.1226e-07, 1.7188e-08, 2.9081e-09, 5.5229e-07, 9.2050e-07, 1.0637e-08,\n",
      "        2.6386e-07, 1.0575e-08, 2.0220e-03, 3.9281e-07, 2.3327e-06, 1.8639e-08,\n",
      "        1.3075e-07, 6.2214e-09, 7.2417e-08, 5.6197e-09, 3.5751e-08, 2.9889e-07,\n",
      "        9.3501e-07, 1.5889e-07, 6.6013e-08, 2.4435e-08, 5.1576e-07, 4.6448e-07,\n",
      "        3.3275e-09, 3.3895e-07, 5.1870e-07, 4.9685e-07, 1.3974e-06, 1.1383e-08,\n",
      "        4.9683e-08, 1.5698e-07, 1.2508e-08, 1.7556e-07, 1.0642e-08, 3.5181e-08,\n",
      "        1.0887e-06, 3.8116e-09, 4.0408e-07, 1.0980e-08, 2.9603e-08, 8.4727e-09,\n",
      "        3.0664e-08, 2.3852e-10, 8.6299e-10, 1.1379e-08, 4.0188e-09, 2.5185e-08,\n",
      "        1.5032e-07, 1.5413e-07, 7.3236e-07, 5.5320e-08, 4.9083e-08, 9.0621e-08,\n",
      "        4.4040e-08, 2.2618e-04, 2.7128e-04, 2.9585e-05, 1.5561e-04, 1.9554e-06,\n",
      "        6.7419e-07, 1.4839e-03, 2.3392e-06, 4.7844e-07, 5.0102e-07, 2.2954e-07,\n",
      "        7.9802e-07, 1.0301e-07, 4.9274e-08, 1.2709e-08, 2.5387e-07, 5.1062e-08,\n",
      "        5.6925e-07, 4.8191e-05, 1.4584e-05, 5.1977e-07, 1.0219e-07, 7.2829e-05,\n",
      "        1.6818e-04, 2.2783e-06, 6.2654e-08, 5.4267e-06, 4.0539e-08, 1.7667e-06,\n",
      "        3.3434e-06, 2.9834e-08, 1.7682e-06, 6.4481e-07, 6.0647e-06, 3.7865e-05,\n",
      "        1.3578e-04, 2.6200e-07, 1.3857e-05, 3.6825e-07, 5.0495e-06, 1.2702e-07,\n",
      "        1.1793e-04, 4.4071e-05, 6.3334e-07, 1.5263e-06, 4.2686e-07, 1.4787e-06,\n",
      "        5.1579e-07, 3.2941e-04, 5.7060e-06, 7.8861e-07, 3.4724e-07, 4.8504e-03,\n",
      "        2.4977e-06, 1.8096e-06, 5.9082e-07, 4.6620e-05, 4.3138e-06, 6.0363e-07,\n",
      "        4.3455e-08, 8.8239e-07, 9.8035e-06, 2.8080e-07, 1.3212e-07, 8.0219e-06,\n",
      "        3.4596e-06, 3.7991e-06, 1.0454e-06, 2.6164e-06, 3.3942e-06, 2.1944e-07,\n",
      "        6.5653e-04, 3.9582e-03, 1.4537e-03, 5.1072e-06, 2.0670e-05, 1.5028e-04,\n",
      "        2.1811e-05, 3.3795e-04, 8.0800e-03, 1.0798e-02, 6.6662e-03, 5.2841e-06,\n",
      "        2.9246e-07, 8.0210e-05, 8.6107e-07, 2.2683e-06, 1.7507e-06, 1.7107e-05,\n",
      "        6.1678e-06, 2.1450e-06, 2.1466e-07, 3.1199e-08, 1.1563e-06, 2.6964e-07,\n",
      "        3.2196e-07, 1.2697e-05, 7.7165e-03, 3.9110e-03, 5.0790e-03, 1.9735e-06,\n",
      "        5.4127e-07, 6.9190e-06, 1.1672e-07, 1.4783e-06, 9.2845e-05, 9.8867e-03,\n",
      "        8.3030e-01, 6.9888e-02, 1.9524e-04, 1.2964e-02, 3.3976e-07, 1.9301e-03,\n",
      "        1.9642e-04, 9.5868e-07, 7.3612e-07, 3.8653e-06, 2.7651e-07, 5.8987e-05,\n",
      "        3.9501e-03, 2.6796e-06, 4.8326e-06, 4.8105e-05, 1.8579e-05, 1.9663e-07,\n",
      "        1.1442e-06, 4.2057e-05, 8.4458e-06, 4.9811e-03, 1.4540e-05, 2.6267e-05,\n",
      "        2.0979e-05, 5.4742e-04, 2.4037e-05, 3.6672e-05, 3.5777e-07, 2.4065e-05,\n",
      "        5.6699e-07, 1.9878e-06, 6.2310e-08, 1.4355e-07, 2.0988e-06, 1.1262e-07,\n",
      "        1.0031e-07, 1.2849e-07, 5.3104e-07, 3.5308e-08, 4.1689e-07, 2.2699e-07,\n",
      "        2.2900e-09, 1.2952e-08, 4.7359e-08, 8.9997e-08, 1.1326e-08, 9.8554e-09,\n",
      "        2.1910e-07, 1.0627e-07, 1.5832e-09, 2.7458e-08, 2.3348e-07, 3.2088e-07,\n",
      "        2.3553e-07, 5.0270e-07, 1.7378e-07, 1.7823e-08, 1.3587e-08, 6.6044e-08,\n",
      "        9.0809e-08, 1.3298e-09, 2.2760e-09, 9.0892e-09, 1.2526e-08, 7.6371e-09,\n",
      "        2.6513e-08, 1.7030e-07, 3.2989e-08, 7.1919e-08, 4.6443e-08, 2.5944e-07,\n",
      "        1.6392e-05, 2.5646e-04, 2.4833e-03, 7.6800e-05, 3.0090e-06, 5.1825e-05,\n",
      "        1.1265e-06, 4.7462e-07, 1.4061e-05, 4.3670e-07, 4.1302e-08, 5.4400e-06,\n",
      "        2.8962e-07, 1.3936e-08, 1.3944e-08, 5.9296e-07, 1.2218e-07, 3.5634e-08,\n",
      "        5.8646e-06, 4.4152e-08, 1.4776e-07, 3.2789e-09, 1.7723e-08, 3.1799e-07,\n",
      "        1.1685e-08, 1.0588e-04, 1.5348e-05, 1.3640e-06, 2.0940e-05, 3.0651e-05,\n",
      "        2.4482e-07, 9.4564e-06, 3.7124e-07, 1.0868e-06, 8.8361e-08, 6.2655e-08,\n",
      "        2.5217e-08, 1.8470e-08, 1.9936e-07, 1.7811e-08, 3.4517e-07, 1.7000e-06,\n",
      "        1.9770e-07, 2.0719e-06, 1.2514e-06, 6.2264e-08, 5.9024e-09, 4.7301e-06,\n",
      "        2.4375e-07, 1.9945e-07, 2.2064e-06, 3.2971e-07, 3.2204e-07, 1.2728e-06,\n",
      "        1.7046e-06, 4.6027e-09, 8.2547e-10, 1.0181e-06, 1.2746e-07, 4.5022e-07,\n",
      "        6.2792e-08, 7.0071e-07, 1.3727e-08, 6.5961e-08, 7.4990e-08, 1.8120e-06,\n",
      "        1.1253e-08, 2.4808e-08, 1.7414e-07, 6.9314e-08, 2.4229e-08, 6.0355e-07,\n",
      "        2.7061e-06, 4.5430e-08, 1.3682e-07, 1.7621e-07, 8.3578e-09, 4.9750e-07,\n",
      "        2.0484e-06, 5.1916e-07, 1.5261e-08, 1.3860e-06, 1.6236e-05, 9.2399e-07,\n",
      "        1.1459e-07, 3.7970e-07, 1.4329e-08, 1.8873e-07, 1.7288e-07, 6.7730e-07,\n",
      "        5.9126e-07, 4.4236e-07, 6.0707e-07, 1.8472e-07, 8.2659e-08, 9.2410e-07,\n",
      "        4.6792e-07, 3.4972e-05, 9.9547e-05, 4.5393e-06, 1.3769e-08, 1.5762e-06,\n",
      "        5.0675e-07, 3.4988e-08, 5.3897e-07, 1.7400e-06, 2.3352e-06, 1.5959e-06,\n",
      "        4.1947e-08, 2.0779e-07, 8.4712e-06, 6.4558e-07, 2.6782e-07, 1.9051e-07,\n",
      "        2.0012e-06, 1.6324e-07, 1.0822e-06, 6.5337e-06, 1.3561e-07, 2.2360e-07,\n",
      "        4.7360e-06, 1.0976e-07, 8.7181e-07, 1.9509e-07, 2.5715e-08, 1.0796e-07,\n",
      "        7.4701e-06, 8.9006e-06, 3.7580e-07, 1.5957e-07, 5.2290e-06, 1.0357e-06,\n",
      "        1.1012e-04, 5.2671e-05, 4.2434e-07, 2.1721e-07, 2.1461e-08, 8.4630e-09,\n",
      "        9.3324e-07, 3.7454e-06, 7.3124e-06, 3.7378e-06, 3.5296e-06, 1.1510e-07,\n",
      "        6.2279e-08, 9.5512e-08, 2.3855e-07, 8.9679e-07, 6.4345e-06, 4.3001e-06,\n",
      "        2.6086e-07, 6.8411e-08, 2.0529e-07, 9.9311e-07, 4.3039e-06, 6.4862e-07,\n",
      "        2.6209e-08, 7.8007e-07, 3.8681e-06, 2.8545e-05, 3.7998e-07, 1.7844e-06,\n",
      "        2.9170e-07, 3.4419e-07, 9.4269e-07, 1.5398e-07, 1.6389e-06, 9.3177e-08,\n",
      "        1.3482e-06, 4.7787e-07, 1.0066e-08, 1.9485e-06, 1.0830e-05, 4.2672e-06,\n",
      "        4.9004e-07, 1.1138e-06, 9.1309e-07, 9.2529e-07, 2.9936e-06, 3.0609e-08,\n",
      "        1.2123e-08, 1.9137e-06, 5.3054e-07, 1.1056e-06, 1.0666e-07, 4.6723e-06,\n",
      "        5.5198e-07, 2.6389e-08, 4.1260e-07, 6.4450e-06, 1.3940e-07, 1.3370e-07,\n",
      "        1.6536e-04, 2.6218e-06, 3.9410e-07, 1.7433e-07, 4.1548e-08, 2.9083e-07,\n",
      "        2.8496e-07, 3.0558e-07, 6.3086e-07, 2.6203e-08, 2.3569e-08, 6.0652e-07,\n",
      "        2.2991e-06, 4.2677e-07, 7.8955e-08, 5.0758e-06, 1.7482e-08, 6.8779e-05,\n",
      "        3.4251e-09, 2.2962e-07, 4.1848e-06, 1.0405e-06, 3.8210e-06, 2.4618e-06,\n",
      "        4.2842e-07, 6.1618e-09, 5.3948e-08, 3.5575e-07, 1.0572e-08, 9.2213e-08,\n",
      "        3.7167e-05, 6.3411e-07, 3.3904e-07, 3.7557e-07, 2.9412e-07, 4.8078e-06,\n",
      "        4.5713e-06, 1.1319e-06, 1.8600e-07, 4.7874e-07, 5.9186e-07, 9.0527e-07,\n",
      "        6.0906e-08, 2.6893e-08, 2.2913e-06, 9.9982e-07, 1.7304e-07, 5.0609e-07,\n",
      "        1.7231e-07, 4.5536e-07, 5.2733e-07, 4.9626e-06, 6.2295e-06, 2.1205e-06,\n",
      "        5.7065e-08, 1.1059e-06, 1.1969e-06, 8.7067e-07, 5.5700e-07, 1.7548e-06,\n",
      "        1.3940e-07, 2.3478e-08, 1.8630e-06, 9.3064e-07, 1.3520e-06, 1.9176e-06,\n",
      "        1.3583e-06, 7.8046e-07, 8.1695e-07, 2.0022e-07, 1.0841e-07, 1.4837e-07,\n",
      "        1.4648e-06, 5.0849e-08, 4.1064e-06, 1.2807e-06, 1.7657e-07, 9.2260e-08,\n",
      "        4.8354e-07, 2.5524e-06, 5.6300e-08, 4.5202e-08, 1.5991e-08, 2.8509e-07,\n",
      "        5.8680e-07, 2.1607e-07, 2.5374e-06, 2.8854e-07, 4.1311e-07, 1.9734e-07,\n",
      "        4.9488e-09, 2.0998e-06, 3.0799e-07, 1.6786e-06, 8.8315e-07, 3.2885e-07,\n",
      "        8.4783e-08, 9.9776e-08, 1.2368e-06, 3.3919e-05, 1.6036e-06, 3.8023e-07,\n",
      "        1.8997e-08, 1.6186e-07, 4.3947e-07, 3.1349e-06, 1.4959e-06, 3.8973e-06,\n",
      "        1.2536e-06, 3.0484e-06, 6.2363e-07, 5.8275e-07, 1.3441e-07, 2.4783e-07,\n",
      "        3.7679e-06, 2.0309e-06, 3.8502e-07, 2.1562e-07, 3.4836e-06, 1.5991e-06,\n",
      "        2.0279e-07, 2.4761e-07, 8.3104e-07, 3.0521e-07, 6.8900e-06, 1.3158e-07,\n",
      "        9.2566e-08, 1.2987e-07, 6.6900e-07, 2.8101e-07, 2.5624e-06, 4.6730e-05,\n",
      "        4.5822e-08, 1.6842e-06, 1.6064e-06, 2.8301e-05, 4.8026e-07, 1.5593e-07,\n",
      "        1.8008e-06, 3.3965e-07, 2.6141e-07, 8.9040e-09, 2.4791e-06, 1.7449e-07,\n",
      "        3.0641e-07, 8.6237e-07, 1.4638e-08, 4.3117e-07, 2.9507e-07, 9.4551e-07,\n",
      "        2.5855e-07, 1.3750e-06, 1.0229e-05, 3.5426e-07, 7.6847e-06, 9.0605e-07,\n",
      "        8.0181e-08, 6.1467e-08, 9.5402e-07, 5.3596e-07, 1.6593e-07, 6.5679e-07,\n",
      "        8.3474e-08, 1.5929e-06, 3.7230e-08, 6.2966e-08, 4.7282e-07, 2.4831e-07,\n",
      "        1.2934e-07, 1.0300e-07, 2.0521e-06, 7.8583e-07, 3.6362e-07, 3.7874e-06,\n",
      "        3.1836e-06, 3.0897e-07, 2.6604e-07, 2.1607e-06, 3.4649e-05, 5.0739e-07,\n",
      "        9.1085e-09, 2.6142e-06, 5.4483e-07, 5.4165e-08, 1.1281e-07, 9.1327e-07,\n",
      "        4.5163e-07, 4.3125e-07, 3.3360e-08, 7.4191e-08, 4.6817e-07, 1.2071e-07,\n",
      "        2.7035e-07, 3.4775e-08, 8.8645e-06, 1.0556e-06, 1.6237e-06, 2.9757e-06,\n",
      "        1.4359e-07, 1.3167e-06, 4.3485e-06, 2.2305e-05, 7.6890e-08, 8.5960e-07,\n",
      "        8.8747e-09, 3.6451e-07, 5.3267e-06, 1.5137e-07, 1.0537e-06, 6.6923e-05,\n",
      "        7.4396e-08, 4.8484e-05, 7.0330e-09, 6.5001e-07, 2.5980e-08, 3.2111e-07,\n",
      "        3.6964e-07, 1.8244e-08, 5.0944e-07, 1.5400e-07, 3.2367e-06, 1.6521e-08,\n",
      "        1.7036e-05, 2.6989e-07, 3.7400e-07, 6.4892e-06, 7.8335e-07, 1.4516e-05,\n",
      "        3.3903e-06, 3.9301e-05, 1.0771e-05, 3.1425e-06, 4.9378e-06, 8.1967e-08,\n",
      "        4.8106e-05, 3.5479e-07, 6.2126e-06, 3.1483e-07, 1.5537e-06, 2.0423e-05,\n",
      "        1.7494e-08, 9.5895e-06, 5.3306e-06, 2.9762e-06, 9.0725e-07, 2.2622e-08,\n",
      "        1.9300e-06, 6.1189e-07, 7.6442e-07, 2.8748e-07, 2.5639e-07, 4.8020e-08,\n",
      "        4.4060e-07, 7.7504e-07, 3.1007e-07, 7.0331e-07, 7.8625e-08, 9.6247e-08,\n",
      "        3.3385e-07, 2.7131e-07, 2.7978e-06, 1.0515e-06, 4.4754e-07, 4.9199e-07,\n",
      "        2.4201e-08, 2.1902e-06, 6.8253e-08, 5.6619e-08, 1.1455e-06, 1.9107e-06,\n",
      "        6.1121e-05, 1.5901e-06, 4.5963e-07, 2.4231e-07, 4.3908e-08, 4.5700e-06,\n",
      "        2.7126e-08, 6.5075e-07, 4.7211e-07, 9.4213e-08, 8.3145e-07, 1.0685e-06,\n",
      "        3.0158e-07, 1.4197e-05, 6.6103e-07, 3.0037e-07, 7.8213e-07, 5.7222e-08,\n",
      "        1.4809e-07, 8.5884e-06, 3.9223e-08, 9.5036e-07, 7.3888e-07, 4.1612e-07,\n",
      "        3.8056e-07, 6.5726e-06, 4.6336e-06, 1.2941e-07, 1.1257e-07, 4.0485e-07,\n",
      "        4.9622e-07, 1.8005e-05, 1.5965e-06, 2.2188e-06, 1.5157e-06, 1.9226e-06,\n",
      "        1.6532e-06, 2.0562e-08, 3.1499e-06, 8.5155e-07, 6.8987e-07, 2.0769e-05,\n",
      "        2.2714e-07, 2.0677e-06, 1.2234e-06, 2.9070e-06, 1.7913e-06, 6.7512e-07,\n",
      "        5.9088e-06, 5.4768e-07, 6.6581e-08, 7.0872e-08, 4.5414e-06, 2.8613e-06,\n",
      "        1.7365e-07, 1.4766e-06, 2.7468e-07, 1.1376e-06, 1.9202e-07, 2.6962e-06,\n",
      "        1.2406e-04, 1.5485e-07, 1.6924e-07, 1.2458e-06, 1.5717e-07, 7.8793e-09,\n",
      "        1.0798e-07, 4.2018e-08, 5.1216e-08, 6.5024e-07, 5.1441e-07, 4.5326e-07,\n",
      "        3.3495e-07, 9.3595e-09, 3.7404e-07, 1.4191e-06, 6.3541e-07, 5.5097e-07,\n",
      "        9.5614e-06, 2.3034e-06, 1.3032e-07, 1.5851e-08, 3.9380e-09, 4.4827e-07,\n",
      "        9.3790e-06, 1.0875e-07, 1.1909e-07, 1.9340e-05, 4.6176e-06, 6.1346e-07,\n",
      "        2.2519e-05, 2.7272e-07, 2.4799e-08, 7.8123e-08, 3.7809e-07, 2.0109e-09,\n",
      "        8.2829e-08, 4.2335e-07, 2.0325e-08, 9.9325e-08, 2.5617e-07, 2.9431e-07,\n",
      "        7.6842e-08, 1.3858e-06, 2.5660e-06, 3.0705e-06, 2.7318e-05, 1.9467e-06,\n",
      "        1.8253e-08, 3.0549e-07, 1.4173e-06, 3.2822e-07, 5.1450e-06, 4.5799e-07,\n",
      "        4.1337e-07, 2.8971e-06, 1.1367e-06, 9.5385e-07, 9.9672e-07, 9.7991e-07,\n",
      "        1.5353e-05, 6.7839e-07, 1.3549e-07, 9.7582e-08, 4.3272e-07, 3.1815e-09,\n",
      "        1.8463e-07, 3.5902e-07, 2.8727e-07, 5.1396e-08, 2.3341e-08, 4.0379e-07,\n",
      "        7.7844e-08, 2.6144e-08, 2.3666e-09, 3.1901e-07, 1.5370e-07, 2.7065e-05,\n",
      "        2.4362e-06, 2.3418e-07, 4.4093e-06, 1.0163e-08, 3.7309e-07, 1.9446e-06,\n",
      "        3.7269e-06, 2.0246e-06, 2.7814e-07, 1.1297e-06, 1.6989e-06, 4.5535e-08,\n",
      "        8.3805e-07, 6.1256e-07, 5.3641e-08, 1.6760e-08, 4.4251e-08, 8.8049e-08,\n",
      "        6.5732e-06, 2.4231e-06, 3.4349e-07, 2.9437e-07, 1.9982e-08, 3.2105e-07,\n",
      "        1.2023e-07, 3.4458e-07, 1.3067e-07, 6.8179e-07, 9.5958e-06, 1.7218e-07,\n",
      "        2.9187e-07, 9.8741e-07, 1.2198e-07, 5.1107e-08, 9.7979e-09, 6.3166e-08,\n",
      "        1.4853e-06, 3.6861e-09, 6.7289e-07, 2.1981e-06, 1.5383e-06, 3.7863e-06,\n",
      "        8.7545e-07, 8.8764e-09, 2.3495e-07, 9.1230e-06, 8.1576e-08, 2.9458e-06,\n",
      "        3.5886e-07, 1.2731e-07, 7.2442e-07, 4.9291e-07, 4.0808e-07, 3.9548e-08,\n",
      "        3.8268e-07, 2.9060e-07, 2.1999e-07, 3.5320e-06, 3.7342e-07, 3.1346e-08,\n",
      "        9.6835e-07, 8.3036e-08, 2.9030e-07, 5.2149e-10, 7.5826e-09, 3.6561e-08,\n",
      "        1.1612e-07, 2.2320e-08, 2.5588e-06, 1.3546e-05], device='cuda:0')\n"
     ]
    }
   ],
   "source": [
    "# sample execution (requires torchvision)\n",
    "from PIL import Image\n",
    "from torchvision import transforms\n",
    "input_image = Image.open(filename)\n",
    "preprocess = transforms.Compose([\n",
    "    transforms.Resize(256),\n",
    "    transforms.CenterCrop(224),\n",
    "    transforms.ToTensor(),\n",
    "    transforms.Normalize(mean=[0.485, 0.456, 0.406], std=[0.229, 0.224, 0.225]),\n",
    "])\n",
    "input_tensor = preprocess(input_image)\n",
    "input_batch = input_tensor.unsqueeze(0) # create a mini-batch as expected by the model\n",
    "\n",
    "# move the input and model to GPU for speed if available\n",
    "if torch.cuda.is_available():\n",
    "    input_batch = input_batch.to('cuda')\n",
    "    model.to('cuda')\n",
    "\n",
    "with torch.no_grad():\n",
    "    output = model(input_batch)\n",
    "# Tensor of shape 1000, with confidence scores over Imagenet's 1000 classes\n",
    "print(output[0])\n",
    "# The output has unnormalized scores. To get probabilities, you can run a softmax on it.\n",
    "print(torch.nn.functional.softmax(output[0], dim=0))"
   ]
  },
  {
   "cell_type": "code",
   "execution_count": null,
   "metadata": {},
   "outputs": [],
   "source": []
  },
  {
   "cell_type": "code",
   "execution_count": null,
   "metadata": {},
   "outputs": [],
   "source": []
  },
  {
   "cell_type": "code",
   "execution_count": null,
   "metadata": {},
   "outputs": [],
   "source": []
  },
  {
   "cell_type": "code",
   "execution_count": null,
   "metadata": {},
   "outputs": [],
   "source": []
  },
  {
   "cell_type": "code",
   "execution_count": null,
   "metadata": {},
   "outputs": [],
   "source": []
  },
  {
   "cell_type": "code",
   "execution_count": null,
   "metadata": {},
   "outputs": [],
   "source": []
  }
 ],
 "metadata": {
  "kernelspec": {
   "display_name": "Python 3",
   "language": "python",
   "name": "python3"
  },
  "language_info": {
   "codemirror_mode": {
    "name": "ipython",
    "version": 3
   },
   "file_extension": ".py",
   "mimetype": "text/x-python",
   "name": "python",
   "nbconvert_exporter": "python",
   "pygments_lexer": "ipython3",
   "version": "3.7.3"
  },
  "latex_envs": {
   "LaTeX_envs_menu_present": true,
   "autoclose": false,
   "autocomplete": true,
   "bibliofile": "biblio.bib",
   "cite_by": "apalike",
   "current_citInitial": 1,
   "eqLabelWithNumbers": true,
   "eqNumInitial": 1,
   "hotkeys": {
    "equation": "Ctrl-E",
    "itemize": "Ctrl-I"
   },
   "labels_anchors": false,
   "latex_user_defs": false,
   "report_style_numbering": false,
   "user_envs_cfg": false
  }
 },
 "nbformat": 4,
 "nbformat_minor": 2
}
